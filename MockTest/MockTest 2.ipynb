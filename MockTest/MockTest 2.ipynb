{
 "cells": [
  {
   "cell_type": "markdown",
   "id": "de4da8c9",
   "metadata": {},
   "source": [
    "# Question 1\n",
    "\n",
    "Given a non-negative integer x, return the square root of x rounded down to the nearest integer. The returned integer should be non-negative as well. You must not use any built-in exponent function or operator. \n",
    "\n",
    " Example 1:\n",
    "Input: x = 4 Output: 2 Explanation: The square root of 4 is 2, so we return 2.\n",
    "Example 2:\n",
    "\n",
    "Input: x = 8 Output: 2 Explanation: The square root of 8 is 2.82842..., and since we round it down to the nearest integer, 2 is returned.\n",
    "Constraints:\n",
    "\n",
    "0 <= x <= 2^31 - 1\n"
   ]
  },
  {
   "cell_type": "code",
   "execution_count": 12,
   "id": "8f19c530",
   "metadata": {},
   "outputs": [
    {
     "name": "stdout",
     "output_type": "stream",
     "text": [
      "The square root of 8 is 3\n",
      "The square root of 16 is 4\n"
     ]
    }
   ],
   "source": [
    "def find_square_root(n):\n",
    "    if n < 0:\n",
    "        return None  # Square root of negative numbers is undefined\n",
    "\n",
    "    # Initial guess\n",
    "    guess = n / 2\n",
    "\n",
    "    # Iterate until a satisfactory approximation is achieved\n",
    "    while True:\n",
    "        new_guess = (guess + n / guess) /2\n",
    "        if abs(new_guess - guess) < 0.0001:  # Adjust the tolerance as needed\n",
    "            return round(new_guess)\n",
    "        guess = new_guess\n",
    "\n",
    "# Example usage\n",
    "number = 8\n",
    "square_root = find_square_root(number)\n",
    "if square_root is not None:\n",
    "    print(f\"The square root of {number} is {square_root}\")\n",
    "else:\n",
    "    print(\"Cannot calculate the square root of a negative number.\")\n",
    "number = 16\n",
    "square_root = find_square_root(number)\n",
    "if square_root is not None:\n",
    "    print(f\"The square root of {number} is {square_root}\")\n",
    "else:\n",
    "    print(\"Cannot calculate the square root of a negative number.\")"
   ]
  },
  {
   "cell_type": "markdown",
   "id": "7cad8997",
   "metadata": {},
   "source": [
    "# Quesion 2 \n",
    "\n",
    "You are given two non-empty linked lists representing two non-negative integers. The digits are stored in reverse order, and each of their nodes contains a single digit. Add the two numbers and return the sum as a linked list.\n",
    "\n",
    "You may assume the two numbers do not contain any leading zero, except the number 0 itself.\n",
    "\n",
    "\n",
    "Example 1:\n",
    "\n",
    "Input: l1 = [2,4,3], l2 = [5,6,4] Output: [7,0,8] Explanation: 342 + 465 = 807.\n",
    "\n",
    "Example 2:\n",
    "\n",
    "Input: l1 = [0], l2 = [0] Output: [0]\n",
    "\n",
    "Example 3:\n",
    "\n",
    "Input: l1 = [9,9,9,9,9,9,9], l2 = [9,9,9,9] Output: [8,9,9,9,0,0,0,1]\n",
    "\n",
    "Constraints:\n",
    "\n",
    "The number of nodes in each linked list is in the range [1, 100].\n",
    "0 <= Node.val <= 9 It is guaranteed that the list represents a number that does not have leading zeros."
   ]
  },
  {
   "cell_type": "code",
   "execution_count": 11,
   "id": "5610d80d",
   "metadata": {},
   "outputs": [
    {
     "name": "stdout",
     "output_type": "stream",
     "text": [
      "7 0 8 "
     ]
    }
   ],
   "source": [
    "class ListNode:\n",
    "    def __init__(self,value):\n",
    "        self.value=value\n",
    "        self.next=None\n",
    "        \n",
    "def addTwoNumbers(l1,l2):\n",
    "     #initalise carry to 0 \n",
    "    carry=0\n",
    "    dummy=LinkedList(0)\n",
    "    current=dummy\n",
    "        \n",
    "    p,q=l1,l2 # pointers pointing to head of l1 and l2 repsectively \n",
    "        \n",
    "    while p or q:\n",
    "        x=p.value if p else 0\n",
    "        y=q.value if q else 0\n",
    "            \n",
    "        sum=x+y+carry  # addd twonumbers from list \n",
    "        carry=sum//10   \n",
    "            \n",
    "            \n",
    "        current.next=ListNode(sum%10)\n",
    "        current=current.next\n",
    "            \n",
    "        if p :\n",
    "            p=p.next\n",
    "        if q:\n",
    "            q=q.next\n",
    "                \n",
    "        if carry >0:\n",
    "            current.next=ListNode(carry)\n",
    "    return dummy.next\n",
    "    \n",
    "# Example usage\n",
    "l1 = ListNode(2)\n",
    "l1.next = ListNode(4)\n",
    "l1.next.next = ListNode(3)\n",
    "\n",
    "l2 = ListNode(5)\n",
    "l2.next = ListNode(6)\n",
    "l2.next.next = ListNode(4)\n",
    "\n",
    "result = addTwoNumbers(l1, l2)\n",
    "while result:\n",
    "    print(result.value, end=\" \")\n",
    "    result = result.next"
   ]
  },
  {
   "cell_type": "code",
   "execution_count": null,
   "id": "a21feb54",
   "metadata": {},
   "outputs": [],
   "source": []
  }
 ],
 "metadata": {
  "kernelspec": {
   "display_name": "Python 3 (ipykernel)",
   "language": "python",
   "name": "python3"
  },
  "language_info": {
   "codemirror_mode": {
    "name": "ipython",
    "version": 3
   },
   "file_extension": ".py",
   "mimetype": "text/x-python",
   "name": "python",
   "nbconvert_exporter": "python",
   "pygments_lexer": "ipython3",
   "version": "3.9.7"
  }
 },
 "nbformat": 4,
 "nbformat_minor": 5
}
