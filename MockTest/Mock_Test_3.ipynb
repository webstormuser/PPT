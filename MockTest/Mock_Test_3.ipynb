{
  "nbformat": 4,
  "nbformat_minor": 0,
  "metadata": {
    "colab": {
      "provenance": []
    },
    "kernelspec": {
      "name": "python3",
      "display_name": "Python 3"
    },
    "language_info": {
      "name": "python"
    }
  },
  "cells": [
    {
      "cell_type": "markdown",
      "source": [
        "Implement a stack using a list in Python. Include the necessary methods such as push, pop, and isEmpty."
      ],
      "metadata": {
        "id": "TB4yhHc6D013"
      }
    },
    {
      "cell_type": "code",
      "source": [
        "class Stack:\n",
        "  def __init__(self):\n",
        "    self.stack=[]\n",
        "\n",
        "  def push(self,value):\n",
        "    self.stack.append(value)\n",
        "\n",
        "  def pop(self):\n",
        "    if self.isEmpty():\n",
        "      return\n",
        "    return self.stack.pop()\n",
        "\n",
        "  def top(self):\n",
        "    return self.stack[-1]\n",
        "\n",
        "  def isEmpty(self):\n",
        "    return len(self.stack)==0\n",
        "\n",
        "\n",
        "s=Stack()\n",
        "s.push(10)\n",
        "s.push(11)\n",
        "s.push(12)\n",
        "s.push(13)\n",
        "print(\"elements in stack are \",s.stack)\n",
        "top_value=s.top()\n",
        "print(\"top element from stack is \",top_value)\n",
        "popped_value=s.pop()\n",
        "print(\"Elements popped from stack is \",popped_value)"
      ],
      "metadata": {
        "colab": {
          "base_uri": "https://localhost:8080/"
        },
        "id": "Vqxvv0xxD2wE",
        "outputId": "4330656f-3d03-4c6c-cc6f-2b2280f5e112"
      },
      "execution_count": 3,
      "outputs": [
        {
          "output_type": "stream",
          "name": "stdout",
          "text": [
            "elements in stack are  [10, 11, 12, 13]\n",
            "top element from stack is  13\n",
            "Elements popped from stack is  13\n"
          ]
        }
      ]
    },
    {
      "cell_type": "markdown",
      "source": [
        "Implement a queue using a list in Python. Include the necessary methods such as enqueue, dequeue, and isEmpty."
      ],
      "metadata": {
        "id": "JKhWsNsaFd2d"
      }
    },
    {
      "cell_type": "code",
      "source": [
        "class Queue:\n",
        "  def __init__(self):\n",
        "    self.que=[]\n",
        "\n",
        "  def enqueue(self,value):\n",
        "    self.que.append(value)\n",
        "\n",
        "  def dequeue(self):\n",
        "    return self.que.pop(0)\n",
        "\n",
        "  def isEmpty(self):\n",
        "    return len(self.que)==0\n",
        "\n",
        "q=Queue()\n",
        "q.enqueue(10)\n",
        "q.enqueue(20)\n",
        "q.enqueue(30)\n",
        "print(\"elements in queue are \",q.que)\n",
        "popped_element=q.dequeue()\n",
        "print(\"removed element is \",popped_element)"
      ],
      "metadata": {
        "colab": {
          "base_uri": "https://localhost:8080/"
        },
        "id": "6ii_Gt6bEygU",
        "outputId": "f8729cdf-2ca0-4469-e553-6fd3aa113c8e"
      },
      "execution_count": 4,
      "outputs": [
        {
          "output_type": "stream",
          "name": "stdout",
          "text": [
            "elements in queue are  [10, 20, 30]\n",
            "removed element is  10\n"
          ]
        }
      ]
    },
    {
      "cell_type": "code",
      "source": [],
      "metadata": {
        "id": "0p8ei-oCGj33"
      },
      "execution_count": null,
      "outputs": []
    }
  ]
}