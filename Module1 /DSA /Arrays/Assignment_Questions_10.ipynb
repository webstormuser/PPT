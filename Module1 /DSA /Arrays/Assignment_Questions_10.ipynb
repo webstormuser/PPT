{
 "cells": [
  {
   "cell_type": "markdown",
   "metadata": {
    "id": "CZjLmjRN6CvB"
   },
   "source": [
    "# Question 1\n",
    "\n",
    "Given an integer `n`, return *`true` if it is a power of three. Otherwise, return `false`*.\n",
    "\n",
    "An integer `n` is a power of three, if there exists an integer `x` such that `n == 3x`.\n",
    "\n",
    "**Example 1:**\n",
    "\n",
    "```\n",
    "Input: n = 27\n",
    "Output: true\n",
    "Explanation: 27 = 33\n",
    "```\n",
    "\n",
    "**Example 2:**\n",
    "\n",
    "```\n",
    "Input: n = 0\n",
    "Output: false\n",
    "Explanation: There is no x where 3x = 0.\n",
    "\n",
    "**Example 3:**"
   ]
  },
  {
   "cell_type": "markdown",
   "metadata": {
    "id": "j6Y4Ewjz6Luq"
   },
   "source": [
    "# algorithm\n",
    "1.check if num==1 return true\n",
    "\n",
    "2.check if num%3!=0 or num<=0 then return False\n",
    "\n",
    "3.otherwise call function ispowerofthreee(n//3) /* this time number will be passed to the function is number divided by 3 upto getting 1\n",
    "\n",
    "Time complexity: O(logn) Space comllexity: O(1)"
   ]
  },
  {
   "cell_type": "code",
   "execution_count": 9,
   "metadata": {
    "id": "2j3a_M8Y6KIs"
   },
   "outputs": [
    {
     "name": "stdout",
     "output_type": "stream",
     "text": [
      "False\n",
      "True\n"
     ]
    }
   ],
   "source": [
    "def is_power_three(num):\n",
    "    if num==1: \n",
    "        return True\n",
    "    if (num%3!=0) or(num<=0):\n",
    "        return False\n",
    "    else :\n",
    "        return is_power_three(num//3)\n",
    "num=24\n",
    "result=is_power_three(num)\n",
    "print(result)\n",
    "num=27\n",
    "result=is_power_three(num)\n",
    "print(result)"
   ]
  },
  {
   "cell_type": "markdown",
   "metadata": {},
   "source": [
    "# Question 2\n",
    "\n",
    "You have a list `arr` of all integers in the range `[1, n]` sorted in a strictly increasing order. Apply the following algorithm on `arr`:\n",
    "\n",
    "- Starting from left to right, remove the first number and every other number afterward until you reach the end of the list.\n",
    "- Repeat the previous step again, but this time from right to left, remove the rightmost number and every other number from the remaining numbers.\n",
    "- Keep repeating the steps again, alternating left to right and right to left, until a single number remains.\n",
    "\n",
    "Given the integer `n`, return *the last number that remains in* `arr`.\n",
    "\n",
    "**Example 1:**\n",
    "Input: n = 9\n",
    "Output: 6\n",
    "Explanation:\n",
    "arr = [1, 2,3, 4,5, 6,7, 8,9]\n",
    "arr = [2,4, 6,8]\n",
    "arr = [2, 6]\n",
    "arr = [6]"
   ]
  },
  {
   "cell_type": "markdown",
   "metadata": {},
   "source": [
    "# Algorithm:\n",
    "1.if n==1\n",
    "  means only 1 elment is there return n\n",
    "2.else return (2*1+n//2-callfunction(n//2))\n",
    "time complexity:O(log2n)\n",
    "space complexity:O(1)"
   ]
  },
  {
   "cell_type": "code",
   "execution_count": 28,
   "metadata": {},
   "outputs": [
    {
     "name": "stdout",
     "output_type": "stream",
     "text": [
      "6\n"
     ]
    }
   ],
   "source": [
    "def find_single_element(n):\n",
    "    if n==1:\n",
    "            return 1\n",
    "    else:\n",
    "            return (2*(1+n//2-find_single_element(n//2)))\n",
    "n=9\n",
    "print(find_single_element(n)) "
   ]
  },
  {
   "cell_type": "markdown",
   "metadata": {},
   "source": [
    "# Question 3\n",
    "\n",
    "Given a set represented as a string, write a recursive code to print all subsets of it. The subsets can be printed in any order.\n",
    "\n",
    "**Example 1:**\n",
    "\n",
    "Input :  set = “abc”\n",
    "\n",
    "Output : { “”, “a”, “b”, “c”, “ab”, “ac”, “bc”, “abc”}\n",
    "\n",
    "**Example 2:**\n",
    "\n",
    "Input : set = “abcd”\n",
    "\n",
    "Output : { “”, “a” ,”ab” ,”abc” ,”abcd”, “abd” ,”ac” ,”acd”, “ad” ,”b”, “bc” ,”bcd” ,”bd” ,”c” ,”cd” ,”d” }\n",
    "\n",
    "</aside>\n"
   ]
  },
  {
   "cell_type": "markdown",
   "metadata": {},
   "source": [
    "# algorithm:\n",
    "1.define function substring(s) which accept string of n length\n",
    "\n",
    "2.if empty string passed return empty list\n",
    "\n",
    "3.if len(string)==1 return 1st character \n",
    "\n",
    "4.else iterate(i) for each character in string \n",
    "\n",
    "   start loop (j)from just next to character upto len+1\n",
    "    \n",
    "    print string [i:j]\n",
    "\n",
    "5.end\n",
    "\n",
    "Time complexity:O(n2)\n",
    "Space Complexity:O(1)"
   ]
  },
  {
   "cell_type": "code",
   "execution_count": 116,
   "metadata": {},
   "outputs": [
    {
     "name": "stdout",
     "output_type": "stream",
     "text": [
      "a\n",
      "ab\n",
      "abc\n",
      "b\n",
      "bc\n",
      "c\n"
     ]
    }
   ],
   "source": [
    "# Python program to print all possible\n",
    "# substrings of a given string\n",
    "  \n",
    "# Function to print all sub strings\n",
    "def subString(s):\n",
    "    # Pick starting point in outer loop\n",
    "    # and lengths of different strings for\n",
    "    # a given starting point\n",
    "    if len(s)==0:\n",
    "        return []\n",
    "    elif len(s)==1:\n",
    "        return s[0]\n",
    "    else:\n",
    "        for i in range(len(s)):\n",
    "            for j in range(i+1,len(s)+1):\n",
    "                print(s[i:j]) \n",
    "    #Driver program to test above function\n",
    "s = \"abc\";\n",
    "subString(s);"
   ]
  },
  {
   "cell_type": "markdown",
   "metadata": {},
   "source": [
    "# Question 4\n",
    "\n",
    "Given a string calculate length of the string using recursion.\n",
    "\n",
    "**Examples:**\n",
    "\n",
    "Input : str = \"abcd\"\n",
    "Output :4\n",
    "\n",
    "Input : str = \"GEEKSFORGEEKS\"\n",
    "Output :13"
   ]
  },
  {
   "cell_type": "markdown",
   "metadata": {},
   "source": [
    "# algorithm:\n",
    "1.base case is if string is empty return 0 \n",
    "\n",
    "2.else return 1+callfunction(string[1:]) //this take input of string character from 1st to last since we have added 1 to function len of 1st char in string is alrady added \n",
    "\n",
    "Time complexity:O(n!) where n is length of string \n",
    "Space Complexity :O(1)"
   ]
  },
  {
   "cell_type": "code",
   "execution_count": 32,
   "metadata": {},
   "outputs": [
    {
     "name": "stdout",
     "output_type": "stream",
     "text": [
      "4\n",
      "13\n"
     ]
    }
   ],
   "source": [
    "def string_len(string):\n",
    "    if string==\"\":\n",
    "        return 0\n",
    "    else:\n",
    "        return 1+string_len(string[1:])\n",
    "string=\"abcd\"\n",
    "print(string_len(string))\n",
    "string=\"GEEKSFORGEEKS\"\n",
    "print(string_len(string))"
   ]
  },
  {
   "cell_type": "markdown",
   "metadata": {},
   "source": [
    "# Question 5\n",
    "\n",
    "We are given a string S, we need to find count of all contiguous substrings starting and ending with same character.\n",
    "\n",
    "**Examples :**\n",
    "\n",
    "Input  : S = \"abcab\"\n",
    "Output : 7\n",
    "There are 15 substrings of \"abcab\"\n",
    "a, ab, abc, abca, abcab, b, bc, bca\n",
    "bcab, c, ca, cab, a, ab, b\n",
    "Out of the above substrings, there\n",
    "are 7 substrings : a, abca, b, bcab,\n",
    "c, a and b.\n",
    "\n",
    "Input  : S = \"aba\"\n",
    "Output : 4\n",
    "The substrings are a, b, a and ab\n"
   ]
  },
  {
   "cell_type": "code",
   "execution_count": null,
   "metadata": {},
   "outputs": [],
   "source": []
  },
  {
   "cell_type": "code",
   "execution_count": 135,
   "metadata": {},
   "outputs": [
    {
     "name": "stdout",
     "output_type": "stream",
     "text": [
      "7\n"
     ]
    }
   ],
   "source": [
    "def countSubstrs(str, i, j, n):\n",
    " \n",
    "    # base cases\n",
    "    if (n == 1):\n",
    "        return 1\n",
    "    if (n <= 0):\n",
    "        return 0\n",
    " \n",
    "    res = (countSubstrs(str, i + 1, j, n - 1)\n",
    "        + countSubstrs(str, i, j - 1, n - 1)\n",
    "        - countSubstrs(str, i + 1, j - 1, n - 2))    \n",
    " \n",
    "    if (str[i] == str[j]):\n",
    "        res += 1\n",
    " \n",
    "    return res\n",
    " \n",
    "# driver code\n",
    "str = \"abcab\"\n",
    "n = len(str)\n",
    "print(countSubstrs(str, 0, n - 1, n))"
   ]
  },
  {
   "cell_type": "markdown",
   "metadata": {},
   "source": [
    "# Question 6\n",
    "\n",
    "The [tower of Hanoi](https://en.wikipedia.org/wiki/Tower_of_Hanoi) is a famous puzzle where we have three rods and **N** disks. The objective of the puzzle is to move the entire stack to another rod. You are given the number of discs **N**. Initially, these discs are in the rod 1. You need to print all the steps of discs movement so that all the discs reach the 3rd rod. Also, you need to find the total moves.**Note:** The discs are arranged such that the **top disc is numbered 1** and the **bottom-most disc is numbered N**. Also, all the discs have **different sizes** and a bigger disc **cannot** be put on the top of a smaller disc. Refer the provided link to get a better clarity about the puzzle.\n",
    "\n",
    "**Example 1:**\n",
    "Input:\n",
    "N = 2\n",
    "Output:\n",
    "move disk 1 from rod 1 to rod 2\n",
    "move disk 2 from rod 1 to rod 3\n",
    "move disk 1 from rod 2 to rod 3\n",
    "3\n",
    "Explanation:For N=2 , steps will be\n",
    "as follows in the example and total\n",
    "3 steps will be taken."
   ]
  },
  {
   "cell_type": "markdown",
   "metadata": {},
   "source": [
    "# Algorithm \n",
    "\n",
    "1.Recursively solve the puzzle of shifting disks 1 , 2 , 3 from Rod A to Rod B.\n",
    "\n",
    "2. Then move the largest disk 4 from Rod A to destination Rod C.\n",
    "\n",
    "3. Recursively solve the puzzle of shifting the disk 1 , 2 , 3 from Rod B to Rod C."
   ]
  },
  {
   "cell_type": "code",
   "execution_count": 154,
   "metadata": {},
   "outputs": [
    {
     "name": "stdout",
     "output_type": "stream",
     "text": [
      "Enter the number of disks3\n",
      "Move disk 1 from rod A to rod C\n",
      "Move disk 2 from rod A to rod B\n",
      "Move disk 1 from rod C to rod B\n",
      "Move disk 3 from rod A to rod C\n",
      "Move disk 1 from rod B to rod A\n",
      "Move disk 2 from rod B to rod C\n",
      "Move disk 1 from rod A to rod C\n"
     ]
    }
   ],
   "source": [
    "def TowerOfHanoi(n , from_rod, to_rod, aux_rod):\n",
    "    if n == 1:\n",
    "        print(\"Move disk 1 from rod\",from_rod,\"to rod\",to_rod)\n",
    "        return\n",
    "    TowerOfHanoi(n-1, from_rod, aux_rod, to_rod)\n",
    "    print(\"Move disk\",n,\"from rod\",from_rod,\"to rod\",to_rod)\n",
    "    TowerOfHanoi(n-1, aux_rod, to_rod, from_rod)\n",
    "         \n",
    "\n",
    "n = int(input(\"Enter the number of disks\"))\n",
    "TowerOfHanoi(n, 'A', 'C', 'B')"
   ]
  },
  {
   "cell_type": "markdown",
   "metadata": {},
   "source": [
    "# Question 7\n",
    "\n",
    "Given a string **str**, the task is to print all the permutations of **str**. A **permutation** is an arrangement of all or part of a set of objects, with regard to the order of the arrangement. For instance, the words ‘bat’ and ‘tab’ represents two distinct permutation (or arrangements) of a similar three letter word.\n",
    "\n",
    "**Examples:**\n",
    "\n",
    "Input: str = “cd”\n",
    "\n",
    " **Output:** cd dc\n",
    "\n",
    "**Input:** str = “abb”\n",
    "\n",
    "**Output:** abb abb bab bba bab bba\n"
   ]
  },
  {
   "cell_type": "markdown",
   "metadata": {},
   "source": [
    "# Algorithm :\n",
    "1.check len(string) if ==1 return string\n",
    "\n",
    "2.take result=[]\n",
    "\n",
    "3.for each letter in string\n",
    "\n",
    "strore letter in char //char=string[i]\n",
    "\n",
    "strore remainnig characters except i in remain_char\n",
    "\n",
    "call recursive function for remain_char and strore into permutaion\n",
    "\n",
    "for each permutation_string in of remain_characters which are stored in permutation append char+permutaion_string in result\n",
    "4.return result\n",
    "\n",
    "5.end\n",
    "\n",
    "TimeComplexity:O(n!) space Complexity:O(n)"
   ]
  },
  {
   "cell_type": "code",
   "execution_count": 153,
   "metadata": {},
   "outputs": [
    {
     "name": "stdout",
     "output_type": "stream",
     "text": [
      "['abb', 'abb', 'bab', 'bba', 'bab', 'bba']\n"
     ]
    }
   ],
   "source": [
    "def find_permutation(string):\n",
    "    if len(string)==1: \n",
    "        return [string]\n",
    "    result=[]\n",
    "    for i in range(len(string)): \n",
    "        char=string[i]\n",
    "        remain_char=string[:i]+string[i+1:]\n",
    "        permutation =find_permutation(remain_char)\n",
    "        for per in permutation:\n",
    "            result.append(char+per)\n",
    "    return result \n",
    "string=\"abb\"\n",
    "result=find_permutation(string)\n",
    "print(result)"
   ]
  },
  {
   "cell_type": "markdown",
   "metadata": {},
   "source": [
    "# Question 8\n",
    "\n",
    "Given a string, count total number of consonants in it. A consonant is an English alphabet character that is not vowel (a, e, i, o and u). Examples of constants are b, c, d, f, and g.\n",
    "\n",
    "**Examples :**\n",
    "Input : abc de\n",
    "Output : 3\n",
    "There are three consonants b, c and d.\n",
    "\n",
    "Input : geeksforgeeks portal\n",
    "Output : 12"
   ]
  },
  {
   "cell_type": "markdown",
   "metadata": {},
   "source": [
    "# Algorithm\n",
    "\n",
    "1.define function count_consonants(Strings) which accept strings of words \n",
    "\n",
    "2.define count=0 which keep track for every consonants \n",
    "\n",
    "3.define tuple of vowels \n",
    "\n",
    "4.for each string in groupof string split by space \n",
    "\n",
    "   * iterate each char in string \n",
    "    \n",
    "     * if char not in vewoels means it is consonats\n",
    "         \n",
    "            * count=count+1\n",
    "5.return count\n",
    "\n",
    "Time Complexity:O(n2)\n",
    "Space Complexity:O(1)"
   ]
  },
  {
   "cell_type": "code",
   "execution_count": 47,
   "metadata": {},
   "outputs": [
    {
     "name": "stdout",
     "output_type": "stream",
     "text": [
      "3\n",
      "12\n"
     ]
    }
   ],
   "source": [
    "def count_consonants(Strings):\n",
    "    count=0\n",
    "    vowels=('a','e','i','o','u')\n",
    "    for string in Strings.split(' '):\n",
    "            for i in string:\n",
    "                if i not in vowels:\n",
    "                    count+=1\n",
    "    return count\n",
    "Strings=\"abc de\"\n",
    "result=count_consonants(String)\n",
    "print(result)\n",
    "String =\"geeksforgeeks portal\"\n",
    "result=count_consonants(String)\n",
    "print(result)\n",
    "    "
   ]
  },
  {
   "cell_type": "code",
   "execution_count": null,
   "metadata": {},
   "outputs": [],
   "source": []
  }
 ],
 "metadata": {
  "colab": {
   "provenance": []
  },
  "kernelspec": {
   "display_name": "Python 3 (ipykernel)",
   "language": "python",
   "name": "python3"
  },
  "language_info": {
   "codemirror_mode": {
    "name": "ipython",
    "version": 3
   },
   "file_extension": ".py",
   "mimetype": "text/x-python",
   "name": "python",
   "nbconvert_exporter": "python",
   "pygments_lexer": "ipython3",
   "version": "3.9.7"
  }
 },
 "nbformat": 4,
 "nbformat_minor": 1
}
