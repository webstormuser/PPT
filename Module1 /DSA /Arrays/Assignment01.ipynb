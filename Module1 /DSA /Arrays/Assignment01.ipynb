{
 "cells": [
  {
   "cell_type": "markdown",
   "id": "48583411",
   "metadata": {},
   "source": [
    "# Assignment Questions 1"
   ]
  },
  {
   "cell_type": "markdown",
   "id": "6b5516ae",
   "metadata": {},
   "source": [
    "<aside>\n",
    "💡 **Q1.** Given an array of integers nums and an integer target, return indices of the two numbers such that they add up to target.\n",
    "\n",
    "You may assume that each input would have exactly one solution, and you may not use the same element twice.\n",
    "\n",
    "You can return the answer in any order.\n",
    "\n",
    "**Example:**\n",
    "Input: nums = [2,7,11,15], target = 9\n",
    "Output0 [0,1]\n",
    "\n",
    "**Explanation:** Because nums[0] + nums[1] == 9, we return [0, 1][\n",
    "\n",
    "</aside>"
   ]
  },
  {
   "cell_type": "markdown",
   "id": "2c758f40",
   "metadata": {},
   "source": [
    "Algorithm:\n",
    "    step1: create an empty dictionary which will maintain array index and array number\n",
    "    step2: iterate for every index and every number in arr\n",
    "         a: calculate compliemnt of number using \n",
    "                compliment =target-num\n",
    "         b: check compliment is in result and result[compliment]!= i\n",
    "            if yes then return compliment from result and index\n",
    "    "
   ]
  },
  {
   "cell_type": "code",
   "execution_count": 3,
   "id": "fea16cda",
   "metadata": {},
   "outputs": [
    {
     "name": "stdout",
     "output_type": "stream",
     "text": [
      "[1, 2]\n"
     ]
    }
   ],
   "source": [
    "#Soultion :\n",
    "def target_sum(arr,target):\n",
    "    result={}\n",
    "    for i ,num in enumerate(arr):\n",
    "        compliment=target-num\n",
    "        if compliment in result and result[compliment]!=i:\n",
    "            return [result[compliment],i]\n",
    "        result[num]=i\n",
    "    return result\n",
    "arr=[2,7,11,15]\n",
    "target=18\n",
    "res=target_sum(arr,target)\n",
    "print(res)"
   ]
  },
  {
   "cell_type": "markdown",
   "id": "455853b9",
   "metadata": {},
   "source": [
    "<aside>\n",
    "💡 **Q2.** Given an integer array nums and an integer val, remove all occurrences of val in nums in-place. The order of the elements may be changed. Then return the number of elements in nums which are not equal to val.\n",
    "\n",
    "Consider the number of elements in nums which are not equal to val be k, to get accepted, you need to do the following things:\n",
    "\n",
    "- Change the array nums such that the first k elements of nums contain the elements which are not equal to val. The remaining elements of nums are not important as well as the size of nums.\n",
    "- Return k.\n",
    "\n",
    "**Example :**\n",
    "Input: nums = [3,2,2,3], val = 3\n",
    "Output: 2, nums = [2,2,_*,_*]\n",
    "\n",
    "</aside>\n"
   ]
  },
  {
   "cell_type": "code",
   "execution_count": null,
   "id": "dc29cce9",
   "metadata": {},
   "outputs": [],
   "source": [
    "Solution : Algorithm:\n",
    "        1: take a counter which will keep maintainning occurance of val\n",
    "        2. iterate for each number in arr\n",
    "         a. if number from array!=val\n",
    "             then re"
   ]
  },
  {
   "cell_type": "code",
   "execution_count": 8,
   "id": "ec7b718d",
   "metadata": {},
   "outputs": [
    {
     "name": "stdout",
     "output_type": "stream",
     "text": [
      "(3, [1, 2, 2, 4, 5, 6])\n"
     ]
    }
   ],
   "source": [
    "from collections import Counter\n",
    "def remove_val(arr,val):\n",
    "    count=0\n",
    "    new_arr=[]\n",
    "    for i in arr:\n",
    "        if i!=val:\n",
    "            new_arr.append(i)\n",
    "        else:\n",
    "            count=count+1\n",
    "    return count,new_arr\n",
    "nums=[1,2,2,4,5,6,7,7,7]\n",
    "result=remove_val(nums,7)\n",
    "print(result)"
   ]
  },
  {
   "cell_type": "markdown",
   "id": "c6e8c62c",
   "metadata": {},
   "source": [
    "<aside>\n",
    "💡 **Q3.** Given a sorted array of distinct integers and a target value, return the index if the target is found. If not, return the index where it would be if it were inserted in order.\n",
    "\n",
    "You must write an algorithm with O(log n) runtime complexity.\n",
    "\n",
    "**Example 1:**\n",
    "Input: nums = [1,3,5,6], target = 5\n",
    "\n",
    "Output: 2\n",
    "\n",
    "</aside>"
   ]
  },
  {
   "cell_type": "markdown",
   "id": "5c6ecfcd",
   "metadata": {},
   "source": [
    "Algorithm:\n",
    "    let arr be the array of numbers and target is whose index is to be found \n",
    "    \n",
    "    1:initialize left=0 which points to start of array and right=len(arr)-1 which points to end of array\n",
    "    \n",
    "    2. while left<=right\n",
    "    \n",
    "       a. find middle element index =(left+right)//2\n",
    "       \n",
    "       b. if arr[mid]==target \n",
    "            return  mid position\n",
    "            \n",
    "       c elseif arr[mid]>target \n",
    "          * set the last index of 1st array which is divided based on mid to mid-1\n",
    "          *  right=mid-1\n",
    "          \n",
    "       d else set left index=mid+1\n",
    "       \n",
    "    3 after all iteration retrun the index left which shows at what index number must be inserted if is not present\n",
    "    \n",
    "    \n",
    "  Time complexity :O(n)\n",
    "  \n",
    "  Space Complexity : O(n)"
   ]
  },
  {
   "cell_type": "code",
   "execution_count": 12,
   "id": "f23aadae",
   "metadata": {},
   "outputs": [
    {
     "name": "stdout",
     "output_type": "stream",
     "text": [
      "1\n",
      "2\n"
     ]
    }
   ],
   "source": [
    "def return_index(arr,target):\n",
    "    arr.sort()\n",
    "    i=0\n",
    "    j=len(arr)-1\n",
    "    while i<=j:\n",
    "        mid=(i+j)//2\n",
    "        if arr[mid]==target:\n",
    "            return mid\n",
    "        elif arr[mid]>target:\n",
    "            j=mid-1\n",
    "        else:\n",
    "            i=mid+1\n",
    "    return i\n",
    "arr=[1,6,3,9]\n",
    "target=3\n",
    "result=return_index(arr,target)\n",
    "print(result)\n",
    "target=4\n",
    "result=return_index(arr,target)\n",
    "print(result)"
   ]
  },
  {
   "cell_type": "markdown",
   "id": "1d884ba7",
   "metadata": {},
   "source": [
    "<aside>\n",
    "💡 **Q4.** You are given a large integer represented as an integer array digits, where each digits[i] is the ith digit of the integer. The digits are ordered from most significant to least significant in left-to-right order. The large integer does not contain any leading 0's.\n",
    "\n",
    "Increment the large integer by one and return the resulting array of digits.\n",
    "\n",
    "**Example 1:**\n",
    "Input: digits = [1,2,3]\n",
    "Output: [1,2,4]\n",
    "\n",
    "**Explanation:** The array represents the integer 123.\n",
    "\n",
    "Incrementing by one gives 123 + 1 = 124.\n",
    "Thus, the result should be [1,2,4].\n",
    "\n",
    "</aside>\n"
   ]
  },
  {
   "cell_type": "markdown",
   "id": "3668ec8b",
   "metadata": {},
   "source": [
    "Algorithm:\n",
    "    1. input a large number as num\n",
    "    2. conver this integer number into list and sort it \n",
    "    3. initialize a carry variable=1 which indicate we have to increment least significant digit by 1\n",
    "    4. iterate each digits from list from right to left\n",
    "     a. add 1 to last digit \n",
    "     b. update the carry digit by dividing numbers from list by 10\n",
    "     c. update current digit as a remainder of current digit divided by 10\n",
    "     d. if still there is nonzero carry left after loop move it to left and reverse the number"
   ]
  },
  {
   "cell_type": "code",
   "execution_count": 16,
   "id": "1aacda28",
   "metadata": {},
   "outputs": [
    {
     "name": "stdout",
     "output_type": "stream",
     "text": [
      "[1, 5, 5, 7, 9]\n"
     ]
    }
   ],
   "source": [
    "def range_array(num):\n",
    "    digits=list(str(num))\n",
    "    digits.sort()\n",
    "    carry=1\n",
    "    for i in range(len(digits)-1,-1,-1):\n",
    "        digit=int(digits[i])+carry\n",
    "        carry=digit//10\n",
    "        digits[i]=digit%10\n",
    "        if carry:\n",
    "            digits.insert(0,carry)\n",
    "    return digits\n",
    "num=15578\n",
    "result=range_array(num)\n",
    "print(result)"
   ]
  },
  {
   "cell_type": "markdown",
   "id": "ba81d30c",
   "metadata": {},
   "source": [
    "<aside>\n",
    "💡 **Q5.** You are given two integer arrays nums1 and nums2, sorted in non-decreasing order, and two integers m and n, representing the number of elements in nums1 and nums2 respectively.\n",
    "\n",
    "Merge nums1 and nums2 into a single array sorted in non-decreasing order.\n",
    "\n",
    "The final sorted array should not be returned by the function, but instead be stored inside the array nums1. To accommodate this, nums1 has a length of m + n, where the first m elements denote the elements that should be merged, and the last n elements are set to 0 and should be ignored. nums2 has a length of n.\n",
    "\n",
    "**Example 1:**\n",
    "Input: nums1 = [1,2,3,0,0,0], m = 3, nums2 = [2,5,6], n = 3\n",
    "Output: [1,2,2,3,5,6]\n",
    "\n",
    "**Explanation:** The arrays we are merging are [1,2,3] and [2,5,6].\n",
    "The result of the merge is [1,2,2,3,5,6] with the underlined elements coming from nums1.\n",
    "\n",
    "</aside>"
   ]
  },
  {
   "cell_type": "markdown",
   "id": "a388a529",
   "metadata": {},
   "source": [
    "Algorithm:\n",
    "    1.take two input array arr1 and arr2\n",
    "    \n",
    "    2.let m and n be the no of elements from arr1 and arr2 respectively\n",
    "    \n",
    "    3. initialize pointers \n",
    "       i=m-1\n",
    "       j=n-1\n",
    "       k=m+n-1\n",
    "        \n",
    "    4.repeate while i>=0 and j>=0\n",
    "    \n",
    "      a. if arr1[i]>=arr2[j] then \n",
    "         move elemnts from 1st array at k index  and decrement i\n",
    "            arr1[k]=arr1[i]\n",
    "            i=i-1\n",
    "            \n",
    "      b else \n",
    "         move 2nd array elemnts at k  index and decrement j\n",
    "         arr1[k]=arr2[j]\n",
    "            j=j-1\n",
    "            \n",
    "    4. if after whole repeatation some elemnts from 2nd array move it into first array \n",
    "    \n",
    "    \n",
    "    \n",
    "Time complexity :O(m+n)\n",
    "Space Complexity=O(n)"
   ]
  },
  {
   "cell_type": "code",
   "execution_count": 38,
   "id": "1337572e",
   "metadata": {},
   "outputs": [
    {
     "name": "stdout",
     "output_type": "stream",
     "text": [
      "[1, 2, 2, 3, 3, 4, 7]\n"
     ]
    }
   ],
   "source": [
    "def merge_array(arr1,m,arr2,n):\n",
    "    i=m-1\n",
    "    j=n-1\n",
    "    k=m+n-1\n",
    "    while i>=0 and  j>=0:\n",
    "        if arr1[i]>=arr2[j]:\n",
    "            arr1[k]=arr1[i]\n",
    "            i=i-1\n",
    "        else:\n",
    "            arr1[k]=arr2[j]\n",
    "            j=j-1\n",
    "        k=k-1\n",
    "    while j>=0:\n",
    "        arr1[k]=arr2[j]\n",
    "        j=j-1\n",
    "        k=k-1\n",
    "    while i>=0:\n",
    "        arr1[k]=arr1[i]\n",
    "        i=i-1\n",
    "        k=k-1\n",
    "arr1=[1,2,3,4,0,0,0]\n",
    "m=4\n",
    "arr2=[2,3,7]\n",
    "n=3\n",
    "result=merge_array(arr1,m,arr2,n)\n",
    "print(arr1)"
   ]
  },
  {
   "cell_type": "markdown",
   "id": "ae8f79f7",
   "metadata": {},
   "source": [
    "<aside>\n",
    "💡 **Q6.** Given an integer array nums, return true if any value appears at least twice in the array, and return false if every element is distinct.\n",
    "\n",
    "**Example 1:**\n",
    "Input: nums = [1,2,3,1]\n",
    "\n",
    "Output: true\n",
    "\n",
    "</aside>"
   ]
  },
  {
   "cell_type": "markdown",
   "id": "911a8db7",
   "metadata": {},
   "source": [
    "Algorithm:\n",
    "    1: accept input array  \n",
    "    2. take variable flag and assign flag=0 which will reset if any duplicate number found\n",
    "    3 for each element iterate and count \n",
    "     if count >=2 means duplicate numbers are there and set flag=1 \n",
    "        else flag=0\n",
    "    4. if flag=1 return True else return False"
   ]
  },
  {
   "cell_type": "code",
   "execution_count": 48,
   "id": "2771814e",
   "metadata": {},
   "outputs": [
    {
     "name": "stdout",
     "output_type": "stream",
     "text": [
      "False\n"
     ]
    }
   ],
   "source": [
    "from collections import Counter\n",
    "def duplicate_array(arr):\n",
    "    flag=0\n",
    "    counter=Counter(arr)\n",
    "    for count,num in counter.items():\n",
    "        if count >=2:\n",
    "            flag=1\n",
    "        else:\n",
    "            flag=0\n",
    "    if flag:\n",
    "        return True\n",
    "    else:\n",
    "        return False \n",
    "nums=[1,2,4,0]\n",
    "result=duplicate_array(nums)\n",
    "print(result)"
   ]
  },
  {
   "cell_type": "markdown",
   "id": "00cce255",
   "metadata": {},
   "source": [
    "<aside>\n",
    "💡 **Q7.** Given an integer array nums, move all 0's to the end of it while maintaining the relative order of the nonzero elements.\n",
    "\n",
    "Note that you must do this in-place without making a copy of the array.\n",
    "\n",
    "**Example 1:**\n",
    "Input: nums = [0,1,0,3,12]\n",
    "Output: [1,3,12,0,0]\n",
    "\n",
    "</aside>"
   ]
  },
  {
   "cell_type": "markdown",
   "id": "b68c5c85",
   "metadata": {},
   "source": [
    "Algorithm:\n",
    "    1: accept input array \n",
    "        initialise i=0 and j=len(arr)-1 j will maintain elements from last end and i will maintain elements from start \n",
    "    2. repeat untill i<=j \n",
    "       check arr[i]== 0 if it true interchange the elements from ith index and jth index and decrement j\n",
    "        arr[i],arr[j]=arr[j],arr[i]\n",
    "        j=j-1\n",
    "      else \n",
    "       i=i+1\n",
    "    3. Now elements with 0 are at last position but the non zero eleemnts are not in sorted order because of intechange position of i and j \n",
    "     need to sort  from 0th position to j+1 th index position and assign to original array \n",
    "        arr[:j+1]=sort(arr[:j+1])\n",
    "    4: return arr\n",
    "    \n",
    "    Time Complexity :O(n)\n",
    "    Space Complexity : O(n)"
   ]
  },
  {
   "cell_type": "code",
   "execution_count": 51,
   "id": "2e61463f",
   "metadata": {},
   "outputs": [
    {
     "name": "stdout",
     "output_type": "stream",
     "text": [
      "[1, 12, 23, 0, 0]\n"
     ]
    }
   ],
   "source": [
    "def move_zero_at_end(arr):\n",
    "    i=0\n",
    "    j=len(arr)-1\n",
    "    while i<=j:\n",
    "        if arr[i]==0:\n",
    "            arr[j],arr[i]=arr[i],arr[j]\n",
    "            j=j-1\n",
    "        else:\n",
    "            i=i+1\n",
    "    \n",
    "    arr[:j+1]=sorted(arr[:j+1])\n",
    "    return arr\n",
    "arr=[0,1,0,23,12]\n",
    "result=move_zero_at_end(arr)\n",
    "print(result)"
   ]
  },
  {
   "cell_type": "code",
   "execution_count": null,
   "id": "08b9e86a",
   "metadata": {},
   "outputs": [],
   "source": []
  }
 ],
 "metadata": {
  "kernelspec": {
   "display_name": "Python 3 (ipykernel)",
   "language": "python",
   "name": "python3"
  },
  "language_info": {
   "codemirror_mode": {
    "name": "ipython",
    "version": 3
   },
   "file_extension": ".py",
   "mimetype": "text/x-python",
   "name": "python",
   "nbconvert_exporter": "python",
   "pygments_lexer": "ipython3",
   "version": "3.9.7"
  }
 },
 "nbformat": 4,
 "nbformat_minor": 5
}
