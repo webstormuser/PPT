{
 "cells": [
  {
   "cell_type": "markdown",
   "metadata": {},
   "source": [
    "# Question 1\n",
    "Given an integer array nums of length n and an integer target, find three integers\n",
    "in nums such that the sum is closest to the target.\n",
    "Return the sum of the three integers.\n",
    "\n",
    "You may assume that each input would have exactly one solution.\n",
    "\n",
    "Example 1:\n",
    "Input: nums = [-1,2,1,-4], target = 1\n",
    "Output: 2\n",
    "\n",
    "Explanation: The sum that is closest to the target is 2. (-1 + 2 + 1 = 2)."
   ]
  },
  {
   "cell_type": "markdown",
   "metadata": {},
   "source": [
    "#  algorithm:\n",
    "\n",
    "    1. sort the given array\n",
    "\n",
    "    2. store N=size of array\n",
    "\n",
    "    3. take closest_sum \n",
    "\n",
    "    4. for i 0 to N-2\n",
    "\n",
    "        4a. left=i+1\n",
    "        \n",
    "        4b. right =N-1\n",
    "         \n",
    "        while left < right \n",
    "\n",
    "         current_sum= Array[i]+Array[left]+Attay[right]\n",
    "\n",
    "         if current_sum>"
   ]
  },
  {
   "cell_type": "code",
   "execution_count": null,
   "metadata": {
    "colab": {
     "base_uri": "https://localhost:8080/"
    },
    "id": "lm6VrPcINOau",
    "outputId": "720f0663-645f-4eee-8bb8-37874053e2f5"
   },
   "outputs": [
    {
     "name": "stdout",
     "output_type": "stream",
     "text": [
      "2\n"
     ]
    }
   ],
   "source": [
    "\n",
    "def three_sum_closest(nums, target):\n",
    "    nums.sort()\n",
    "    n = len(nums)\n",
    "    closest_sum = float('inf')\n",
    "\n",
    "    for i in range(n - 2):\n",
    "        left = i + 1\n",
    "        right = n - 1\n",
    "\n",
    "        while left < right:\n",
    "            current_sum = nums[i] + nums[left] + nums[right]\n",
    "\n",
    "            if abs(current_sum - target) < abs(closest_sum - target):\n",
    "                closest_sum = current_sum\n",
    "\n",
    "            if current_sum < target:\n",
    "                left += 1\n",
    "            elif current_sum > target:\n",
    "                right -= 1\n",
    "            else:\n",
    "                return target\n",
    "\n",
    "    return closest_sum\n",
    "arr=[-1,1,-4,2]\n",
    "target=1 \n",
    "result=three_sum_closest(arr,target)\n",
    "print(result)"
   ]
  },
  {
   "cell_type": "markdown",
   "metadata": {
    "id": "B_EXhVxclwz5"
   },
   "source": [
    "# Question 2\n",
    "Given an array nums of n integers, return an array of all the unique quadruplets\n",
    "[nums[a], nums[b], nums[c], nums[d]] such that:\n",
    "           ● 0 <= a, b, c, d < n\n",
    "           ● a, b, c, and d are distinct.\n",
    "           ● nums[a] + nums[b] + nums[c] + nums[d] == target\n",
    "\n",
    "You may return the answer in any order.\n",
    "\n",
    "Example 1:\n",
    "Input: nums = [1,0,-1,0,-2,2], target = 0\n",
    "Output: [[-2,-1,1,2],[-2,0,0,2],[-1,0,0,1]]"
   ]
  },
  {
   "cell_type": "markdown",
   "metadata": {},
   "source": [
    "# Algorithm:\n",
    "1.define function find_quadruple(nums ,target) which take two inputs nums is array of numbers and target is int value whose value == 4 values of array\n",
    "\n",
    "2.sort the array\n",
    "\n",
    "3.initialise quadruple =[] which will maintain values from array which adds upto target value \n",
    "\n",
    "4.for i =0 to len(arr)-3 //3rd last number ->this is first value from arrray which adds to target\n",
    "\n",
    "   for j=i+1 to len(arr)-2 //2nd last element->this is second value from array which adds to target\n",
    "    \n",
    "     left=j+1    //3rd values adds to target\n",
    "     right=len(arr)-1 //4th value adds to target\n",
    "    \n",
    "     while left<right\n",
    "        quad_sum=arr[i]+arr[j]+arr[left]+arr[right]\n",
    "        *  if quad_summ==target\n",
    "                 retrun arr[i],arr[j],arr[left],arr[right] and append in quadruple array  \n",
    "            //Skipping duplicates \n",
    "              while left<right and arr[left]==arr[left+1] \n",
    "                     left+=1\n",
    "              while left<right and arr[right]==arr[right-1]\n",
    "                right-=1\n",
    "        *  if quad_sum<target\n",
    "             then left+=1\n",
    "        \n",
    "        *  if quad_sum>target\n",
    "            then right-=1\n",
    "5. return quadruple\n",
    "6.end \n",
    "\n",
    "\n",
    "Time complexity : for sorting O(nlogn) after that for each iteration O(n3) so it is O(n3)+O(nlogn)\n",
    "\n",
    "Space Complexity: O(n)"
   ]
  },
  {
   "cell_type": "code",
   "execution_count": null,
   "metadata": {
    "colab": {
     "base_uri": "https://localhost:8080/"
    },
    "id": "Z9auByd6l0xy",
    "outputId": "3693bc2a-436b-46cd-fc8c-81e56b0743b6"
   },
   "outputs": [
    {
     "name": "stdout",
     "output_type": "stream",
     "text": [
      "[[-4, -2, 2, 4], [-4, -1, 1, 4], [-2, -1, 1, 2]]\n"
     ]
    }
   ],
   "source": [
    "\n",
    "def find_quadruple(nums, target):\n",
    "    nums.sort()  # Sort the array in ascending order\n",
    "    quadruples = []\n",
    "    \n",
    "    for i in range(len(nums) - 3):\n",
    "        # Skip duplicate elements\n",
    "        if i > 0 and nums[i] == nums[i - 1]:\n",
    "            continue\n",
    "        \n",
    "        for j in range(i + 1, len(nums) - 2):\n",
    "            # Skip duplicate elements\n",
    "            if j > i + 1 and nums[j] == nums[j - 1]:\n",
    "                continue\n",
    "            \n",
    "            left = j + 1\n",
    "            right = len(nums) - 1\n",
    "            \n",
    "            while left < right:\n",
    "                quad_sum = nums[i] + nums[j] + nums[left] + nums[right]\n",
    "                \n",
    "                if quad_sum == target:\n",
    "                    quadruples.append([nums[i], nums[j], nums[left], nums[right]])\n",
    "                    \n",
    "                    # Skip duplicate elements\n",
    "                    while left < right and nums[left] == nums[left + 1]:\n",
    "                        left += 1\n",
    "                    while left < right and nums[right] == nums[right - 1]:\n",
    "                        right -= 1\n",
    "                    \n",
    "                    left += 1\n",
    "                    right -= 1\n",
    "                \n",
    "                elif quad_sum < target:\n",
    "                    left += 1\n",
    "                else:\n",
    "                    right -= 1\n",
    "    \n",
    "    return quadruples\n",
    "arr=[-2,-1,0,1,2,-4,4]\n",
    "target=0\n",
    "Result=find_quadruple(arr,target)\n",
    "print(Result)"
   ]
  },
  {
   "cell_type": "markdown",
   "metadata": {
    "id": "GzrbjAWznAKW"
   },
   "source": [
    "# Question 3\n",
    "A permutation of an array of integers is an arrangement of its members into a\n",
    "sequence or linear order.\n",
    "\n",
    "For example, for arr = [1,2,3], the following are all the permutations of arr:\n",
    "[1,2,3], [1,3,2], [2, 1, 3], [2, 3, 1], [3,1,2], [3,2,1].\n",
    "\n",
    "The next permutation of an array of integers is the next lexicographically greater\n",
    "permutation of its integer. More formally, if all the permutations of the array are\n",
    "sorted in one container according to their lexicographical order, then the next\n",
    "permutation of that array is the permutation that follows it in the sorted container.\n",
    "\n",
    "If such an arrangement is not possible, the array must be rearranged as the\n",
    "lowest possible order (i.e., sorted in ascending order).\n",
    "\n",
    "● For example, the next permutation of arr = [1,2,3] is [1,3,2].\n",
    "● Similarly, the next permutation of arr = [2,3,1] is [3,1,2].\n",
    "● While the next permutation of arr = [3,2,1] is [1,2,3] because [3,2,1] does not\n",
    "have a lexicographical larger rearrangement.\n",
    "\n",
    "Given an array of integers nums, find the next permutation of nums.\n",
    "The replacement must be in place and use only constant extra memory.\n",
    "\n",
    "**Example 1:**\n",
    "Input: nums = [1,2,3]\n",
    "Output: [1,3,2]\n",
    "\n",
    "</aside>"
   ]
  },
  {
   "cell_type": "markdown",
   "metadata": {},
   "source": [
    "#Algorithm:\n",
    "\n",
    "1.define function nextPermutaion(nums) which accept input array of integer\n",
    "\n",
    "2. n=size(nums) i=n-1\n",
    "\n",
    "3.check while i>0 and current elenemnt < previous elemnt from array dectrement i \n",
    "\n",
    "4.if i==0 reverse array\n",
    "\n",
    "5.j=n-1\n",
    "   * while nums[i-1]>=nums[j]\n",
    "   * j-=1\n",
    "        \n",
    "6. swap the elements from i-1 position and jth position \n",
    "\n",
    "7. reverse the remianing element \n",
    "   * left=i\n",
    "   * right=n-1\n",
    "   * nums[left],nums[right]=nums[right],nums[left]\n",
    "   * left+=1 and right-=1\n",
    "\n",
    "8 retrun array nums \n",
    "\n",
    "9. exit \n",
    "\n",
    "Time Comlexity : O(n2)\n",
    "Space Complexity:O(1)"
   ]
  },
  {
   "cell_type": "code",
   "execution_count": 5,
   "metadata": {},
   "outputs": [
    {
     "name": "stdout",
     "output_type": "stream",
     "text": [
      "[7, 2, 8, 9]\n"
     ]
    }
   ],
   "source": [
    "def nextPermutation(nums):\n",
    "    n = len(nums)\n",
    "    i = n - 1\n",
    "    while i > 0 and nums[i] <= nums[i-1]:\n",
    "        i -= 1\n",
    "\n",
    "    if i == 0:\n",
    "        # Array is in descending order, reverse it\n",
    "        nums.reverse()\n",
    "        return\n",
    "\n",
    "    j = n - 1\n",
    "    while nums[j] <= nums[i-1]:\n",
    "        j -= 1\n",
    "\n",
    "    nums[i-1], nums[j] = nums[j], nums[i-1]\n",
    "\n",
    "    # Reverse the remaining elements\n",
    "    left = i\n",
    "    right = n - 1\n",
    "    while left < right:\n",
    "        nums[left], nums[right] = nums[right], nums[left]\n",
    "        left += 1\n",
    "        right -= 1\n",
    "nums = [2,9,8,7]\n",
    "nextPermutation(nums)\n",
    "print(nums)  # Output: [1, 3, 2]"
   ]
  },
  {
   "cell_type": "markdown",
   "metadata": {
    "id": "-jpYUFQghnqr"
   },
   "source": [
    "# Question 4\n",
    "Given a sorted array of distinct integers and a target value, return the index if the\n",
    "target is found. If not, return the index where it would be if it were inserted in\n",
    "order.\n",
    "\n",
    "You must write an algorithm with O(log n) runtime complexity.\n",
    "\n",
    "Example 1:\n",
    "Input: nums = [1,3,5,6], target = 5\n",
    "Output: 2"
   ]
  },
  {
   "cell_type": "markdown",
   "metadata": {},
   "source": [
    "#Algorithm:\n",
    "\n",
    "1.Start with a sorted list of elements.\n",
    "\n",
    "2.Set the lower bound (low) as the first index of the list and the upper bound (high) as the last index of the list.\n",
    "\n",
    "3.Repeat steps 4-8 until the low index is less than or equal to the high index.\n",
    "\n",
    "* Calculate the middle index (mid) as the average of the low and high indices: mid = (low + high) // 2.\n",
    "\n",
    "* Compare the middle element (arr[mid]) with the target element.\n",
    "\n",
    "* If arr[mid] is equal to the target, the target element is found. Return mid.\n",
    "\n",
    "* If arr[mid] is greater than the target, the target element must be in the left half of the remaining list. Update the high index to mid - 1 and go to step 3.\n",
    "\n",
    "* If arr[mid] is less than the target, the target element must be in the right half of the remaining list. Update the low index to mid + 1 and go to step 3.\n",
    "\n",
    "* If the low index becomes greater than the high index, the target element is not present in the list. Return -1 to indicate that the target was not found.\n",
    "\n",
    "4.End the algorithm.\n",
    "\n",
    "5.The target element is found at the returned index (if not -1)."
   ]
  },
  {
   "cell_type": "code",
   "execution_count": null,
   "metadata": {
    "colab": {
     "base_uri": "https://localhost:8080/"
    },
    "id": "StwegjFChpZR",
    "outputId": "e8a5f3fa-c09c-49f8-99ba-c8f0ab2f0dde"
   },
   "outputs": [
    {
     "name": "stdout",
     "output_type": "stream",
     "text": [
      "2\n"
     ]
    }
   ],
   "source": [
    "\n",
    "def binary_search(arr,lower,upper,target):\n",
    "    arr.sort()\n",
    "    if upper>=lower:\n",
    "        mid=(lower+upper)//2\n",
    "        if arr[mid]==target:\n",
    "            return mid\n",
    "        elif arr[mid]>target:\n",
    "            return binary_search(arr,lower,mid-1,target)\n",
    "        elif arr[mid]<target:\n",
    "            return binary_search(arr,mid+1,upper,target)\n",
    "    else:\n",
    "            return -1\n",
    "arr=[1,3,5,6]\n",
    "target=5\n",
    "result=binary_search(arr,0,len(arr)-1,target)\n",
    "print(result)"
   ]
  },
  {
   "cell_type": "markdown",
   "metadata": {
    "id": "W1LJtMBJhbF7"
   },
   "source": [
    "# Question 5\n",
    "You are given a large integer represented as an integer array digits, where each\n",
    "digits[i] is the ith digit of the integer. The digits are ordered from most significant\n",
    "to least significant in left-to-right order. The large integer does not contain any\n",
    "leading 0's.\n",
    "\n",
    "Increment the large integer by one and return the resulting array of digits.\n",
    "\n",
    "**Example 1:**\n",
    "Input: digits = [1,2,3]\n",
    "Output: [1,2,4]\n",
    "\n",
    "**Explanation:** The array represents the integer 123.\n",
    "Incrementing by one gives 123 + 1 = 124.\n",
    "Thus, the result should be [1,2,4].\n",
    "\n",
    "</aside>"
   ]
  },
  {
   "cell_type": "markdown",
   "metadata": {
    "id": "upzB2gNjhg9t"
   },
   "source": [
    "#Algorithm:\n",
    "\n",
    "1.input a large number as num \n",
    "\n",
    "2.convert this integer number into list and sort it \n",
    "\n",
    "3.initialize a carry variable=1 which indicate we have to increment least significant digit by 1 \n",
    "\n",
    "4.iterate each digits from list from right to left \n",
    "  * a. add 1 to last digit\n",
    "  * b. update the carry digit by dividing numbers from list by 10 \n",
    "  * c. update current digit as a remainder of current digit divided by 10\n",
    "  * d. if still there is nonzero carry left after loop move it to left and reverse the number\n",
    " \n",
    "5.retrun digits"
   ]
  },
  {
   "cell_type": "code",
   "execution_count": 1,
   "metadata": {},
   "outputs": [
    {
     "name": "stdout",
     "output_type": "stream",
     "text": [
      "[1, 2, 4]\n"
     ]
    }
   ],
   "source": [
    "def range_array(num):\n",
    "    digits=list(str(num))\n",
    "    digits.sort()\n",
    "    carry=1\n",
    "    for i in range(len(digits)-1,-1,-1):\n",
    "        digit=int(digits[i])+carry\n",
    "        carry=digit//10\n",
    "        digits[i]=digit%10\n",
    "        if carry:\n",
    "            digits.insert(0,carry)\n",
    "    return digits\n",
    "num=123\n",
    "result=range_array(num)\n",
    "print(result)\n"
   ]
  },
  {
   "cell_type": "markdown",
   "metadata": {
    "id": "67n6VAmDTgme"
   },
   "source": [
    "# Question 6\n",
    "Given a non-empty array of integers nums, every element appears twice except\n",
    "for one. Find that single one.\n",
    "\n",
    "You must implement a solution with a linear runtime complexity and use only\n",
    "constant extra space.\n",
    "\n",
    "Example 1:\n",
    "Input: nums = [2,2,1]\n",
    "Output: 1"
   ]
  },
  {
   "cell_type": "markdown",
   "metadata": {},
   "source": [
    "Algorithm:\n",
    "    \n",
    "1.take a counter which keep track for num and their count\n",
    "\n",
    "2.iterate for each num in counter find count<2\n",
    "\n",
    "3.return that num\n",
    "\n",
    "4.end \n",
    "\n",
    "Time Complexity:O(n)\n",
    "Space Complexity:O(1)"
   ]
  },
  {
   "cell_type": "code",
   "execution_count": null,
   "metadata": {
    "colab": {
     "base_uri": "https://localhost:8080/"
    },
    "id": "-wjo-fViTocR",
    "outputId": "6d249273-3c3a-479d-877e-47c183f10c65"
   },
   "outputs": [
    {
     "name": "stdout",
     "output_type": "stream",
     "text": [
      "5\n"
     ]
    }
   ],
   "source": [
    "\n",
    "from collections import Counter\n",
    "def non_repeating_num(arr):\n",
    "    counter=Counter(arr)\n",
    "    for num,count in counter.items():\n",
    "        if count<2:\n",
    "            return num\n",
    "arr=[2,2,2,4,4,5] \n",
    "result=non_repeating_num(arr)\n",
    "print(result)"
   ]
  },
  {
   "cell_type": "markdown",
   "metadata": {
    "id": "e1uUIeJBfiAc"
   },
   "source": [
    "# Question 7\n",
    "You are given an inclusive range [lower, upper] and a sorted unique integer array\n",
    "nums, where all elements are within the inclusive range.\n",
    "\n",
    "A number x is considered missing if x is in the range [lower, upper] and x is not in\n",
    "nums.\n",
    "\n",
    "Return the shortest sorted list of ranges that exactly covers all the missing\n",
    "numbers. That is, no element of nums is included in any of the ranges, and each\n",
    "missing number is covered by one of the ranges.\n",
    "\n",
    "Example 1:\n",
    "Input: nums = [0,1,3,50,75], lower = 0, upper = 99\n",
    "Output: [[2,2],[4,49],[51,74],[76,99]]\n",
    "\n",
    "Explanation: The ranges are:\n",
    "[2,2]\n",
    "[4,49]\n",
    "[51,74]\n",
    "[76,99]"
   ]
  },
  {
   "cell_type": "markdown",
   "metadata": {},
   "source": [
    "#Algorithm:\n",
    "\n",
    "1.since upper range value is inclusive so add 1 to upper and append to arr\n",
    "\n",
    "2.set prev=lower_range_value-1\n",
    "\n",
    "3. initialize ranges=[]\n",
    "\n",
    "3. for each num in array\n",
    "* if num-prev>1\n",
    "   * start=prev+1\n",
    "   * end =num-1\n",
    "   * append start and end in ranges\n",
    "   \n",
    "   assign prev=num\n",
    "4.retrun ranges\n",
    "\n",
    "Time complexity:O(nlogn)+O(n)\n",
    "\n",
    "Space Complexity:O(n)"
   ]
  },
  {
   "cell_type": "code",
   "execution_count": 6,
   "metadata": {
    "colab": {
     "base_uri": "https://localhost:8080/"
    },
    "id": "y-a5wfj1fkGZ",
    "outputId": "85412c37-bca8-4640-93b5-591584eeb491"
   },
   "outputs": [
    {
     "name": "stdout",
     "output_type": "stream",
     "text": [
      "1:1\n",
      "4:49\n",
      "51:74\n",
      "76:99\n"
     ]
    }
   ],
   "source": [
    "\n",
    "def missing_values_range(arr,lower,upper):\n",
    "    arr.sort()\n",
    "    arr.append(upper+1)\n",
    "    prev=lower-1\n",
    "    ranges=[]\n",
    "    for num in arr:\n",
    "        if num-prev >1:\n",
    "            start=prev+1 \n",
    "            end=num-1\n",
    "            ranges.append(getranges(start,end))\n",
    "        prev=num \n",
    "    return  ranges \n",
    "def getranges(start,end):\n",
    "    if start==end:\n",
    "        return str(start)+\":\"+str(end)\n",
    "    else:\n",
    "        return str(start) +\":\"+str(end)\n",
    "arr=[0,3,2,50,75]\n",
    "lower=0 \n",
    "upper=99\n",
    "ranges=missing_values_range(arr,lower,upper)\n",
    "for r in ranges:\n",
    "    print(r)"
   ]
  },
  {
   "cell_type": "markdown",
   "metadata": {
    "id": "8BfZl4qUhUE8"
   },
   "source": [
    "# Question 8\n",
    "Given an array of meeting time intervals where intervals[i] = [starti, endi],\n",
    "determine if a person could attend all meetings.\n",
    "\n",
    "Example 1:\n",
    "Input: intervals = [[0,30],[5,10],[15,20]]\n",
    "Output: false"
   ]
  },
  {
   "cell_type": "markdown",
   "metadata": {
    "id": "1B2nB0O0hVoJ"
   },
   "source": [
    "#Algorithm:\n",
    "\n",
    "1.Sort the intervals based on the start time in ascending order.\n",
    "\n",
    "2.Iterate through the sorted intervals starting from the second interval.\n",
    "\n",
    "3.Compare the start time of the current interval with the end time of the previous interval.\n",
    "\n",
    "4.If the start time of the current interval is less than or equal to the end time of the previous interval, there is an overlap, and the person cannot attend all meetings. Return false.\n",
    "\n",
    "5.If there is no overlap, continue to the next interval.\n",
    "\n",
    "6.If we reach the end of the loop without finding any overlaps, return true.\n",
    "\n",
    "The time complexity of this algorithm is O(n log n)\n",
    "\n",
    "The space complexity is O(1) "
   ]
  },
  {
   "cell_type": "code",
   "execution_count": 3,
   "metadata": {},
   "outputs": [
    {
     "name": "stdout",
     "output_type": "stream",
     "text": [
      "False\n"
     ]
    }
   ],
   "source": [
    "def can_attend_all_meetings(intervals):\n",
    "    intervals.sort(key=lambda x: x[0])  # Sort intervals based on start time\n",
    "    for i in range(1, len(intervals)):\n",
    "        if intervals[i][0] <= intervals[i-1][1]:\n",
    "            return False\n",
    "    return True\n",
    "\n",
    "intervals = [[0,30],[5,10],[15,20]]\n",
    "result=can_attend_all_meetings(intervals)\n",
    "print(result)"
   ]
  },
  {
   "cell_type": "code",
   "execution_count": null,
   "metadata": {},
   "outputs": [],
   "source": []
  }
 ],
 "metadata": {
  "colab": {
   "provenance": []
  },
  "kernelspec": {
   "display_name": "Python 3 (ipykernel)",
   "language": "python",
   "name": "python3"
  },
  "language_info": {
   "codemirror_mode": {
    "name": "ipython",
    "version": 3
   },
   "file_extension": ".py",
   "mimetype": "text/x-python",
   "name": "python",
   "nbconvert_exporter": "python",
   "pygments_lexer": "ipython3",
   "version": "3.9.7"
  }
 },
 "nbformat": 4,
 "nbformat_minor": 1
}
