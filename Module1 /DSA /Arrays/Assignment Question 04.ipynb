{
 "cells": [
  {
   "cell_type": "markdown",
   "id": "6d8e79ea",
   "metadata": {},
   "source": [
    "# Question 1\n",
    "Given three integer arrays arr1, arr2 and arr3 **sorted** in **strictly increasing** order, return a sorted array of **only** the integers that appeared in **all** three arrays.\n",
    "\n",
    "**Example 1:**\n",
    "\n",
    "Input: arr1 = [1,2,3,4,5], arr2 = [1,2,5,7,9], arr3 = [1,3,4,5,8]\n",
    "\n",
    "Output: [1,5]\n",
    "\n",
    "**Explanation:** Only 1 and 5 appeared in the three arrays."
   ]
  },
  {
   "cell_type": "markdown",
   "id": "8334bc5b",
   "metadata": {},
   "source": [
    "# algorithm:\n",
    "1.initialise empty list result\n",
    "\n",
    "i->pointer for 1st array\n",
    "j->pointer for 2nd array\n",
    "k->pointer for 3rd array\n",
    "\n",
    "2. traverse 1st array \n",
    "   * traverse 2nd array \n",
    "      * traverse 3rd aray \n",
    "         if i==j==k mean elemnts is present in all aray add to result \n",
    "3. return result \n",
    "\n",
    "Time complexity:O(n3)+O(logn)\n",
    "Space Complexity:O(n)"
   ]
  },
  {
   "cell_type": "code",
   "execution_count": 6,
   "id": "7e715a51",
   "metadata": {},
   "outputs": [
    {
     "name": "stdout",
     "output_type": "stream",
     "text": [
      "[1, 5]\n"
     ]
    }
   ],
   "source": [
    "def num_in_all_three(arr1:int,arr2:int,arr3:int):\n",
    "    result=[]\n",
    "    list(arr1).sort()\n",
    "    list(arr2).sort()\n",
    "    list(arr3).sort()\n",
    "    for i in arr1: # traversing 1st array\n",
    "        for j in arr2: #traversing 2nd array\n",
    "            for k in arr3: #traversing 3rd array\n",
    "                if i==j==k: #if 3 array contain same element add to result\n",
    "                    result.append(i)\n",
    "    return result\n",
    "arr1=[1,2,3,4,5]\n",
    "arr2=[1,2,5,7,9]\n",
    "arr3=[1,3,4,5,8]\n",
    "print(num_in_all_three(arr1,arr2,arr3))"
   ]
  },
  {
   "cell_type": "markdown",
   "id": "3c9cce01",
   "metadata": {},
   "source": [
    "# Question 2\n",
    "\n",
    "Given two **0-indexed** integer arrays nums1 and nums2, return *a list* answer *of size* 2 *where:*\n",
    "\n",
    "- answer[0] *is a list of all **distinct** integers in* nums1 *which are **not** present in* nums2*.*\n",
    "- answer[1] *is a list of all **distinct** integers in* nums2 *which are **not** present in* nums1.\n",
    "\n",
    "**Note** that the integers in the lists may be returned in **any** order.\n",
    "\n",
    "**Example 1:**\n",
    "\n",
    "**Input:** nums1 = [1,2,3], nums2 = [2,4,6]\n",
    "\n",
    "**Output:** [[1,3],[4,6]]\n",
    "\n",
    "**Explanation:**\n",
    "\n",
    "For nums1, nums1[1] = 2 is present at index 0 of nums2, whereas nums1[0] = 1 and nums1[2] = 3 are not present in nums2. Therefore, answer[0] = [1,3].\n",
    "\n",
    "For nums2, nums2[0] = 2 is present at index 1 of nums1, whereas nums2[1] = 4 and nums2[2] = 6 are not present in nums2. Therefore, answer[1] = [4,6]."
   ]
  },
  {
   "cell_type": "markdown",
   "id": "6414ce09",
   "metadata": {},
   "source": [
    "# Algorithm:\n",
    "\n",
    "1.define function distinct_indices(nums1,nums2) which take 2 integer array as input \n",
    "\n",
    "2.take one  result [[],[]] list \n",
    "\n",
    "3.for each element i in nums1 check if not present in nums2  add 0th index of result \n",
    "\n",
    "4.for each element j in nums2 check if not present in nums1 ass 1st index of result \n",
    "\n",
    "5.return result\n",
    "\n",
    "6.end \n",
    "\n",
    "Time Complexity:O(n2)\n",
    "Space Complexity:O(n)\n"
   ]
  },
  {
   "cell_type": "code",
   "execution_count": 27,
   "id": "b82571ae",
   "metadata": {},
   "outputs": [
    {
     "name": "stdout",
     "output_type": "stream",
     "text": [
      "[[1, 3], [4, 6]]\n"
     ]
    }
   ],
   "source": [
    "def distinct_indices(nums1,nums2):\n",
    "    result=[[],[]]\n",
    "    nums1.sort()\n",
    "    nums2.sort()\n",
    "    for i in nums1:\n",
    "        if i not in nums2:\n",
    "            result[0].append(i)\n",
    "    for j in nums2:\n",
    "        if j not in nums1:\n",
    "            result[1].append(j)           \n",
    "    return result\n",
    "nums1=[1,2,3]\n",
    "nums2=[2,4,6]\n",
    "res=distinct_indices(nums1,nums2)\n",
    "print(res)"
   ]
  },
  {
   "cell_type": "markdown",
   "id": "ade87581",
   "metadata": {},
   "source": [
    "# Question 3\n",
    "\n",
    "Given a 2D integer array matrix, return *the **transpose** of* matrix.\n",
    "\n",
    "The **transpose** of a matrix is the matrix flipped over its main diagonal, switching the matrix's row and column indices.\n",
    "\n",
    "**Example 1:**\n",
    "\n",
    "Input: matrix = [[1,2,3],[4,5,6],[7,8,9]]\n",
    "\n",
    "Output: [[1,4,7],[2,5,8],[3,6,9]]\n"
   ]
  },
  {
   "cell_type": "markdown",
   "id": "ba993475",
   "metadata": {},
   "source": [
    "# algorithm:\n",
    "1.define function transpose_of_matrix(matrix) which accpet matrix as input \n",
    "\n",
    "2.initialize result matrix set to all zeros \n",
    "\n",
    "3.for each rows \n",
    "  * for each columns\n",
    "     swap the position of column index and row index and move to result \n",
    "4.return result \n",
    "\n",
    "Time Complexity: O(m*n) m->no of rows and n->no of columns \n",
    "Space Complexity:O(m+n)"
   ]
  },
  {
   "cell_type": "code",
   "execution_count": 54,
   "id": "110d62b2",
   "metadata": {},
   "outputs": [
    {
     "name": "stdout",
     "output_type": "stream",
     "text": [
      "[[1, 4, 7], [2, 5, 8], [3, 6, 9]]\n"
     ]
    }
   ],
   "source": [
    "def transpose_of_matrix(matrix):\n",
    "    result=[[0,0,0],[0,0,0],[0,0,0]]\n",
    "    #iterate for each rows :\n",
    "    for i in range(len(matrix)):\n",
    "        #iterate for each column\n",
    "        for j in range(len(matrix[0])):\n",
    "            result[i][j]=matrix[j][i]\n",
    "    return result\n",
    "matrix = [[1,2,3],[4,5,6],[7,8,9]]\n",
    "res=transpose_of_matrix(matrix)\n",
    "print(res)"
   ]
  },
  {
   "cell_type": "code",
   "execution_count": 39,
   "id": "ef7bb3a7",
   "metadata": {},
   "outputs": [
    {
     "data": {
      "text/plain": [
       "3"
      ]
     },
     "execution_count": 39,
     "metadata": {},
     "output_type": "execute_result"
    }
   ],
   "source": [
    "len(matrix[1])"
   ]
  },
  {
   "cell_type": "markdown",
   "id": "0548e4ed",
   "metadata": {},
   "source": [
    "# Question 4\n",
    "Given an integer array nums of 2n integers, group these integers into n pairs (a1, b1), (a2, b2), ..., (an, bn) such that the sum of min(ai, bi) for all i is **maximized**. Return *the maximized sum*.\n",
    "\n",
    "**Example 1:**\n",
    "\n",
    "Input: nums = [1,4,3,2]\n",
    "\n",
    "Output: 4\n",
    "\n",
    "**Explanation:** All possible pairings (ignoring the ordering of elements) are:\n",
    "\n",
    "1. (1, 4), (2, 3) -> min(1, 4) + min(2, 3) = 1 + 2 = 3\n",
    "\n",
    "2. (1, 3), (2, 4) -> min(1, 3) + min(2, 4) = 1 + 2 = 3\n",
    "\n",
    "3. (1, 2), (3, 4) -> min(1, 2) + min(3, 4) = 1 + 3 = 4\n",
    "\n",
    "So the maximum possible sum is 4.\n",
    "\n",
    "</aside>"
   ]
  },
  {
   "cell_type": "markdown",
   "id": "4d387842",
   "metadata": {},
   "source": [
    "Solution :\n",
    "\n",
    "accept input array and sort it\n",
    "\n",
    "take result variable= 0 which adds to minimun value of combination of 2 numbers from array\n",
    "\n",
    "for each number in range 0 to size of array with step size 2(since we have to take combination of 2 numbers only)\n",
    "\n",
    "find min value of current number and next number from array min(arr[i]+arr[i+1]) and add to result\n",
    "\n",
    "result=result+min(arr[i]+arr[i+1])\n",
    "\n",
    "return result"
   ]
  },
  {
   "cell_type": "code",
   "execution_count": 28,
   "id": "26b96904",
   "metadata": {},
   "outputs": [
    {
     "name": "stdout",
     "output_type": "stream",
     "text": [
      "4\n",
      "10\n"
     ]
    }
   ],
   "source": [
    "def max_sum_arr(arr):\n",
    "    arr.sort()\n",
    "    result=0\n",
    "    for i in range(0,len(arr),2):\n",
    "        result=result+min(arr[i],arr[i+1])\n",
    "    return result\n",
    "arr=[1,2,4,3]\n",
    "print(max_sum_arr(arr))\n",
    "arr=[2,3,8,9]\n",
    "print(max_sum_arr(arr))"
   ]
  },
  {
   "cell_type": "markdown",
   "id": "eb0dec45",
   "metadata": {},
   "source": [
    "# Algorithm:\n",
    "1.define function complete_rows(n) which take input of count of coins \n",
    "\n",
    "2.initialize k=1 which represents strair count default is 1 since 1st stair represent 1st position\n",
    "\n",
    "3.since every stair contain exactly same no of coin 1stair ->1 coin 2nd stair->2 coin like wise means to complete all coin at kth stair its count must be <no_of coins\n",
    "  and increment value of k \n",
    "4. return k-1 (it represnt kth stair no which are completely filled)\n",
    "\n",
    "Time Complexity: O(k) \n",
    "Space Complexity:O(1)"
   ]
  },
  {
   "cell_type": "code",
   "execution_count": 3,
   "id": "1fcb59d3",
   "metadata": {},
   "outputs": [
    {
     "name": "stdout",
     "output_type": "stream",
     "text": [
      "4\n"
     ]
    }
   ],
   "source": [
    "def complete_rows(n):\n",
    "    k=1\n",
    "    while (k*(k+1))//2 <=n:\n",
    "        k+=1\n",
    "    return k-1\n",
    "coins=14\n",
    "result=complete_rows(coins)\n",
    "print(result)"
   ]
  },
  {
   "cell_type": "code",
   "execution_count": null,
   "id": "ac30f556",
   "metadata": {},
   "outputs": [],
   "source": []
  },
  {
   "cell_type": "markdown",
   "id": "6806af31",
   "metadata": {},
   "source": [
    "# Question 6\n",
    "Given an integer array nums sorted in **non-decreasing** order, return *an array of **the squares of each number** sorted in non-decreasing order*.\n",
    "\n",
    "**Example 1:**\n",
    "\n",
    "Input: nums = [-4,-1,0,3,10]\n",
    "\n",
    "Output: [0,1,9,16,100]\n",
    "\n",
    "**Explanation:** After squaring, the array becomes [16,1,0,9,100].\n",
    "After sorting, it becomes [0,1,9,16,100]\n"
   ]
  },
  {
   "cell_type": "markdown",
   "id": "b7f1f751",
   "metadata": {},
   "source": [
    "# algorithm:\n",
    "\n",
    "1.define function array_sqaures_sort(arr) which accepts array if integer as input \n",
    "\n",
    "2.take empty list result\n",
    "\n",
    "3.for each num in array \n",
    "   sqaure =num*num\n",
    "   add sqaure to result \n",
    "   sort the list result \n",
    "4.return result \n",
    "\n",
    "Time Complexity:O(n)+O(logn)\n",
    "Space Complexity:O(n)"
   ]
  },
  {
   "cell_type": "code",
   "execution_count": 59,
   "id": "d46b6b75",
   "metadata": {},
   "outputs": [
    {
     "name": "stdout",
     "output_type": "stream",
     "text": [
      "[0, 1, 9, 16, 100]\n"
     ]
    }
   ],
   "source": [
    "def array_sqaures_sort(arr):\n",
    "    result=[]\n",
    "    for i in arr:\n",
    "        square=i*i\n",
    "        result.append(square)\n",
    "        result.sort()\n",
    "    return result\n",
    "nums = [-4,-1,0,3,10]\n",
    "result=array_sqaures_sort(nums)\n",
    "print(result)"
   ]
  },
  {
   "cell_type": "markdown",
   "id": "3ae10b5d",
   "metadata": {},
   "source": [
    "# Question 7\n",
    "You are given an m x n matrix M initialized with all 0's and an array of operations ops, where ops[i] = [ai, bi] means M[x][y] should be incremented by one for all 0 <= x < ai and 0 <= y < bi.\n",
    "\n",
    "Count and return *the number of maximum integers in the matrix after performing all the operations*\n",
    "\n",
    "**Example 1:**\n",
    "\n",
    "![q4.jpg](https://s3-us-west-2.amazonaws.com/secure.notion-static.com/4d0890d0-7bc7-4f59-be8e-352d9f3c1c52/q4.jpg)\n",
    "\n",
    "**Input:** m = 3, n = 3, ops = [[2,2],[3,3]]\n",
    "\n",
    "**Output:** 4\n",
    "\n",
    "**Explanation:** The maximum integer in M is 2, and there are four of it in M. So return 4.\n"
   ]
  },
  {
   "cell_type": "markdown",
   "id": "de4d70c3",
   "metadata": {},
   "source": [
    "# Algorithm \n",
    "1.Initialize minRow and minCol variables to m and n, respectively. These variables will store the minimum values for the rows and columns, initialized to the maximum possible values.\n",
    "\n",
    "2.Iterate through each operation [ai, bi] in the ops array.\n",
    "\n",
    "3.Update minRow with the minimum value between minRow and ai.\n",
    "\n",
    "4.Update minCol with the minimum value between minCol and bi.\n",
    "\n",
    "5.Return the product of minRow and minCol."
   ]
  },
  {
   "cell_type": "code",
   "execution_count": 16,
   "id": "7ef691eb",
   "metadata": {},
   "outputs": [
    {
     "name": "stdout",
     "output_type": "stream",
     "text": [
      "9\n"
     ]
    }
   ],
   "source": [
    "def maxCount(m: int, n: int, ops:list[list[int]]) -> int:\n",
    "    minRow, minCol = m, n\n",
    "    for op in ops:\n",
    "        minRow = min(minRow, op[0])\n",
    "        minCol = min(minCol, op[1])\n",
    "    return minRow * minCol\n",
    "\n",
    "m = 3\n",
    "n = 3\n",
    "ops = [[3,3], [3,3]]\n",
    "print(maxCount(m, n, ops))"
   ]
  },
  {
   "cell_type": "markdown",
   "id": "854c87fc",
   "metadata": {},
   "source": [
    "# Question 8\n",
    "\n",
    "Given the array nums consisting of 2n elements in the form [x1,x2,...,xn,y1,y2,...,yn].\n",
    "\n",
    "*Return the array in the form* [x1,y1,x2,y2,...,xn,yn].\n",
    "\n",
    "**Example 1:**\n",
    "\n",
    "**Input:** nums = [2,5,1,3,4,7], n = 3\n",
    "\n",
    "**Output:** [2,3,5,4,1,7]\n",
    "\n",
    "**Explanation:** Since x1=2, x2=5, x3=1, y1=3, y2=4, y3=7 then the answer is [2,3,5,4,1,7].\n"
   ]
  },
  {
   "cell_type": "code",
   "execution_count": null,
   "id": "684577f6",
   "metadata": {},
   "outputs": [],
   "source": [
    "# algorithm :\n",
    "1.define function shufle(nums,n) which accepts input integer array with integer range value n\n",
    "\n",
    "2.take empty list result \n",
    "\n",
    "3.for index in range "
   ]
  },
  {
   "cell_type": "code",
   "execution_count": 64,
   "id": "ca2ea70f",
   "metadata": {},
   "outputs": [
    {
     "name": "stdout",
     "output_type": "stream",
     "text": [
      "[2, 3, 5, 4, 1, 7]\n"
     ]
    }
   ],
   "source": [
    "def shuffle(nums, n):\n",
    "        result = []\n",
    "        for index in range(n):\n",
    "            result.append(nums[index])\n",
    "            result.append(nums[index + n])\n",
    "        return result\n",
    "nums = [2,5,1,3,4,7]\n",
    "n = 3\n",
    "print(shuffle(nums,n))"
   ]
  },
  {
   "cell_type": "code",
   "execution_count": null,
   "id": "4927e638",
   "metadata": {},
   "outputs": [],
   "source": []
  }
 ],
 "metadata": {
  "kernelspec": {
   "display_name": "Python 3 (ipykernel)",
   "language": "python",
   "name": "python3"
  },
  "language_info": {
   "codemirror_mode": {
    "name": "ipython",
    "version": 3
   },
   "file_extension": ".py",
   "mimetype": "text/x-python",
   "name": "python",
   "nbconvert_exporter": "python",
   "pygments_lexer": "ipython3",
   "version": "3.9.7"
  }
 },
 "nbformat": 4,
 "nbformat_minor": 5
}
