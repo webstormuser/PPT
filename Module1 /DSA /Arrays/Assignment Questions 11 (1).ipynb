{
 "cells": [
  {
   "cell_type": "markdown",
   "id": "cff55dd6",
   "metadata": {},
   "source": [
    "# Question 1\n",
    "Given a non-negative integer `x`, return *the square root of* `x` *rounded down to the nearest integer*. The returned integer should be **non-negative** as well.\n",
    "\n",
    "You **must not use** any built-in exponent function or operator.\n",
    "\n",
    "- For example, do not use `pow(x, 0.5)` in c++ or `x ** 0.5` in python.\n",
    "\n",
    "**Example 1:**\n",
    "Input: x = 4\n",
    "Output: 2\n",
    "Explanation: The square root of 4 is 2, so we return 2."
   ]
  },
  {
   "cell_type": "markdown",
   "id": "f5c24a95",
   "metadata": {},
   "source": [
    "# Algorithm \n",
    "\n",
    "1.define functio sqrt_recursive(num,guess=1) which accept input number and default epsilon value 1\n",
    "\n",
    "2.if absolute value of (guess*guess-num)<1e-10 return int value of guess\n",
    "\n",
    "3 new_guess=(guess+num/guess)/2 call function sqrt_recursive(num,new_guess)\n",
    "\n",
    "4.end "
   ]
  },
  {
   "cell_type": "code",
   "execution_count": 10,
   "id": "365ba35a",
   "metadata": {},
   "outputs": [
    {
     "name": "stdout",
     "output_type": "stream",
     "text": [
      "4\n"
     ]
    }
   ],
   "source": [
    "def sqrt_recursive(num,guess=1):\n",
    "    if abs(guess * guess-num)<1e-10:\n",
    "        return int(guess)\n",
    "    new_guess=(guess+num/guess)/2\n",
    "    return sqaure_root(num,new_guess)\n",
    "\n",
    "num=20\n",
    "result=sqaure_root(num)\n",
    "print(result)"
   ]
  },
  {
   "cell_type": "markdown",
   "id": "b6f7ba6d",
   "metadata": {},
   "source": [
    "# Question 2\n",
    "\n",
    "A peak element is an element that is strictly greater than its neighbors.\n",
    "\n",
    "Given a **0-indexed** integer array `nums`, find a peak element, and return its index. If the array contains multiple peaks, return the index to **any of the peaks**.\n",
    "\n",
    "You may imagine that `nums[-1] = nums[n] = -∞`. In other words, an element is always considered to be strictly greater than a neighbor that is outside the array.\n",
    "\n",
    "You must write an algorithm that runs in `O(log n)` time.\n",
    "\n",
    "**Example 1:**\n",
    "Input: nums = [1,2,3,1]\n",
    "Output: 2\n",
    "Explanation: 3 is a peak element and your function should return the index number 2.\n",
    "\n",
    "**Example 2:**\n",
    "Input: nums = [1,2,1,3,5,6,4]\n",
    "Output: 5\n",
    "Explanation: Your function can return either index number 1 where the peak element is 2, or index number 5 where the peak element is 6."
   ]
  },
  {
   "cell_type": "markdown",
   "id": "c6fce1f6",
   "metadata": {},
   "source": [
    "# Algorithm\n",
    "The idea behind the binary search is to find a mid element and compare it with its neighbors to determine whether it is a peak or not. If the mid element is smaller than its adjacent elements, then there must exist a peak on the right side of the mid element. If the mid element is smaller than its left adjacent element, then there must exist a peak on the left side of the mid element. We continue dividing the search space in half until we find a peak element."
   ]
  },
  {
   "cell_type": "code",
   "execution_count": 25,
   "id": "d3770371",
   "metadata": {},
   "outputs": [
    {
     "name": "stdout",
     "output_type": "stream",
     "text": [
      "2\n",
      "5\n"
     ]
    }
   ],
   "source": [
    "def findPeakElement(nums):\n",
    "    left = 0\n",
    "    right = len(nums) - 1\n",
    "    while left < right:\n",
    "        mid = left + (right - left) // 2\n",
    "        if nums[mid] < nums[mid + 1]:\n",
    "            left = mid + 1\n",
    "        else:\n",
    "            right = mid\n",
    "    return left\n",
    "nums=[1,2,3,1]\n",
    "result=findPeakElement(nums)\n",
    "print(result)\n",
    "nums=[1,2,1,3,5,6,4]\n",
    "result=findPeakElement(nums)\n",
    "print(result)"
   ]
  },
  {
   "cell_type": "markdown",
   "id": "3273e99c",
   "metadata": {},
   "source": [
    "# Question 3 \n",
    "\n",
    "\n",
    "Given an array `nums` containing `n` distinct numbers in the range `[0, n]`, return *the only number in the range that is missing from the array.*\n",
    "\n",
    "**example1**:\n",
    "Input: nums = [3,0,1]\n",
    "Output: 2\n",
    "Explanation: n = 3 since there are 3 numbers, so all numbers are in the range [0,3]. 2 is the missing number in the range since it does not appear in nums.\n",
    "\n",
    "\n",
    "**example2**:\n",
    "Input: nums = [0,1]\n",
    "Output: 2\n",
    "Explanation: n = 2 since there are 2 numbers, so all numbers are in the range [0,2]. 2 is the missing number in the range since it does not appear in nums."
   ]
  },
  {
   "cell_type": "markdown",
   "id": "ac727609",
   "metadata": {},
   "source": [
    "# algorithm:\n",
    "define function find_missing_numbers(nums) which accepts integer array in range [0,n] where n is distinct numbers count in that array range \n",
    "\n",
    "1.take output empty list output=[]\n",
    "\n",
    "2.for i in range 0 to len(num) \n",
    "\n",
    "  * if i not present in array append to output list\n",
    "3 return output\n",
    "\n",
    "4.end\n",
    "\n",
    "Time complexity:O(n)\n",
    "Space Complexity:O(n)"
   ]
  },
  {
   "cell_type": "code",
   "execution_count": 30,
   "id": "035aaca0",
   "metadata": {},
   "outputs": [
    {
     "name": "stdout",
     "output_type": "stream",
     "text": [
      "[2]\n",
      "[2]\n",
      "[8]\n"
     ]
    }
   ],
   "source": [
    "def find_missing_numbers(nums):\n",
    "    output=[]\n",
    "    for i in range(0,len(nums)+1):\n",
    "        if i not in nums:\n",
    "            output.append(i)\n",
    "    return output\n",
    "nums=[3,0,1]\n",
    "result=find_missing_numbers(nums)\n",
    "print(result)\n",
    "nums=[0,1]\n",
    "result=find_missing_numbers(nums)\n",
    "print(result)\n",
    "nums = [9,6,4,2,3,5,7,0,1]\n",
    "result=find_missing_numbers(nums)\n",
    "print(result)"
   ]
  },
  {
   "cell_type": "markdown",
   "id": "542b33d7",
   "metadata": {},
   "source": [
    "# Question 4\n",
    "\n",
    "Given an array of integers `nums` containing `n + 1` integers where each integer is in the range `[1, n]` inclusive.\n",
    "\n",
    "There is only **one repeated number** in `nums`, return *this repeated number*.\n",
    "\n",
    "You must solve the problem **without** modifying the array `nums` and uses only constant extra space.\n",
    "\n",
    "**example1**:\n",
    "Input: nums = [1,3,4,2,2]\n",
    "Output: 2\n",
    "**Example 2**:\n",
    "Input: nums = [3,1,3,4,2]\n",
    "Output: 3"
   ]
  },
  {
   "cell_type": "markdown",
   "id": "e90f046e",
   "metadata": {},
   "source": [
    "# algorithm\n",
    "\n",
    "1.define function find_repeating_number(nums) which accept input integer array with one reapeating number\n",
    "\n",
    "2.store count of each number and number from array in counter variable\n",
    "\n",
    "3.iterate for each number in counter \n",
    "  *if count of number >=2\n",
    "      assign that number to output //output=num\n",
    "4.return output \n",
    "\n",
    "5.end\n",
    "\n",
    "Time Complexity :O(n)\n",
    "SpaceComplexity:O(1)"
   ]
  },
  {
   "cell_type": "code",
   "execution_count": 45,
   "id": "5f453853",
   "metadata": {},
   "outputs": [
    {
     "name": "stdout",
     "output_type": "stream",
     "text": [
      "3\n",
      "2\n"
     ]
    }
   ],
   "source": [
    "from collections import Counter\n",
    "def find_repeating_number(nums):\n",
    "    counter=Counter(nums)\n",
    "    for num,count in counter.items():\n",
    "            if count>=2:\n",
    "                output=num\n",
    "    return output\n",
    "nums = [3,1,3,4,2]\n",
    "result=find_repeating_number(nums)\n",
    "print(result)\n",
    "nums1= [1,3,4,2,2] \n",
    "result=find_repeating_number(nums1)\n",
    "print(result)"
   ]
  },
  {
   "cell_type": "markdown",
   "id": "be0fad65",
   "metadata": {},
   "source": [
    "# Question 5\n",
    "\n",
    "Given two integer arrays `nums1` and `nums2`, return *an array of their intersection*. Each element in the result must be **unique** and you may return the result in **any order**.\n",
    "\n",
    "**Example 1:**\n",
    "Input: nums1 = [1,2,2,1], nums2 = [2,2]\n",
    "Output: [2]\n",
    "**Example 2:**\n",
    "Input: nums1 = [4,9,5], nums2 = [9,4,9,8,4]\n",
    "Output: [9,4]\n",
    "Explanation: [4,9] is also accepted."
   ]
  },
  {
   "cell_type": "markdown",
   "id": "9df00397",
   "metadata": {},
   "source": [
    "1.initialise empty list result\n",
    "\n",
    "i->pointer for 1st array j->pointer for 2nd array \n",
    "\n",
    "traverse 1st array\n",
    "traverse 2nd array\n",
    "if i==j mean elemnts is present in all aray add to result\n",
    "return result\n",
    "Time complexity:O(n3)+O(logn) \n",
    "Space Complexity:O(n)"
   ]
  },
  {
   "cell_type": "code",
   "execution_count": 55,
   "id": "e44d2655",
   "metadata": {},
   "outputs": [
    {
     "name": "stdout",
     "output_type": "stream",
     "text": [
      "[2]\n",
      "[9, 4]\n"
     ]
    }
   ],
   "source": [
    "def get_intersetion(arr1,arr2):\n",
    "    result=[]\n",
    "    list(arr1).sort()\n",
    "    list(arr2).sort()\n",
    "    for i in arr1: # traversing 1st array\n",
    "        for j in arr2: #traversing 2nd array\n",
    "                if i==j: #if 2 array contain same element add to result\n",
    "                    result.append(i)\n",
    "    return list(set(result))\n",
    "nums1 = [1,2,2,1]\n",
    "nums2 = [2,2]\n",
    "print(get_intersetion(nums1,nums2))\n",
    "nums1 = [4,9,5]\n",
    "nums2 = [9,4,9,8,4] \n",
    "print(get_intersetion(nums1,nums2))"
   ]
  },
  {
   "cell_type": "markdown",
   "id": "b3743ccd",
   "metadata": {},
   "source": [
    "# Question 6\n",
    "\n",
    "Suppose an array of length `n` sorted in ascending order is **rotated** between `1` and `n` times. For example, the array `nums = [0,1,2,4,5,6,7]` might become:\n",
    "\n",
    "- `[4,5,6,7,0,1,2]` if it was rotated `4` times.\n",
    "- `[0,1,2,4,5,6,7]` if it was rotated `7` times.\n",
    "\n",
    "Notice that **rotating** an array `[a[0], a[1], a[2], ..., a[n-1]]` 1 time results in the array `[a[n-1], a[0], a[1], a[2], ..., a[n-2]]`.\n",
    "\n",
    "Given the sorted rotated array `nums` of **unique** elements, return *the minimum element of this array*.\n",
    "\n",
    "You must write an algorithm that runs in `O(log n) time.`\n",
    "Example 1:\n",
    "Input: nums = [3,4,5,1,2]\n",
    "Output: 1\n",
    "Explanation: The original array was [1,2,3,4,5] rotated 3 times.\n",
    "\n",
    "Example2 :\n",
    "Input: nums = [4,5,6,7,0,1,2]\n",
    "Output: 0\n",
    "Explanation: The original array was [0,1,2,4,5,6,7] and it was rotated 4 times.\n",
    "\n",
    "Example3:\n",
    "Input: nums = [11,13,15,17]\n",
    "Output: 11\n",
    "Explanation: The original array was [11,13,15,17] and it was rotated 4 times."
   ]
  },
  {
   "cell_type": "markdown",
   "id": "7abb6fcb",
   "metadata": {},
   "source": [
    "# Algorithm:\n",
    "1.Initialize two pointers, 'left' and 'right', pointing to the start and end of the array, respectively.\n",
    "\n",
    "2.While the value at 'left' is greater than the value at 'right', perform the following steps:\n",
    "     a. Calculate the middle index as 'mid' = (left + right) // 2.\n",
    "     b. Check if the value at 'mid' is greater than the value at 'right'.\n",
    "         If true, it means the minimum element lies in the right half of the array. Move 'left' to 'mid + 1'.\n",
    "            If false, it means the minimum element lies in the left half of the array or 'mid' itself. Move 'right' 'mid'.\n",
    "Return the element at the 'left' pointer, which represents the minimum element."
   ]
  },
  {
   "cell_type": "code",
   "execution_count": 7,
   "id": "f3f5b259",
   "metadata": {},
   "outputs": [
    {
     "name": "stdout",
     "output_type": "stream",
     "text": [
      "1\n",
      "0\n",
      "1\n"
     ]
    }
   ],
   "source": [
    "def find_min(nums):\n",
    "    left=0\n",
    "    right=len(nums)-1\n",
    "    while nums[left] > nums[right]:\n",
    "        mid = (left + right) // 2\n",
    "        if nums[mid] > nums[right]:\n",
    "            left = mid + 1\n",
    "        else:\n",
    "            right = mid\n",
    "    return nums[left]\n",
    "nums = [3, 4, 5, 1, 2]\n",
    "print(find_min(nums))\n",
    "nums = [4,5,6,7,0,1,2] \n",
    "print(find_min(nums))\n",
    "nums = [3,4,5,1,2]\n",
    "print(find_min(nums))"
   ]
  },
  {
   "cell_type": "markdown",
   "id": "376020e4",
   "metadata": {},
   "source": [
    "# Question 07 \n",
    "Given an array of integers `nums` sorted in non-decreasing order, find the starting and ending position of a given `target` value.\n",
    "\n",
    "If `target` is not found in the array, return `[-1, -1]`.\n",
    "\n",
    "You must write an algorithm with `O(log n)` runtime complexity.\n",
    "\n",
    "Input: nums = [5,7,7,8,8,10], target = 8\n",
    "Output: [3,4]\n",
    "\n",
    "**example2**\n",
    "Input: nums = [5,7,7,8,8,10], target = 6\n",
    "Output: [-1,-1]\n",
    "\n",
    "**example3**\n",
    "Input: nums = [], target = 0\n",
    "Output: [-1,-1]"
   ]
  },
  {
   "cell_type": "markdown",
   "id": "34f4cfac",
   "metadata": {},
   "source": [
    "Initialize two variables, left and right, to store the starting and ending positions of the target value, respectively. Initialize them with -1.\n",
    "\n",
    "Perform a binary search to find the leftmost occurrence of the target value:\n",
    "\n",
    "Set left to 0 (the start index of the array).\n",
    "Set right to the length of the array minus 1.\n",
    "While left is less than or equal to right:\n",
    "Calculate the middle index as (left + right) // 2.\n",
    "If the value at the middle index is greater than or equal to the target:\n",
    "Update right to the middle index minus 1.\n",
    "Otherwise:\n",
    "Update left to the middle index plus 1.\n",
    "If the value at index left is equal to the target:\n",
    "The leftmost occurrence of the target is found.\n",
    "Otherwise, the target is not found, so return [-1, -1].\n",
    "Perform a binary search to find the rightmost occurrence of the target value:\n",
    "\n",
    "Set right to the length of the array minus 1.\n",
    "While left is less than or equal to right:\n",
    "Calculate the middle index as (left + right) // 2.\n",
    "If the value at the middle index is greater than the target:\n",
    "Update right to the middle index minus 1.\n",
    "Otherwise:\n",
    "Update left to the middle index plus 1.\n",
    "If the value at index right is equal to the target:\n",
    "The rightmost occurrence of the target is found.\n",
    "Otherwise, the target is not found, so return [-1, -1].\n",
    "Return [left, right] as the starting and ending positions of the target value."
   ]
  },
  {
   "cell_type": "code",
   "execution_count": 1,
   "id": "6dcdba02",
   "metadata": {},
   "outputs": [
    {
     "name": "stdout",
     "output_type": "stream",
     "text": [
      "[3, 4]\n"
     ]
    }
   ],
   "source": [
    "def searchRange(nums, target):\n",
    "    left, right = -1, -1\n",
    "\n",
    "    # Find the leftmost occurrence of the target\n",
    "    start, end = 0, len(nums) - 1\n",
    "    while start <= end:\n",
    "        mid = (start + end) // 2\n",
    "        if nums[mid] >= target:\n",
    "            end = mid - 1\n",
    "        else:\n",
    "            start = mid + 1\n",
    "    if start < len(nums) and nums[start] == target:\n",
    "        left = start\n",
    "\n",
    "    # Find the rightmost occurrence of the target\n",
    "    start, end = 0, len(nums) - 1\n",
    "    while start <= end:\n",
    "        mid = (start + end) // 2\n",
    "        if nums[mid] > target:\n",
    "            end = mid - 1\n",
    "        else:\n",
    "            start = mid + 1\n",
    "    if end >= 0 and nums[end] == target:\n",
    "        right = end\n",
    "\n",
    "    return [left, right]\n",
    "nums = [5, 7, 7, 8, 8, 10]\n",
    "target = 8\n",
    "\n",
    "print(searchRange(nums, target))"
   ]
  },
  {
   "cell_type": "markdown",
   "id": "d3e7291e",
   "metadata": {},
   "source": [
    "# Question 08\n",
    "Given two integer arrays nums1 and nums2, return an array of their intersection. Each element in the result must appear as many times as it shows in both arrays and you may return the result in any order.\n",
    "**example1**\n",
    "Input: nums1 = [4,9,5], nums2 = [9,4,9,8,4]\n",
    "Output: [4,9]\n",
    "Explanation: [9,4] is also accepted.\n",
    "**example2**\n",
    "Input: nums1 = [1,2,2,1], nums2 = [2,2]\n",
    "Output: [2,2]"
   ]
  },
  {
   "cell_type": "markdown",
   "id": "5c3ec243",
   "metadata": {},
   "source": [
    "# Algorithm:\n",
    "To find the intersection of two integer arrays, \n",
    "use a hash map to store the frequency of each element in one of the arrays, \n",
    "and then iterate through the other array to check if the element exists in the hash map and has a frequency greater than zero.\n",
    "\n",
    "Time Complexity:O(n2)\n",
    "Space Complexity:O(n)"
   ]
  },
  {
   "cell_type": "code",
   "execution_count": 21,
   "id": "f6d46ca2",
   "metadata": {},
   "outputs": [
    {
     "name": "stdout",
     "output_type": "stream",
     "text": [
      "[2, 2]\n",
      "[4, 9]\n"
     ]
    }
   ],
   "source": [
    "from collections import Counter\n",
    "def get_intersetion(arr1,arr2):\n",
    "    counter=Counter(nums2)\n",
    "    result=[]\n",
    "    for num in arr1: # traversing 1st array\n",
    "        if counter[num]>0:\n",
    "            result.append(num)\n",
    "            counter[num]-=1\n",
    "    return result\n",
    "nums1 = [1,2,2,1]\n",
    "nums2 = [2,2]\n",
    "print(get_intersetion(nums1,nums2))\n",
    "nums1 = [4,9,5]\n",
    "nums2 = [9,4,9,8,4] \n",
    "print(get_intersetion(nums1,nums2))"
   ]
  },
  {
   "cell_type": "code",
   "execution_count": null,
   "id": "c13c0cc5",
   "metadata": {},
   "outputs": [],
   "source": []
  }
 ],
 "metadata": {
  "kernelspec": {
   "display_name": "Python 3 (ipykernel)",
   "language": "python",
   "name": "python3"
  },
  "language_info": {
   "codemirror_mode": {
    "name": "ipython",
    "version": 3
   },
   "file_extension": ".py",
   "mimetype": "text/x-python",
   "name": "python",
   "nbconvert_exporter": "python",
   "pygments_lexer": "ipython3",
   "version": "3.9.7"
  }
 },
 "nbformat": 4,
 "nbformat_minor": 5
}
