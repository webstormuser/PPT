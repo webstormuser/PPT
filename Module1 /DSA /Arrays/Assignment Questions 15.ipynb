{
 "cells": [
  {
   "cell_type": "markdown",
   "id": "4d26c988",
   "metadata": {},
   "source": [
    "# Question 1\n",
    "\n",
    "Given an array **arr[ ]** of size **N** having elements, the task is to find the next greater element for each element of the array in order of their appearance in the array.Next greater element of an element in the array is the nearest element on the right which is greater than the current element.If there does not exist next greater of current element, then next greater element for current element is -1. For example, next greater of the last element is always -1.\n",
    "Input:\n",
    "N = 4, arr[] = [1 3 2 4]\n",
    "Output:\n",
    "3 4 4 -1\n",
    "Explanation:\n",
    "In the array, the next larger element\n",
    "to 1 is 3 , 3 is 4 , 2 is 4 and for 4 ?\n",
    "since it doesn't exist, it is -1.\n",
    "\n",
    "Input: n = 6\n",
    "a = {1, 5, 0, 3, 4, 5}\n",
    "Output: -1 1 -1 0 3 4\n",
    "Explaination: Upto 3 it is easy to see\n",
    "the smaller numbers. But for 4 the smaller\n",
    "numbers are 1, 0 and 3. But among them 3\n",
    "is closest. Similary for 5 it is 4."
   ]
  },
  {
   "cell_type": "markdown",
   "id": "d4dbbdd4",
   "metadata": {},
   "source": [
    "Algorithm:\n",
    "    \n",
    "take stack=[] and result=[] which keep maintaining list elements and next grater element\n",
    "start from last element of list to starting element \n",
    "\n",
    "iterate while len(stack)>0 and list[i]>top element of stack:\n",
    "    pop top element from stack \n",
    "    \n",
    "    if stack is empty :\n",
    "        move -1 in result \n",
    "        move list's element into stack\n",
    "        \n",
    "    if not :\n",
    "        move list element into stack and \n",
    "        move top element from stack into result \n",
    "        \n",
    "return result in reverse order (because we have kept top elemtns into result so we have reverse )\n",
    "\n",
    "end "
   ]
  },
  {
   "cell_type": "code",
   "execution_count": 1,
   "id": "3db76427",
   "metadata": {},
   "outputs": [
    {
     "name": "stdout",
     "output_type": "stream",
     "text": [
      "[5, 6, 6, -1]\n"
     ]
    }
   ],
   "source": [
    "def find_next_grater_element(lst):\n",
    "    stack=[]\n",
    "    result=[]\n",
    "    for num in reversed(lst):\n",
    "        while (stack and (num>=stack[-1])):\n",
    "            stack.pop()\n",
    "        if len(stack)==0:\n",
    "                result.append(-1)\n",
    "        else:\n",
    "                result.append(stack[-1])\n",
    "        stack.append(num)\n",
    "    return result[::-1]\n",
    "               \n",
    "lst=[4,5,3,6]\n",
    "result=find_next_grater_element(lst)\n",
    "print(result)"
   ]
  },
  {
   "cell_type": "markdown",
   "id": "a41d94be",
   "metadata": {},
   "source": [
    "# Question 2\n",
    "\n",
    "Given an array **a** of integers of length **n**, find the nearest smaller number for every element such that the smaller element is on left side.If no small element present on the left print -1\n",
    "\n",
    "\n",
    "Input: n = 3\n",
    "a = {1, 6, 2}\n",
    "Output: -1 1 1\n",
    "Explaination: There is no number at the\n",
    "left of 1. Smaller number than 6 and 2 is 1.\n",
    "\n",
    "Input: n = 6\n",
    "a = {1, 5, 0, 3, 4, 5}\n",
    "Output: -1 1 -1 0 3 4\n",
    "Explaination: Upto 3 it is easy to see\n",
    "the smaller numbers. But for 4 the smaller\n",
    "numbers are 1, 0 and 3. But among them 3\n",
    "is closest. Similary for 5 it is 4."
   ]
  },
  {
   "cell_type": "code",
   "execution_count": null,
   "id": "8d9fac00",
   "metadata": {},
   "outputs": [],
   "source": []
  },
  {
   "cell_type": "code",
   "execution_count": 2,
   "id": "1a26e5fa",
   "metadata": {},
   "outputs": [
    {
     "name": "stdout",
     "output_type": "stream",
     "text": [
      "[-1, 1, -1, 0, 3, 4]\n",
      "[-1, 4, -1, 3]\n"
     ]
    }
   ],
   "source": [
    "def find_next_smaller_element(lst):\n",
    "    result=[]\n",
    "    stack=[]\n",
    "    \n",
    "    for num in lst:\n",
    "        while stack and (num<=stack[-1]):\n",
    "            stack.pop()\n",
    "        if len(stack)==0:\n",
    "            result.append(-1)\n",
    "        else:\n",
    "            result.append(stack[-1])\n",
    "        stack.append(num)\n",
    "    return result\n",
    "lst=[1,5,0,3,4,5]\n",
    "result=find_next_smaller_element(lst)\n",
    "print(result)\n",
    "lst=[4,5,3,6]\n",
    "result=find_next_smaller_element(lst)\n",
    "print(result)"
   ]
  },
  {
   "cell_type": "markdown",
   "id": "79ce05ef",
   "metadata": {},
   "source": [
    "# Question 3\n",
    "\n",
    "Implement a Stack using two queues **q1** and **q2**\n",
    "\n",
    "Input:\n",
    "push(2)\n",
    "push(3)\n",
    "pop()\n",
    "push(4)\n",
    "pop()\n",
    "Output:3 4\n",
    "Explanation:\n",
    "push(2) the stack will be {2}\n",
    "push(3) the stack will be {2 3}\n",
    "pop()   poped element will be 3 the\n",
    "        stack will be {2}\n",
    "push(4) the stack will be {2 4}\n",
    "pop()   poped element will be 4\n",
    "\n",
    "\n",
    "**Example2**\n",
    "Input:\n",
    "push(2)\n",
    "pop()\n",
    "pop()\n",
    "push(3)\n",
    "Output:2 -1"
   ]
  },
  {
   "cell_type": "markdown",
   "id": "d0c90d01",
   "metadata": {},
   "source": [
    "Algorithm:\n",
    "    \n",
    "take two queue q1 and q2 \n",
    "add elements into q1\n",
    "\n",
    "from q1 transfer elements into q2 except last element store that element into pop_element\n",
    "now exchange the elements from q1 and q2 \n",
    "\n",
    "\n",
    "getting the op element:\n",
    "    \n",
    "while len(q1)> 1 move all elements from q1 to q2 \n",
    " store last element from q1  into top_element \n",
    "    \n",
    " again add that removed element from q1 to q2 and exchange the content of q1 and q2\n"
   ]
  },
  {
   "cell_type": "code",
   "execution_count": 2,
   "id": "38582a74",
   "metadata": {},
   "outputs": [
    {
     "name": "stdout",
     "output_type": "stream",
     "text": [
      "3\n",
      "4\n"
     ]
    }
   ],
   "source": [
    "from collections import deque\n",
    "class Stack:\n",
    "    def __init__(self):\n",
    "        self.q1=deque()\n",
    "        self.q2=deque()\n",
    "        \n",
    "    def push(self,value):\n",
    "        self.q1.append(value)\n",
    "        \n",
    "    def pop(self):\n",
    "        while len(self.q1)>1:\n",
    "            # transfer elements from q1 to q2 except last element \n",
    "            self.q2.append(self.q1.popleft())\n",
    "        # store last element from q1 into pop_element \n",
    "        pop_element=self.q1.popleft()\n",
    "        \n",
    "        #exchange q1 and q2\n",
    "        \n",
    "        self.q1,self.q2=self.q2,self.q1\n",
    "            \n",
    "        return pop_element\n",
    "    \n",
    "    def top(self):\n",
    "        while len(self.q1)>1:\n",
    "            self.q2.append(self.s1.popleft())\n",
    "            \n",
    "        top_element=self.q1.popleft()\n",
    "        \n",
    "        self.q2.append(top_element)\n",
    "        \n",
    "        #schange \n",
    "        self.q1,self.q2=self.q2,self.q1\n",
    "        \n",
    "        return top_element\n",
    "    \n",
    "    def isEmpty(self):\n",
    "        return len(self.q1)==0\n",
    "    \n",
    "stack=Stack()\n",
    "stack.push(2)\n",
    "stack.push(3) \n",
    "print(stack.pop())\n",
    "stack.push(4) \n",
    "print(stack.pop()) "
   ]
  },
  {
   "cell_type": "markdown",
   "id": "5b148a61",
   "metadata": {},
   "source": [
    "# Question 4\n",
    "You are given a stack St. You have to reverse the stack using recursion."
   ]
  },
  {
   "cell_type": "markdown",
   "id": "33912033",
   "metadata": {},
   "source": [
    "Algorithm:\n",
    "    \n",
    "1.if stack is empty return None \n",
    "\n",
    "2.start from top most element remove it and store in bottom of stack\n",
    "\n",
    "3. reverse the rest of elements from stack and remove top and store in next to bottom of stack continue this untill stack becomes empty \n"
   ]
  },
  {
   "cell_type": "code",
   "execution_count": null,
   "id": "d0a76ceb",
   "metadata": {},
   "outputs": [],
   "source": [
    "def reverse(stack):\n",
    "    if not stack:\n",
    "        return \n",
    "    top=stack.pop()\n",
    "    reverse(stack)\n",
    "    insert_at_bottom(stack,top)\n",
    "    \n",
    "def insert_at_bottom(stack,item):\n",
    "    if not stack:\n",
    "        stack.append(item)\n",
    "    top=stack.pop()\n",
    "    insert_at_bottom(stack,item)\n",
    "    stack.append(top)\n",
    "stack=[3,4,5,6]\n",
    "print(\"Original stack\",stack)\n",
    "reverse(stack)\n",
    "print(\"Reversed stack \",stack)    "
   ]
  },
  {
   "cell_type": "markdown",
   "id": "d39b6902",
   "metadata": {},
   "source": [
    "# Question 5 \n",
    "\n",
    "You are given a string **S**, the task is to reverse the string using stack.\n",
    "\n",
    "**Example 1:**\n",
    "Input: S=\"GeeksforGeeks\"\n",
    "Output: skeeGrofskeeG"
   ]
  },
  {
   "cell_type": "code",
   "execution_count": 1,
   "id": "2d72710f",
   "metadata": {},
   "outputs": [
    {
     "name": "stdout",
     "output_type": "stream",
     "text": [
      "skeeGrofskeeG\n"
     ]
    }
   ],
   "source": [
    "class Stack:\n",
    "    def __init__(self):\n",
    "        self.stack=[]\n",
    "        \n",
    "    def push(self,value):\n",
    "        self.stack.append(value)\n",
    "        \n",
    "    def pop(self):\n",
    "        if not self.isEmpty():\n",
    "            return self.stack.pop()\n",
    "        else:\n",
    "            return \n",
    "        \n",
    "    def isEmpty(self):\n",
    "        return len(self.stack)==0\n",
    "    \n",
    "    def top(self):\n",
    "        return self.stack[-1]\n",
    "    \n",
    "    \n",
    "def reverseString(string):\n",
    "    s=Stack()\n",
    "    reverse_string=''\n",
    "    for i in string:\n",
    "        s.push(i)      \n",
    "    while not s.isEmpty():\n",
    "        term=s.pop()\n",
    "        reverse_string=reverse_string+term\n",
    "    return reverse_string\n",
    "st=\"GeeksforGeeks\"\n",
    "result=reverseString(st)\n",
    "print(result)"
   ]
  },
  {
   "cell_type": "markdown",
   "id": "a5029650",
   "metadata": {},
   "source": [
    "# Question 6\n",
    "\n",
    "Given string **S** representing a postfix expression, the task is to evaluate the expression and find the final value. Operators will only include the basic arithmetic operators like ***, /, + and -**.\n",
    "\n",
    "Input: S = \"231*+9-\"\n",
    "Output: -4\n",
    "Explanation:\n",
    "After solving the given expression,\n",
    "we have -4 as result.\n",
    "\n",
    "Input: S = \"123+*8-\"\n",
    "Output: -3\n",
    "Explanation:\n",
    "After solving the given postfix\n",
    "expression, we have -3 as result."
   ]
  },
  {
   "cell_type": "markdown",
   "id": "814cd46f",
   "metadata": {},
   "source": [
    "Algorithm:\n",
    "    \n",
    "Untill stack become empty \n",
    " if element in stack is digit push element into stack \n",
    " if element in stack is (*,/,+,-) any of this operator pop two elements from stack and store it into num2 and num1 \n",
    " and peroform operation with specific operator and store result into result variable and push result into stack\n",
    "    \n",
    "return result \n",
    "\n",
    "Time Complexity:\n",
    "O(n)\n",
    "Space Comlpexity:O(n)"
   ]
  },
  {
   "cell_type": "code",
   "execution_count": 1,
   "id": "b12cc987",
   "metadata": {},
   "outputs": [
    {
     "name": "stdout",
     "output_type": "stream",
     "text": [
      "-4\n"
     ]
    }
   ],
   "source": [
    "class Stack:\n",
    "    def __init__(self):\n",
    "        self.stack=[]\n",
    "        \n",
    "    def push(self,value):\n",
    "        self.stack.append(value)\n",
    "        \n",
    "    def pop(self):\n",
    "        if not self.isEmpty():\n",
    "            return self.stack.pop()\n",
    "    \n",
    "    def isEmpty(self):\n",
    "        return len(self.stack)==0\n",
    "    \n",
    "    def top(self):\n",
    "        return self.stack[-1]\n",
    "    \n",
    "    \n",
    "def evaluate_postfix(String):\n",
    "    st=Stack()\n",
    "    for i in String:\n",
    "        if i.isdigit():\n",
    "            st.push(int(i))\n",
    "        else:\n",
    "            num2=st.pop()\n",
    "            num1=st.pop()\n",
    "            if i=='+':\n",
    "                st.push(int(num1)+int(num2))\n",
    "            elif i=='-':\n",
    "                st.push(int(num1)-int(num2))\n",
    "            elif i=='*':\n",
    "                st.push(int(num1)*int(num2))\n",
    "            elif i=='/':\n",
    "                st.push(int(num1)/int(num2))\n",
    "    return st.top()\n",
    "\n",
    "String=\"231*+9-\"\n",
    "result=evaluate_postfix(String)\n",
    "print(result)"
   ]
  },
  {
   "cell_type": "markdown",
   "id": "9784edf6",
   "metadata": {},
   "source": [
    "# Question 7\n",
    "\n",
    "Design a stack that supports push, pop, top, and retrieving the minimum element in constant time.\n",
    "\n",
    "Implement the `MinStack` class:\n",
    "\n",
    "- `MinStack()` initializes the stack object.\n",
    "- `void push(int val)` pushes the element `val` onto the stack.\n",
    "- `void pop()` removes the element on the top of the stack.\n",
    "- `int top()` gets the top element of the stack.\n",
    "- `int getMin()` retrieves the minimum element in the stack.\n",
    "\n",
    "You must implement a solution with `O(1)` time complexity for each function.\n",
    "Input\n",
    "[\"MinStack\",\"push\",\"push\",\"push\",\"getMin\",\"pop\",\"top\",\"getMin\"]\n",
    "[[],[-2],[0],[-3],[],[],[],[]]\n",
    "\n",
    "Output\n",
    "[null,null,null,null,-3,null,0,-2]\n",
    "\n",
    "Explanation\n",
    "MinStack minStack = new MinStack();\n",
    "minStack.push(-2);\n",
    "minStack.push(0);\n",
    "minStack.push(-3);\n",
    "minStack.getMin(); // return -3\n",
    "minStack.pop();\n",
    "minStack.top();    // return 0\n",
    "minStack.getMin(); // return -2"
   ]
  },
  {
   "cell_type": "code",
   "execution_count": null,
   "id": "3598c58d",
   "metadata": {},
   "outputs": [],
   "source": []
  },
  {
   "cell_type": "code",
   "execution_count": 9,
   "id": "96438610",
   "metadata": {},
   "outputs": [
    {
     "name": "stdout",
     "output_type": "stream",
     "text": [
      "-3\n",
      "0\n",
      "-2\n"
     ]
    }
   ],
   "source": [
    "class MinStack:\n",
    "    def __init__(self):\n",
    "        self.stack=[]\n",
    "        self.min_stack=[]\n",
    "        \n",
    "    def push(self,value):\n",
    "        self.stack.append(value)\n",
    "        \n",
    "        if not self.min_stack or value<self.min_stack[-1]: #if minstack is empty or value passing is < current value in minstack then append value in minstack\n",
    "            self.min_stack.append(value)\n",
    "            \n",
    "    def pop(self):\n",
    "         if self.stack:\n",
    "            popped_element = self.stack.pop()\n",
    "            if popped_element == self.min_stack[-1]:\n",
    "                self.min_stack.pop()\n",
    "    def top(self) -> int:\n",
    "        if self.stack:\n",
    "            return self.stack[-1]\n",
    "        return None\n",
    "\n",
    "    def getMin(self):\n",
    "        if self.min_stack:\n",
    "            return self.min_stack[-1]\n",
    "        return None\n",
    "\n",
    "mins=MinStack()\n",
    "mins.push(-2)\n",
    "mins.push(0)\n",
    "mins.push(-3)\n",
    "print(mins.getMin())\n",
    "mins.pop()\n",
    "print(mins.top())\n",
    "print(mins.getMin())"
   ]
  },
  {
   "cell_type": "markdown",
   "id": "5382d7b3",
   "metadata": {},
   "source": [
    "# Question 8\n",
    "\n",
    "Given `n` non-negative integers representing an elevation map where the width of each bar is `1`, compute how much water it can trap after raining.\n",
    "\n",
    "**Example 1:**\n",
    "Input: height = [0,1,0,2,1,0,1,3,2,1,2,1]\n",
    "Output: 6\n",
    "Explanation: The above elevation map (black section) is represented by array [0,1,0,2,1,0,1,3,2,1,2,1]. In this case, 6 units of rain water (blue section) are being trapped."
   ]
  },
  {
   "cell_type": "code",
   "execution_count": null,
   "id": "00fdc10e",
   "metadata": {},
   "outputs": [],
   "source": []
  },
  {
   "cell_type": "code",
   "execution_count": 10,
   "id": "0e86992b",
   "metadata": {},
   "outputs": [
    {
     "name": "stdout",
     "output_type": "stream",
     "text": [
      "9\n"
     ]
    }
   ],
   "source": [
    "def trap(height):\n",
    "    if not height:\n",
    "        return 0\n",
    "\n",
    "    n = len(height)\n",
    "    left = 0\n",
    "    right = n - 1\n",
    "    left_max = 0\n",
    "    right_max = 0\n",
    "    water = 0\n",
    "\n",
    "    while left < right:\n",
    "        if height[left] < height[right]:\n",
    "            if height[left] >= left_max:\n",
    "                left_max = height[left]\n",
    "            else:\n",
    "                water += left_max - height[left]\n",
    "            left += 1\n",
    "        else:\n",
    "            if height[right] >= right_max:\n",
    "                right_max = height[right]\n",
    "            else:\n",
    "                water += right_max - height[right]\n",
    "            right -= 1\n",
    "\n",
    "    return water\n",
    "\n",
    "height = [4,2,0,3,2,5]\n",
    "result=trap(height)\n",
    "print(result)"
   ]
  },
  {
   "cell_type": "code",
   "execution_count": null,
   "id": "89a57c97",
   "metadata": {},
   "outputs": [],
   "source": []
  }
 ],
 "metadata": {
  "kernelspec": {
   "display_name": "Python 3 (ipykernel)",
   "language": "python",
   "name": "python3"
  },
  "language_info": {
   "codemirror_mode": {
    "name": "ipython",
    "version": 3
   },
   "file_extension": ".py",
   "mimetype": "text/x-python",
   "name": "python",
   "nbconvert_exporter": "python",
   "pygments_lexer": "ipython3",
   "version": "3.9.7"
  }
 },
 "nbformat": 4,
 "nbformat_minor": 5
}
