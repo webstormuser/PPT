{
 "cells": [
  {
   "cell_type": "markdown",
   "id": "77d623d3",
   "metadata": {},
   "source": [
    "# Assignment Questions 2"
   ]
  },
  {
   "cell_type": "markdown",
   "id": "1ae91147",
   "metadata": {},
   "source": [
    "# Question 1\n",
    "Given an integer array nums of 2n integers, group these integers into n pairs (a1, b1), (a2, b2),..., (an, bn) such that the sum of min(ai, bi) for all i is maximized. Return the maximized sum.\n",
    "\n",
    "**Example 1:**\n",
    "Input: nums = [1,4,3,2]\n",
    "Output: 4\n",
    "\n",
    "**Explanation:** All possible pairings (ignoring the ordering of elements) are:\n",
    "\n",
    "1. (1, 4), (2, 3) -> min(1, 4) + min(2, 3) = 1 + 2 = 3\n",
    "2. (1, 3), (2, 4) -> min(1, 3) + min(2, 4) = 1 + 2 = 3\n",
    "3. (1, 2), (3, 4) -> min(1, 2) + min(3, 4) = 1 + 3 = 4\n",
    "So the maximum possible sum is 4\n",
    "</aside>"
   ]
  },
  {
   "cell_type": "markdown",
   "id": "94618c4a",
   "metadata": {},
   "source": [
    "Solution :\n",
    "\n",
    "*  accept input array and sort it\n",
    "* take result variable= 0 which adds to minimun value of combination of 2 numbers from array\n",
    "* for each number in range 0 to size of array with step size 2(since we have to take combination of 2 numbers only)\n",
    "     1. find min value of current number and next number from array\n",
    "        min(arr[i]+arr[i+1]) \n",
    "        and add to result\n",
    "     2. result=result+min(arr[i]+arr[i+1])\n",
    "* return result"
   ]
  },
  {
   "cell_type": "code",
   "execution_count": 5,
   "id": "0f371660",
   "metadata": {},
   "outputs": [
    {
     "name": "stdout",
     "output_type": "stream",
     "text": [
      "4\n",
      "10\n"
     ]
    }
   ],
   "source": [
    "def max_sum_arr(arr):\n",
    "    arr.sort()\n",
    "    result=0\n",
    "    for i in range(0,len(arr),2):\n",
    "        result=result+min(arr[i],arr[i+1])\n",
    "    return result\n",
    "arr=[1,2,4,3]\n",
    "print(max_sum_arr(arr))\n",
    "arr=[2,3,8,9]\n",
    "print(max_sum_arr(arr))"
   ]
  },
  {
   "cell_type": "markdown",
   "id": "6ae81099",
   "metadata": {},
   "source": [
    "# Question 2\n",
    "Alice has n candies, where the ith candy is of type candyType[i]. Alice noticed that she started to gain weight, so she visited a doctor. \n",
    "\n",
    "The doctor advised Alice to only eat n / 2 of the candies she has (n is always even). Alice likes her candies very much, and she wants to eat the maximum number of different types of candies while still following the doctor's advice. \n",
    "\n",
    "Given the integer array candyType of length n, return the maximum number of different types of candies she can eat if she only eats n / 2 of them.\n",
    "\n",
    "Example 1:\n",
    "Input: candyType = [1,1,2,2,3,3]\n",
    "Output: 3\n",
    "\n",
    "Explanation: Alice can only eat 6 / 2 = 3 candies. Since there are only 3 types, she can eat one of each type."
   ]
  },
  {
   "cell_type": "markdown",
   "id": "a5fbd14a",
   "metadata": {},
   "source": [
    "Algorithm:\n",
    "    \n",
    "    to solve this problem we will use counter from collection which keep candy_type and its_count \n",
    "* initialize max_candies=0 which shows how many max candies can be eaten by Alice \n",
    "* for rach candy and candy_count increment max_candies and divide by 2\n",
    "* max_candies=(max_candies+candy_count)//2\n",
    "* return max_candies"
   ]
  },
  {
   "cell_type": "code",
   "execution_count": 2,
   "id": "395ae35b",
   "metadata": {},
   "outputs": [
    {
     "name": "stdout",
     "output_type": "stream",
     "text": [
      "3\n",
      "0\n"
     ]
    }
   ],
   "source": [
    "from collections import Counter\n",
    "def max_candies_eaten(candies):\n",
    "    candy_counter=Counter(candies)\n",
    "    max_candies=0\n",
    "    for count in candy_counter.values():\n",
    "        max_candies=max_candies+count//2\n",
    "    return max_candies\n",
    "candies=[1,1,2,2,3,3]\n",
    "print(max_candies_eaten(candies))#it has 3 max candies 6/2=3 so it can be choosen 1 candy of type 1 ,1 candy of type 2 and 1 candy of type 3\n",
    "candies=[1,2,3,4,5,6]\n",
    "print(max_candies_eaten(candies))"
   ]
  },
  {
   "cell_type": "markdown",
   "id": "280cb5d5",
   "metadata": {},
   "source": [
    "# Question 3\n",
    "We define a harmonious array as an array where the difference between its maximum value\n",
    "and its minimum value is exactly 1.\n",
    "\n",
    "Given an integer array nums, return the length of its longest harmonious subsequence\n",
    "among all its possible subsequences.\n",
    "\n",
    "A subsequence of an array is a sequence that can be derived from the array by deleting some or no elements without changing the order of the remaining elements.\n",
    "\n",
    "Example 1:\n",
    "Input: nums = [1,3,2,2,5,2,3,7]\n",
    "Output: 5\n",
    "\n",
    "Explanation: The longest harmonious subsequence is [3,2,2,2,3]."
   ]
  },
  {
   "cell_type": "code",
   "execution_count": 2,
   "id": "a7a5ea7f",
   "metadata": {},
   "outputs": [
    {
     "name": "stdout",
     "output_type": "stream",
     "text": [
      "5\n"
     ]
    }
   ],
   "source": [
    "from collections import Counter\n",
    "def find_longest_lormonious_length(nums):\n",
    "    max_length=0\n",
    "    counter=Counter(nums)\n",
    "    for num in counter:\n",
    "        if num+1 in counter:\n",
    "            length=counter[num]+counter[num+1]\n",
    "            if length>max_length:\n",
    "                max_length=length\n",
    "    return max_length\n",
    "nums=[1,3,2,2,5,2,3,7]\n",
    "result=find_longest_lormonious_length(nums)\n",
    "print(result)"
   ]
  },
  {
   "cell_type": "markdown",
   "id": "9a094af0",
   "metadata": {},
   "source": [
    "# Question 4\n",
    "You have a long flowerbed in which some of the plots are planted, and some are not.\n",
    "However, flowers cannot be planted in adjacent plots.\n",
    "Given an integer array flowerbed containing 0's and 1's, where 0 means empty and 1 means not empty, and an integer n, return true if n new flowers can be planted in the flowerbed without violating the no-adjacent-flowers rule and false otherwise.\n",
    "\n",
    "Example 1:\n",
    "Input: flowerbed = [1,0,0,0,1], n = 1\n",
    "Output: true"
   ]
  },
  {
   "cell_type": "markdown",
   "id": "76c64337",
   "metadata": {},
   "source": [
    "Algorithm:\n",
    "    \n",
    "* start from 1st position to last poisition of flowerbed for empty space\n",
    "* if current position is full(means 1) skip that and check for next position\n",
    "* if current position is empty now check for its previos position and next position if both are empty then plant can be planted and increment count\n",
    "* retun count"
   ]
  },
  {
   "cell_type": "code",
   "execution_count": 6,
   "id": "b26b30cc",
   "metadata": {},
   "outputs": [
    {
     "name": "stdout",
     "output_type": "stream",
     "text": [
      "True\n",
      "False\n"
     ]
    }
   ],
   "source": [
    "def flowerbed_count(flowerbed,no_of_plants):\n",
    "    planted=0\n",
    "    size=len(flowerbed)-1\n",
    "    for i in range(size):\n",
    "        if flowerbed[i]==1:\n",
    "            continue # means place is allready occupied \n",
    "        if (i==0 or flowerbed[i-1]==0) and (i==size-1 or flowerbed[i+1]==0):\n",
    "            flowerbed[i]=1\n",
    "            planted+=1\n",
    "    return planted==no_of_plants\n",
    "flowerbed=[0,1,0,0,0,1,0,0]\n",
    "no_of_plants=1\n",
    "result=flowerbed_count(flowerbed,no_of_plants)\n",
    "print(result)\n",
    "flowerbed=[0,1,0,0,0,1,0,0]\n",
    "no_of_plants=2\n",
    "result=flowerbed_count(flowerbed,no_of_plants)\n",
    "print(result)"
   ]
  },
  {
   "cell_type": "markdown",
   "id": "cf3bcd89",
   "metadata": {},
   "source": [
    "# Question 5\n",
    "Given an integer array nums, find three numbers whose product is maximum and return the maximum product.\n",
    "\n",
    "Example 1:\n",
    "Input: nums = [1,2,3]\n",
    "Output: 6"
   ]
  },
  {
   "cell_type": "markdown",
   "id": "6f840199",
   "metadata": {},
   "source": [
    "Algorithm:\n",
    "* accept input array and sort it \n",
    "* i is the counter for iterating each number in arry and n is size of array\n",
    "* find the sum of last  3 numbers which are arranged in sorted order  and product 2 for first 2 numbers and last number(it is because it may contain some -ve number so that product of 2 -ve can be large number)\n",
    "  a. product1=arr[n-1]*arr[n-2]*arr[n-3]\n",
    "  b. product2=arr[0]*arr[1]*arr[n-1]\n",
    "* find max of product1 and product2\n",
    "* rturn maax(product1,product2)"
   ]
  },
  {
   "cell_type": "code",
   "execution_count": 7,
   "id": "8e87ab13",
   "metadata": {},
   "outputs": [
    {
     "name": "stdout",
     "output_type": "stream",
     "text": [
      "6\n",
      "84\n"
     ]
    }
   ],
   "source": [
    "def max_product_arr(arr):\n",
    "    arr.sort()\n",
    "    n=len(arr)\n",
    "    product1=arr[n-1]*arr[n-2]*arr[n-3]\n",
    "    product2=arr[0]*arr[1]*arr[n-1]\n",
    "    return max(product1,product2)\n",
    "arr=[1,2,3]\n",
    "print(max_product_arr(arr))\n",
    "arr2=[-6,-7,2,0,1]\n",
    "print(max_product_arr(arr2))    "
   ]
  },
  {
   "cell_type": "markdown",
   "id": "83efc1ce",
   "metadata": {},
   "source": [
    "# Question 6\n",
    "Given an array of integers nums which is sorted in ascending order, and an integer target,\n",
    "write a function to search target in nums. If target exists, then return its index. Otherwise,\n",
    "return -1.\n",
    "\n",
    "You must write an algorithm with O(log n) runtime complexity.\n",
    "\n",
    "Input: nums = [-1,0,3,5,9,12], target = 9\n",
    "Output: 4\n",
    "\n",
    "Explanation: 9 exists in nums and its index is 4"
   ]
  },
  {
   "cell_type": "markdown",
   "id": "96846522",
   "metadata": {},
   "source": [
    "Solution\n",
    "Algorithm:\n",
    "* Compare x with the middle element.\n",
    "* If x matches with the middle element, we return the mid index.\n",
    "* Else if x is greater than the mid element, then x can only lie in the right (greater) half subarray after the mid element. Then we apply the algorithm again for the right half.\n",
    "* Else if x is smaller, the target x must lie in the left (lower) half. So we apply the algorithm for the left half."
   ]
  },
  {
   "cell_type": "code",
   "execution_count": 8,
   "id": "3fe23f47",
   "metadata": {},
   "outputs": [
    {
     "name": "stdout",
     "output_type": "stream",
     "text": [
      "Number is present at position 4\n"
     ]
    }
   ],
   "source": [
    "def find_index(arr,low,high,target):\n",
    "    arr.sort()\n",
    "    while(low<=high):\n",
    "        mid=(low+high)//2\n",
    "        if arr[mid]==target:\n",
    "            return mid \n",
    "        elif arr[mid]<target:\n",
    "            return find_index(arr,mid+1,high,target)\n",
    "        elif arr[mid]>taget:\n",
    "            return find_index(arr,low,mid-1,target)\n",
    "        else: \n",
    "            return -1\n",
    "        low=low+1\n",
    "    high=high+1\n",
    "arr=[-1,0,3,5,9,12]\n",
    "target=9\n",
    "result=find_index(arr,0,len(arr)-1,target)\n",
    "if result==-1:\n",
    "    print(\"Number is not present \")\n",
    "else:\n",
    "    print(\"Number is present at position\",str(result))"
   ]
  },
  {
   "cell_type": "markdown",
   "id": "973870a2",
   "metadata": {},
   "source": [
    "# Question 7\n",
    "An array is monotonic if it is either monotone increasing or monotone decreasing.\n",
    "\n",
    "An array nums is monotone increasing if for all i <= j, nums[i] <= nums[j]. An array nums is\n",
    "monotone decreasing if for all i <= j, nums[i] >= nums[j].\n",
    "\n",
    "Given an integer array nums, return true if the given array is monotonic, or false otherwise.\n",
    "\n",
    "Example 1:\n",
    "Input: nums = [1,2,2,3]\n",
    "Output: true"
   ]
  },
  {
   "cell_type": "markdown",
   "id": "3ba7003e",
   "metadata": {},
   "source": [
    "#Algorithm\n",
    "\n",
    " 1. take two empty list X,Y which will store one sorted number s in ascneding and one will store in descending order\n",
    " 2. Now check either X==original arr or Y==original arr if yes\n",
    "   return True else return False"
   ]
  },
  {
   "cell_type": "code",
   "execution_count": 9,
   "id": "c8f018af",
   "metadata": {},
   "outputs": [
    {
     "name": "stdout",
     "output_type": "stream",
     "text": [
      "True\n",
      "False\n"
     ]
    }
   ],
   "source": [
    "def monotonic_array(arr):\n",
    "    x,y=[],[]\n",
    "    x.extend(arr)\n",
    "    y.extend(arr)\n",
    "    x.sort()\n",
    "    y.sort(reverse=True)\n",
    "    if(x==arr or y==arr):\n",
    "        return True\n",
    "    else:\n",
    "        return False\n",
    "arr=[1,2,2,3]\n",
    "print(monotonic_array(arr))\n",
    "arr2=[5,15,20,10]\n",
    "print(monotonic_array(arr2))"
   ]
  },
  {
   "cell_type": "markdown",
   "id": "739fc963",
   "metadata": {},
   "source": [
    "# Question 8\n",
    "You are given an integer array nums and an integer k.\n",
    "\n",
    "In one operation, you can choose any index i where 0 <= i < nums.length and change nums[i] to nums[i] + x where x is an integer from the range [-k, k]. You can apply this operation at most once for each index i.\n",
    "\n",
    "The score of nums is the difference between the maximum and minimum elements in nums.\n",
    "\n",
    "Return the minimum score of nums after applying the mentioned operation at most once for each index in it.\n",
    "\n",
    "Example 1:\n",
    "Input: nums = [1], k = 0\n",
    "Output: 0\n",
    "\n",
    "Explanation: The score is max(nums) - min(nums) = 1 - 1 = 0."
   ]
  },
  {
   "cell_type": "markdown",
   "id": "473f8f97",
   "metadata": {},
   "source": [
    "Algorithm:\n",
    "* Find the initial minimum and maximum values in nums.\n",
    "* Initialize the minScore variable with the difference between the maximum and minimum values.\n",
    "* Iterate through each element num in nums.\n",
    "* Calculate the potential new minimum and maximum values if we add/subtract k to num.\n",
    "* Update minScore if the new difference is smaller than the current minScore.\n",
    "* Return the final minScore."
   ]
  },
  {
   "cell_type": "code",
   "execution_count": 10,
   "id": "73a1df6e",
   "metadata": {},
   "outputs": [
    {
     "name": "stdout",
     "output_type": "stream",
     "text": [
      "0\n"
     ]
    }
   ],
   "source": [
    "def minimumScore(nums,k):\n",
    "    minvalue=min(nums)\n",
    "    maxvalue=max(nums)\n",
    "    minScore=maxvalue-minvalue\n",
    "    if k==0:\n",
    "        return minScore\n",
    "    for num in nums:\n",
    "        newmin=min(minvalue+k,nums-k)\n",
    "        newmax=max(maxvalue-k,nums+k)\n",
    "        minScore=min(minScore,newmax-newmin)\n",
    "    return minScore\n",
    "nums=[3]\n",
    "k=0\n",
    "result=minimumScore(nums,k)\n",
    "print(result)"
   ]
  },
  {
   "cell_type": "code",
   "execution_count": null,
   "id": "f32e6caa",
   "metadata": {},
   "outputs": [],
   "source": []
  }
 ],
 "metadata": {
  "kernelspec": {
   "display_name": "Python 3 (ipykernel)",
   "language": "python",
   "name": "python3"
  },
  "language_info": {
   "codemirror_mode": {
    "name": "ipython",
    "version": 3
   },
   "file_extension": ".py",
   "mimetype": "text/x-python",
   "name": "python",
   "nbconvert_exporter": "python",
   "pygments_lexer": "ipython3",
   "version": "3.9.7"
  }
 },
 "nbformat": 4,
 "nbformat_minor": 5
}
