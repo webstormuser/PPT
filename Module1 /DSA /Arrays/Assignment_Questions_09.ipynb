{
 "cells": [
  {
   "cell_type": "markdown",
   "metadata": {},
   "source": [
    "# Question 1\n",
    "Given an integer `n`, return *`true` if it is a power of two. Otherwise, return `false`*.\n",
    "\n",
    "An integer `n` is a power of two, if there exists an integer `x` such that `n == 2x`.\n",
    "\n",
    "**Example 1:**\n",
    "Input: n = 1 \n",
    "\n",
    "Output: true\n",
    "\n",
    "**Example 2:**\n",
    "Input: n = 16 \n",
    "\n",
    "Output: true\n",
    "\n",
    "**Example 3:**\n",
    "Input: n = 3 \n",
    "\n",
    "Output: false"
   ]
  },
  {
   "cell_type": "markdown",
   "metadata": {},
   "source": [
    "# algorithm \n",
    "\n",
    "1.check if num==1 return true \n",
    "\n",
    "2.check if num%2!=0 or num<=0  then return False \n",
    "\n",
    "3.otherwise call function ispoweroftwo(n//2) /* this time number will be passed to the function is number divided by 2 upto getting 1\n",
    "\n",
    "Time complexity: O(logn)\n",
    "Space comllexity: O(1)"
   ]
  },
  {
   "cell_type": "code",
   "execution_count": 1,
   "metadata": {
    "colab": {
     "base_uri": "https://localhost:8080/"
    },
    "id": "1OVr5ffn3VQw",
    "outputId": "63b7eea0-b61a-4b04-80dc-33f1ee587b21"
   },
   "outputs": [
    {
     "name": "stdout",
     "output_type": "stream",
     "text": [
      "False\n",
      "True\n"
     ]
    }
   ],
   "source": [
    "\n",
    "def is_power_two(num):\n",
    "    if num==1: \n",
    "        return True\n",
    "    if (num%2!=0) or(num<=0):\n",
    "        return False\n",
    "    else :\n",
    "        return is_power_two(num//2)\n",
    "num=24\n",
    "result=is_power_two(num)\n",
    "print(result)\n",
    "num=64\n",
    "result=is_power_two(num)\n",
    "print(result)"
   ]
  },
  {
   "cell_type": "markdown",
   "metadata": {},
   "source": [
    "# Question 2\n",
    "\n",
    "Given a number n, find the sum of the first natural numbers.\n",
    "\n",
    "**Example 1:**\n",
    "\n",
    "Input: n = 3 \n",
    "\n",
    "Output: 6\n",
    "\n",
    "**Example 2:**\n",
    "\n",
    "Input  : 5 \n",
    "\n",
    "Output : 15"
   ]
  },
  {
   "cell_type": "markdown",
   "metadata": {
    "id": "bhOr4iiL4-dU"
   },
   "source": [
    "# algorithm:\n",
    "1. If num==1 return num \n",
    "\n",
    "2. Else return num+sum_of_natural_number(num-1)\n",
    "\n",
    "Time compelxity: O(log n)\n",
    "\n",
    "Space complexity: O(1)"
   ]
  },
  {
   "cell_type": "code",
   "execution_count": 2,
   "metadata": {
    "colab": {
     "base_uri": "https://localhost:8080/"
    },
    "id": "mV49uZoF5R5G",
    "outputId": "70e07d56-e475-45d2-91be-753ee212dc13"
   },
   "outputs": [
    {
     "name": "stdout",
     "output_type": "stream",
     "text": [
      "15\n"
     ]
    }
   ],
   "source": [
    "\n",
    "def sum_of_natural_numbers(N):\n",
    "    if N==1:\n",
    "        return 1 \n",
    "    else :\n",
    "        return N+sum_of_natural_numbers(N-1)\n",
    "N=5\n",
    "result=sum_of_natural_numbers(N)\n",
    "print(result)"
   ]
  },
  {
   "cell_type": "markdown",
   "metadata": {},
   "source": [
    "# Question 3\n",
    "\n",
    "Given a positive integer, N. Find the factorial of N. \n",
    "\n",
    "**Example 1:**\n",
    "\n",
    "Input: N = 5 \n",
    "\n",
    "Output: 120\n",
    "\n",
    "**Example 2:**\n",
    "\n",
    "Input: N = 4\n",
    "\n",
    "Output: 24\n",
    "\n",
    "</aside>"
   ]
  },
  {
   "cell_type": "markdown",
   "metadata": {
    "id": "JQJVVpjI5s0S"
   },
   "source": [
    "# algorithm \n",
    "\n",
    " 1. If num==1  return num \n",
    "\n",
    "2. Else num*factorial(num-1)\n",
    "\n",
    "Time complexity: O(n)\n",
    "\n",
    "Space complexity: O(1)"
   ]
  },
  {
   "cell_type": "code",
   "execution_count": 3,
   "metadata": {
    "colab": {
     "base_uri": "https://localhost:8080/"
    },
    "id": "-vNGWQtC5_yp",
    "outputId": "9363cf45-bae1-45af-c4ee-cd9dc5402678"
   },
   "outputs": [
    {
     "name": "stdout",
     "output_type": "stream",
     "text": [
      "120\n"
     ]
    }
   ],
   "source": [
    "\n",
    "def factorial(num):\n",
    "    if num==1:\n",
    "        return 1 \n",
    "    else :\n",
    "         return num*factorial(num-1)\n",
    "num=5\n",
    "result=factorial(num)\n",
    "print(result)"
   ]
  },
  {
   "cell_type": "markdown",
   "metadata": {},
   "source": [
    "# Quesion 4\n",
    "\n",
    "Given a number N and a power P, the task is to find the exponent of this number raised to the given power, i.e. N^P.\n",
    "\n",
    "**Example 1 :** \n",
    "\n",
    "Input: N = 5, P = 2\n",
    "\n",
    "Output: 25\n",
    "\n",
    "**Example 2 :**\n",
    "Input: N = 2, P = 5\n",
    "\n",
    "Output: 32"
   ]
  },
  {
   "cell_type": "markdown",
   "metadata": {
    "id": "4Xg70eN_7vb4"
   },
   "source": [
    "# algorithm:\n",
    "\n",
    "1.define function num_power(num,power) where num is number whose power to be calculted.\n",
    "\n",
    "2.if power==0 them return 1 \n",
    "\n",
    "3.if power==1 then return num\n",
    "\n",
    "4.Else retrun num*num_power(num,(power-1))\n",
    "\n",
    "5.end\n",
    "\n",
    "Time complexity:O(n)\n",
    "\n",
    "Space complexity: O(1)"
   ]
  },
  {
   "cell_type": "code",
   "execution_count": 4,
   "metadata": {
    "colab": {
     "base_uri": "https://localhost:8080/"
    },
    "id": "VD5RQ-dJ73ri",
    "outputId": "7326380d-f1b1-4850-fa3b-3f073c903880"
   },
   "outputs": [
    {
     "name": "stdout",
     "output_type": "stream",
     "text": [
      "16\n",
      "81\n"
     ]
    }
   ],
   "source": [
    "def num_power(num,power):\n",
    "    if power==0:\n",
    "        return 1 \n",
    "    elif power<0:\n",
    "        return 1/num_power(num,-power)\n",
    "    else :\n",
    "        return num*num_power(num,(power-1))\n",
    "        \n",
    "num=2 \n",
    "power=4\n",
    "result=num_power(num,power)\n",
    "print(result)\n",
    "Num=3 \n",
    "Power=4 \n",
    "Result=num_power(Num,Power)\n",
    "print(Result)"
   ]
  },
  {
   "cell_type": "markdown",
   "metadata": {},
   "source": [
    "# Question 5\n",
    "\n",
    "Given an array of integers **arr**, the task is to find maximum element of that array using recursion.\n",
    "\n",
    "**Example 1:**\n",
    "\n",
    "Input: arr = {1, 4, 3, -5, -4, 8, 6};\n",
    "Output: 8\n",
    "\n",
    "**Example 2:**\n",
    "\n",
    "Input: arr = {1, 4, 45, 6, 10, -8};\n",
    "Output: 45\n"
   ]
  },
  {
   "cell_type": "markdown",
   "metadata": {
    "id": "XVf0wx51xfW7"
   },
   "source": [
    "# algorithm\n",
    "\n",
    "1.define function max_num(arr) which take array of numbers as inpur\n",
    "\n",
    "2.if len(arr)==1 return arr[0] \n",
    " If array contain onlny 1 numbers retuen that number itself\n",
    "\n",
    "3.Else  return max number from 1st index to last index\n",
    "  Return max(arr[0],max_num(arr[1:])\n",
    "\n",
    "4.end\n",
    "\n",
    "Time comexity:O(n)\n",
    "Space complexity:O(1)"
   ]
  },
  {
   "cell_type": "code",
   "execution_count": 5,
   "metadata": {
    "colab": {
     "base_uri": "https://localhost:8080/"
    },
    "id": "ID9YsPt_yZNU",
    "outputId": "52d4f6f0-a2bc-4038-b708-2b9755f877c2"
   },
   "outputs": [
    {
     "name": "stdout",
     "output_type": "stream",
     "text": [
      "Maximum number: 10\n"
     ]
    }
   ],
   "source": [
    "\n",
    "def find_max(arr):\n",
    "    if len(arr) == 1:\n",
    "        return arr[0]\n",
    "    else:\n",
    "        return max(arr[0], find_max(arr[1:]))\n",
    "\n",
    "# Example usage\n",
    "array = [5, 8, 3, 2, 10, 6]\n",
    "maximum = find_max(array)\n",
    "print(\"Maximum number:\", maximum)"
   ]
  },
  {
   "cell_type": "markdown",
   "metadata": {},
   "source": [
    "# Question 6\n",
    "Given first term (a), common difference (d) and a integer N of the Arithmetic Progression series, the task is to find Nth term of the series.\n",
    "\n",
    "**Example 1:**\n",
    "\n",
    "Input : a = 2 d = 1 N = 5\n",
    "Output : 6\n",
    "The 5th term of the series is : 6\n",
    "\n",
    "**Example 2:**\n",
    "\n",
    "Input : a = 5 d = 2 N = 10\n",
    "Output : 23\n",
    "The 10th term of the series is : 23"
   ]
  },
  {
   "cell_type": "markdown",
   "metadata": {
    "id": "v3fW2_FZ-rzq"
   },
   "source": [
    "# Algorithm \n",
    "\n",
    "1.define function nth_term_ap(a,d,n) where a is first term ,d is common difference and n is no whoseterm is to be found \n",
    "\n",
    "2.if n==1 return a \n",
    "\n",
    "3.else return nth_term_ap(a,d,n-1)+a\n",
    "\n",
    "4.end\n",
    "\n",
    "**************************\n",
    "Time complexity:O(n)\n",
    "Space complexity:O(n)"
   ]
  },
  {
   "cell_type": "code",
   "execution_count": 6,
   "metadata": {
    "colab": {
     "base_uri": "https://localhost:8080/"
    },
    "id": "vVfLtoxcQIFQ",
    "outputId": "3848c47b-1737-466b-e57e-7a15c4f27e43"
   },
   "outputs": [
    {
     "name": "stdout",
     "output_type": "stream",
     "text": [
      "14\n"
     ]
    }
   ],
   "source": [
    "def find_nth_number(a,d,n):\n",
    "    if n==1:\n",
    "        return a \n",
    "    else :\n",
    "        return find_nth_number(a,d,n-1)+d\n",
    "    \n",
    "first_term =2\n",
    "common_difference=3\n",
    "nth_term=5\n",
    "result=find_nth_number(first_term,common_difference,nth_term)\n",
    "print(result)"
   ]
  },
  {
   "cell_type": "markdown",
   "metadata": {},
   "source": [
    "# Question 7\n",
    "Given a string S, the task is to write a program to print all permutations of a given string.\n",
    "\n",
    "**Example 1:**\n",
    "\n",
    "***Input:***\n",
    "\n",
    "*S = “ABC”*\n",
    "\n",
    "***Output:***\n",
    "\n",
    "*“ABC”, “ACB”, “BAC”, “BCA”, “CBA”, “CAB”*\n",
    "\n",
    "**Example 2:**\n",
    "\n",
    "***Input:***\n",
    "\n",
    "*S = “XY”*\n",
    "\n",
    "***Output:***\n",
    "\n",
    "*“XY”, “YX”*"
   ]
  },
  {
   "cell_type": "markdown",
   "metadata": {
    "id": "iCYzR6nPlN87"
   },
   "source": [
    "#Algorithm :\n",
    "\n",
    "1.check len(string) if ==1 return string \n",
    "\n",
    "2.take result=[]\n",
    "\n",
    "3.for each letter in string \n",
    "  * strore letter in char //char=string[i]\n",
    "  * strore remainnig characters except i in remain_char\n",
    "  * call recursive function for remain_char and strore into permutaion\n",
    "  \n",
    "    * for each permutation_string in of remain_characters which are stored in permutation\n",
    "       append char+permutaion_string in result \n",
    "4.return result\n",
    "\n",
    "5.end\n",
    "\n",
    "TimeComplexity:O(n!)\n",
    "space Complexity:O(n)"
   ]
  },
  {
   "cell_type": "code",
   "execution_count": 7,
   "metadata": {
    "colab": {
     "base_uri": "https://localhost:8080/"
    },
    "id": "8vVx1rG2lQIN",
    "outputId": "b700e023-e526-4a5c-e72b-f7060b1dcac8"
   },
   "outputs": [
    {
     "name": "stdout",
     "output_type": "stream",
     "text": [
      "['ABC', 'ACB', 'BAC', 'BCA', 'CAB', 'CBA']\n"
     ]
    }
   ],
   "source": [
    "def find_permutation(string):\n",
    "    if len(string)==1: \n",
    "        return [string]\n",
    "    result=[]\n",
    "    for i in range(len(string)): \n",
    "        char=string[i]\n",
    "        remain_char=string[:i]+string[i+1:]\n",
    "        permutation =find_permutation(remain_char)\n",
    "        for per in permutation:\n",
    "            result.append(char+per)\n",
    "    return result \n",
    "string=\"ABC\"\n",
    "result=find_permutation(string)\n",
    "print(result)"
   ]
  },
  {
   "cell_type": "markdown",
   "metadata": {},
   "source": [
    "# Question 8\n",
    "\n",
    "Given an array, find a product of all array elements.\n",
    "\n",
    "**Example 1:**\n",
    "\n",
    "Input  : arr[] = {1, 2, 3, 4, 5}\n",
    "Output : 120\n",
    "**Example 2:**\n",
    "\n",
    "Input  : arr[] = {1, 6, 3}\n",
    "Output : 18\n",
    "\n",
    "</aside>"
   ]
  },
  {
   "cell_type": "markdown",
   "metadata": {},
   "source": [
    "# algorithm:\n",
    "\n",
    "Define function product_num(arr) which take input of numbers in array format with size n \n",
    "\n",
    "1.if len(arr)==1 return first num from arr i.e arr[0]\n",
    "\n",
    "2.else returm arr[0]*product_num(arr[1:])\n",
    "\n",
    "3.end \n",
    "\n",
    "********************************\n",
    "Time complexity:O(n!)\n",
    "\n",
    "Space complexity: O(n)"
   ]
  },
  {
   "cell_type": "code",
   "execution_count": 8,
   "metadata": {
    "colab": {
     "base_uri": "https://localhost:8080/"
    },
    "id": "mjaDGVQ6labW",
    "outputId": "3668b948-064f-4214-ef21-36a180c6c864"
   },
   "outputs": [
    {
     "name": "stdout",
     "output_type": "stream",
     "text": [
      "40\n"
     ]
    }
   ],
   "source": [
    "def product_num(arr):\n",
    "     if len(arr)==1:\n",
    "        return arr[0]\n",
    "     else:\n",
    "        return arr[0]* product_num(arr[1:])\n",
    "Arr=[1,4,5,2]\n",
    "result=product_num(Arr)\n",
    "print(result)"
   ]
  },
  {
   "cell_type": "code",
   "execution_count": null,
   "metadata": {},
   "outputs": [],
   "source": []
  }
 ],
 "metadata": {
  "colab": {
   "provenance": []
  },
  "kernelspec": {
   "display_name": "Python 3 (ipykernel)",
   "language": "python",
   "name": "python3"
  },
  "language_info": {
   "codemirror_mode": {
    "name": "ipython",
    "version": 3
   },
   "file_extension": ".py",
   "mimetype": "text/x-python",
   "name": "python",
   "nbconvert_exporter": "python",
   "pygments_lexer": "ipython3",
   "version": "3.9.7"
  }
 },
 "nbformat": 4,
 "nbformat_minor": 1
}
