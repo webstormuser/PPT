{
 "cells": [
  {
   "cell_type": "markdown",
   "metadata": {},
   "source": [
    "# Question 1\n",
    "Given two strings s and t, *determine if they are isomorphic*.\n",
    "\n",
    "Two strings s and t are isomorphic if the characters in s can be replaced to get t.\n",
    "\n",
    "All occurrences of a character must be replaced with another character while preserving the order of characters. No two characters may map to the same character, but a character may map to itself.\n",
    "\n",
    "**Example 1:**\n",
    "\n",
    "**Input:** s = \"egg\", t = \"add\"\n",
    "\n",
    "**Output:** true"
   ]
  },
  {
   "cell_type": "markdown",
   "metadata": {},
   "source": [
    "# Algorithm :\n",
    "1.create charmap to map each character from first string character to character in second string \n",
    "\n",
    "2.create a used_char set which will maintain used character from secod steing to map character in 1st string \n",
    "\n",
    "3.if the len of 2 steings are not equal we cannot map so return false \n",
    "\n",
    "4.Itrate for each char upto length of 1st string \n",
    "\n",
    "     Char1=string1[i]\n",
    "     Char2=string2[i]\n",
    "\n",
    "    Check if char1 is in charmap if yes \n",
    "        Check charmap[char1]!= char2\n",
    "          Return False\n",
    "\n",
    "    If char1 is not in charmap \n",
    "        Then  assign \n",
    "       Charmap[char1]= char2  \n",
    "     and  update    usedchar with char from second string \n",
    "       Used_char.append(char2)\n",
    " 4.return True"
   ]
  },
  {
   "cell_type": "code",
   "execution_count": null,
   "metadata": {
    "colab": {
     "base_uri": "https://localhost:8080/"
    },
    "id": "EzeCZpdGZqPn",
    "outputId": "d6e55c26-3cd1-48fe-c3e2-e369b491845b"
   },
   "outputs": [
    {
     "name": "stdout",
     "output_type": "stream",
     "text": [
      "False\n",
      "True\n"
     ]
    }
   ],
   "source": [
    "#que1\n",
    "#isomorphic strings\n",
    "def isomorphic(string1,string2):\n",
    "    if len(string1)!=len(string2):\n",
    "        return False\n",
    "    char_map={}\n",
    "    used_char=set()\n",
    "    for i in range(len(string1)):\n",
    "        char1=string1[i]\n",
    "        char2=string2[i]\n",
    "        if char1 in char_map:\n",
    "            if char_map[char1]!=char2:\n",
    "                return False\n",
    "        char_map[char1]=char2\n",
    "        used_char.add(char2)\n",
    "    return True\n",
    "string1=\"foo\"\n",
    "string2=\"bar\"\n",
    "result=isomorphic(string1,string2)\n",
    "print(result)\n",
    "string1=\"agg\"\n",
    "string2=\"add\"\n",
    "Result=isomorphic(string1,string2)\n",
    "print(Result)"
   ]
  },
  {
   "cell_type": "markdown",
   "metadata": {},
   "source": [
    "# Question 2\n",
    "Given a string num which represents an integer, return true *if* num *is a **strobogrammatic number***.\n",
    "\n",
    "A **strobogrammatic number** is a number that looks the same when rotated 180 degrees (looked at upside down).\n",
    "\n",
    "**Example 1:**\n",
    "\n",
    "**Input:** num = \"69\"\n",
    "\n",
    "**Output:**\n",
    "\n",
    "true"
   ]
  },
  {
   "cell_type": "markdown",
   "metadata": {
    "id": "n_A6F0J5dkQ_"
   },
   "source": [
    "# Algorithm:\n",
    "\n",
    "1.number is strobogramatic if it is rotated 180 degress it remains same such numbers are 0,1,6,8,9\n",
    "2.set left=0 and right=len(string)-1\n",
    "3.Define strobmap wich map 0 to 0,1 to 1,6 to 6,8 to 8and 9 to 9 because these are strobogramamtic numbers \n",
    "3.While left<= right \n",
    "   * Check  string[left] in strobmap \n",
    "   * If string[left]  not in strobmap or string[right]!= strobmap[string[left]]\n",
    "        Return false \n",
    "   * Increment left and right \n",
    "4.If above condidtion fails return true"
   ]
  },
  {
   "cell_type": "code",
   "execution_count": 1,
   "metadata": {
    "colab": {
     "base_uri": "https://localhost:8080/"
    },
    "id": "8tvBQQ9aAmKn",
    "outputId": "842e3b65-5dc7-4f19-d165-95505b136b1a"
   },
   "outputs": [
    {
     "name": "stdout",
     "output_type": "stream",
     "text": [
      "True\n",
      "False\n",
      "False\n"
     ]
    }
   ],
   "source": [
    "def is_strobogrammatic(num):\n",
    "    # Define a dictionary of strobogrammatic pairs\n",
    "    strob_pairs = {'0': '0', '1': '1', '6': '9', '8': '8', '9': '6'}\n",
    "\n",
    "    # Initialize pointers for left and right ends of the string\n",
    "    left = 0\n",
    "    right = len(num) - 1\n",
    "\n",
    "    while left <= right:\n",
    "        # If the characters at left and right indices are not strobogrammatic pairs, return False\n",
    "        if num[left] not in strob_pairs or num[right] != strob_pairs[num[left]]:\n",
    "            return False\n",
    "\n",
    "        left += 1\n",
    "        right -= 1\n",
    "\n",
    "    # If the loop completes without returning False, the string is strobogrammatic\n",
    "    return True\n",
    "num = '6969'\n",
    "print(is_strobogrammatic(num))  \n",
    "\n",
    "num = '10'\n",
    "print(is_strobogrammatic(num)) \n",
    "\n",
    "num = '123'\n",
    "print(is_strobogrammatic(num))"
   ]
  },
  {
   "cell_type": "markdown",
   "metadata": {},
   "source": [
    "# Question 3\n",
    "Given two non-negative integers, num1 and num2 represented as string, return *the sum of* num1 *and* num2 *as a string*.\n",
    "\n",
    "You must solve the problem without using any built-in library for handling large integers (such as BigInteger). You must also not convert the inputs to integers directly.\n",
    "\n",
    "**Example 1:**\n",
    "\n",
    "**Input:** num1 = \"11\", num2 = \"123\"\n",
    "\n",
    "**Output:**\n",
    "\n",
    "\"134\""
   ]
  },
  {
   "cell_type": "markdown",
   "metadata": {
    "id": "kbPz6Wy9d6Tk"
   },
   "source": [
    "# Algorithm:\n",
    "\n",
    "1.set two pointers i and j to present size of two strings \n",
    " \n",
    "I= len(string1)-1 and j= len(string2)-1\n",
    "\n",
    "Defind variable result=\"\"  and carry=0  \n",
    "\n",
    "2.While i>=0 or j>=0 or carry !=0 \n",
    "\n",
    "    * N1= int(string[i]) if i>=0 else 0\n",
    "    * N2= int(string[j]) if j>=0 else 0\n",
    "    * total =N1+N2+carry\n",
    "    * result=str(total%10)+result\n",
    "    * carry=total//10\n",
    "\n",
    "    * Decremet i and j\n",
    "\n",
    "3.If carry>0 then\n",
    "    Result =Carry+ result \n",
    "\n",
    "4.return result"
   ]
  },
  {
   "cell_type": "code",
   "execution_count": 2,
   "metadata": {
    "colab": {
     "base_uri": "https://localhost:8080/"
    },
    "id": "BISmnSVDAmS4",
    "outputId": "0a52a83e-81a7-4b55-c140-53eacb1612af"
   },
   "outputs": [
    {
     "name": "stdout",
     "output_type": "stream",
     "text": [
      "250\n"
     ]
    }
   ],
   "source": [
    "#que3\n",
    "#to add two string of number without implicit functions and converting to int\n",
    "def add_two_num(string1,string2):\n",
    "    i=len(string1)-1\n",
    "    j=len(string2)-1\n",
    "    result=\"\"\n",
    "    carry=0\n",
    "    while i>=0 or j>=0 or carry !=0:\n",
    "        n1=int(string1[i]) if i>=0 else 0\n",
    "        n2=int(string2[j]) if j>=0 else 0\n",
    "        total= n1+n2+carry\n",
    "        result=str(total%10)+result\n",
    "        carry=total//10\n",
    "        i=i-1\n",
    "        j=j-1\n",
    "    if carry>0:\n",
    "        result=str(carry)+result\n",
    "\n",
    "    return result\n",
    "string1=\"123\"\n",
    "string2=\"127\"\n",
    "result=add_two_num(string1,string2)\n",
    "print(result)"
   ]
  },
  {
   "cell_type": "markdown",
   "metadata": {},
   "source": [
    "# Question 4\n",
    "\n",
    "Given a string s, reverse the order of characters in each word within a sentence while still preserving whitespace and initial word order.\n",
    "\n",
    "**Example 1:**\n",
    "\n",
    "**Input:** s = \"Let's take LeetCode contest\"\n",
    "\n",
    "**Output:** \"s'teL ekat edoCteeL tsetnoc\""
   ]
  },
  {
   "cell_type": "markdown",
   "metadata": {
    "id": "BjEXYZkSgJuw"
   },
   "source": [
    "\n",
    "# Algorithm :\n",
    "\n",
    "1.take new_string to add reverse words \n",
    "\n",
    "2.split string using space \n",
    "\n",
    "3.Iterate for each word in string \n",
    "    And store each reverse word in reversed_word and add with new_string \n",
    "\n",
    "4.Reurn new_string with removing all trailing and leading spaces"
   ]
  },
  {
   "cell_type": "code",
   "execution_count": null,
   "metadata": {
    "colab": {
     "base_uri": "https://localhost:8080/"
    },
    "id": "iRwaRByoLTAY",
    "outputId": "cc67eaeb-e380-49bc-c05d-c2bac1770ea1"
   },
   "outputs": [
    {
     "name": "stdout",
     "output_type": "stream",
     "text": [
      "s'tel ekat edoCteeL tsetnoc\n"
     ]
    }
   ],
   "source": [
    "#que 4 reversing words preserving white spaces and order of words\n",
    "def reverse_words(strings):\n",
    "    new_string=\" \"\n",
    "    for string in strings.split(\" \"):\n",
    "        reverse_word=string[::-1]\n",
    "        new_string=new_string+reverse_word+\" \"\n",
    "    return new_string.strip()\n",
    "strings=\"let's take LeetCode contest\"\n",
    "result=reverse_words(strings)\n",
    "print(result)"
   ]
  },
  {
   "cell_type": "markdown",
   "metadata": {},
   "source": [
    "# Question 5\n",
    "\n",
    "Given a string s and an integer k, reverse the first k characters for every 2k characters counting from the start of the string.\n",
    "\n",
    "If there are fewer than k characters left, reverse all of them. If there are less than 2k but greater than or equal to k characters, then reverse the first k characters and leave the other as original.\n",
    "\n",
    "**Example 1:**\n",
    "\n",
    "**Input:** s = \"abcdefg\", k = 2\n",
    "\n",
    "**Output:**\n",
    "\n",
    "\"bacdfeg\""
   ]
  },
  {
   "cell_type": "markdown",
   "metadata": {
    "id": "XRhdtEpJnPvI"
   },
   "source": [
    "\n",
    "# ALGORITHM\n",
    " 1.Initialize an empty string result to store the final result.\n",
    "\n",
    "2.Iterate over the characters of s in steps of 2k.\n",
    "\n",
    "3.For each iteration, reverse the first k characters of the current chunk.\n",
    "\n",
    "          \n",
    "4.Append the modified chunk to result. If  there are remaining characters at the end of s after the iterations, reverse the first k characters and append them to result.\n",
    "\n",
    "5.Return result as the final reversed string"
   ]
  },
  {
   "cell_type": "code",
   "execution_count": 3,
   "metadata": {
    "colab": {
     "base_uri": "https://localhost:8080/"
    },
    "id": "Gv5c4QT1MPGy",
    "outputId": "a6566d23-c197-4a58-ec4d-497ad51b9efa"
   },
   "outputs": [
    {
     "name": "stdout",
     "output_type": "stream",
     "text": [
      "bacdfeg\n"
     ]
    }
   ],
   "source": [
    "def reverse_string(s, k):\n",
    "    result = \"\"\n",
    "\n",
    "    # Iterate over the characters in steps of 2k\n",
    "    for i in range(0, len(s), 2 * k):\n",
    "        chunk = s[i:i+k]  # Extract the first k characters of the chunk\n",
    "        reversed_chunk = chunk[::-1]  # Reverse the chunk\n",
    "\n",
    "        # Append the modified chunk to the result\n",
    "        result += reversed_chunk + s[i+k:i+2*k]\n",
    "\n",
    "    return result\n",
    "\n",
    "# Testing the function\n",
    "s = \"abcdefg\"\n",
    "k = 2\n",
    "print(reverse_string(s, k))  # Output: \"bacdfeg\""
   ]
  },
  {
   "cell_type": "markdown",
   "metadata": {},
   "source": [
    "# Question 6 \n",
    "Given two strings s and goal, return true *if and only if* s *can become* goal *after some number of **shifts** on* s.\n",
    "\n",
    "A **shift** on s consists of moving the leftmost character of s to the rightmost position.\n",
    "\n",
    "- For example, if s = \"abcde\", then it will be \"bcdea\" after one shift.\n",
    "\n",
    "**Example 1:**\n",
    "\n",
    "**Input:** s = \"abcde\", goal = \"cdeab\"\n",
    "\n",
    "**Output:**\n",
    "\n",
    "true"
   ]
  },
  {
   "cell_type": "markdown",
   "metadata": {
    "id": "DqVlTg4DmaVb"
   },
   "source": [
    "#Algorithm\n",
    "\n",
    "1.Check if the lengths of \"s\" and \"global\" are equal.\n",
    "        If not, return False.\n",
    "\n",
    "2.Concatenate \"s\" with itself to create \"temp\".\n",
    "\n",
    "3.Check if \"global\" is a substring of \"temp\".\n",
    "           If it is, return True; otherwise, return False."
   ]
  },
  {
   "cell_type": "code",
   "execution_count": 14,
   "metadata": {
    "colab": {
     "base_uri": "https://localhost:8080/"
    },
    "id": "RtgrLVHIMRu2",
    "outputId": "df8a701b-631a-4546-8cee-2794610a9b8b"
   },
   "outputs": [
    {
     "name": "stdout",
     "output_type": "stream",
     "text": [
      "True\n",
      "True\n",
      "False\n",
      "False\n"
     ]
    }
   ],
   "source": [
    "#Que 6\n",
    "def can_shift_to_global(s, global_str):\n",
    "    if len(s) != len(global_str):\n",
    "        return False\n",
    "\n",
    "    temp = s + s\n",
    "    if global_str in temp:\n",
    "        return True\n",
    "    else:\n",
    "        return False\n",
    "\n",
    "# Testing the function\n",
    "s1 = \"global\"\n",
    "s2 = \"obalgl\"\n",
    "s3 = \"balgl\"\n",
    "s4 = \"globe\"\n",
    "\n",
    "print(can_shift_to_global(s1, \"global\"))   # True\n",
    "print(can_shift_to_global(s2, \"global\"))   # True\n",
    "print(can_shift_to_global(s3, \"global\"))   # False\n",
    "print(can_shift_to_global(s4, \"global\"))   # False"
   ]
  },
  {
   "cell_type": "markdown",
   "metadata": {},
   "source": [
    "# Question 7\n",
    "Given two strings s and t, return true *if they are equal when both are typed into empty text editors*. '#' means a backspace character.\n",
    "\n",
    "Note that after backspacing an empty text, the text will continue empty.\n",
    "\n",
    "**Example 1:**\n",
    "\n",
    "**Input:** s = \"ab#c\", t = \"ad#c\"\n",
    "\n",
    "**Output:** true\n",
    "\n",
    "**Explanation:**\n",
    "\n",
    "Both s and t become \"ac\"."
   ]
  },
  {
   "cell_type": "markdown",
   "metadata": {
    "id": "cj1HYZylhQFH"
   },
   "source": [
    "\n",
    "#Que7\n",
    "\n",
    "\n",
    "Algorithm:\n",
    "\n",
    "1.create 2 stack to maintain each charcter from 2 string \n",
    "\n",
    "2.for each character in string 1 \n",
    "  If chracter!='#'  then appent to stack else remove chracter from stack \n",
    "\n",
    "3.Repeat step 2 for 2nd string \n",
    "\n",
    "4.if len(1st stack)!= len(2nd stack) return false \n",
    "\n",
    "5.for each character in stack1\n",
    " Check character in stack1 and stack2 are same or not if same return true if no return false"
   ]
  },
  {
   "cell_type": "code",
   "execution_count": null,
   "metadata": {
    "colab": {
     "base_uri": "https://localhost:8080/"
    },
    "id": "i1tTWqAaGPXC",
    "outputId": "d0ef5aa7-13a7-4d4b-87ee-7a7fd1b74500"
   },
   "outputs": [
    {
     "name": "stdout",
     "output_type": "stream",
     "text": [
      "False\n"
     ]
    }
   ],
   "source": [
    "#que 7\n",
    "def isEqualAfterBackspace(s,t):\n",
    "    stack_s=[] # first stack to maintain for 1st string\n",
    "    stack_t=[] # second stack for maibtaining 1st string\n",
    "    \n",
    "    \n",
    "    #checking presence of # character in 1st string if found pop the element just before #\n",
    "    for ch in s:\n",
    "        if ch!='#':  # if character is found send to stack \n",
    "          stack_s.append(ch)\n",
    "        elif stack_s:\n",
    "            stack_s.pop() # if backspace is found pop that character\n",
    "    for ch in t:\n",
    "        if ch!='#':\n",
    "            stack_t.append(ch)\n",
    "        elif stack_t:\n",
    "            stack_t.pop()\n",
    "    if len(stack_s)!=len(stack_t):\n",
    "        #means at the end if two stack contain same length element and same element means true else False\n",
    "        return False\n",
    "\n",
    "    for i in range(len(stack_s)):\n",
    "        if stack_s[i] != stack_t[i]:\n",
    "            return False\n",
    "\n",
    "    return True\n",
    "s=\"a#c\"\n",
    "t=\"b\"\n",
    "result=isEqualAfterBackspace(s,t)\n",
    "print(result)"
   ]
  },
  {
   "cell_type": "markdown",
   "metadata": {},
   "source": [
    "# <aside>\n",
    "💡 **Question 8**\n",
    "\n",
    "You are given an array coordinates, coordinates[i] = [x, y], where [x, y] represents the coordinate of a point. Check if these points make a straight line in the XY plane.\n",
    "\n",
    "**Example 1:**\n",
    "\n",
    "**Input:** coordinates = [[1,2],[2,3],[3,4],[4,5],[5,6],[6,7]]\n",
    "\n",
    "**Output:** true\n",
    "\n",
    "</aside>"
   ]
  },
  {
   "cell_type": "markdown",
   "metadata": {
    "id": "XINthWNcwOCe"
   },
   "source": [
    "# Algorithm\n",
    "1.Retrieve the first two points from the given coordinates\n",
    "\n",
    "2.Calculate the slope between the two points using the formula: slope = (y2 - y1) / (x2 - x1)\n",
    "\n",
    "3.Iterate through the remaining points starting from the third point.\n",
    "\n",
    "4.Calculate the slope between the current point and the previous point.\n",
    "\n",
    "5.If the current slope is not equal to the initial slope, return False.\n",
    "\n",
    "6.If all slopes are equal, return True"
   ]
  },
  {
   "cell_type": "code",
   "execution_count": null,
   "metadata": {
    "colab": {
     "base_uri": "https://localhost:8080/"
    },
    "id": "hR1v2hM2wrWU",
    "outputId": "50fb4bff-6f36-454d-a358-4f5005246b14"
   },
   "outputs": [
    {
     "name": "stdout",
     "output_type": "stream",
     "text": [
      "True\n",
      "False\n"
     ]
    }
   ],
   "source": [
    "\n",
    "def checkStraightLine(coordinates):\n",
    "    x1, y1 = coordinates[0]\n",
    "    x2, y2 = coordinates[1]\n",
    "\n",
    "    # Calculate the initial slope\n",
    "    initial_slope = (y2 - y1) / (x2 - x1)\n",
    "\n",
    "    # Iterate through remaining points\n",
    "    for i in range(2, len(coordinates)):\n",
    "        x1, y1 = coordinates[i - 1]\n",
    "        x2, y2 = coordinates[i]\n",
    "\n",
    "        # Calculate slope between current point and previous point\n",
    "        current_slope = (y2 - y1) / (x2 - x1)\n",
    "\n",
    "        # If slopes are not equal, return False\n",
    "        if current_slope != initial_slope:\n",
    "            return False\n",
    "\n",
    "    # All slopes are equal, return True\n",
    "    return True\n",
    "\n",
    "# Testing the function\n",
    "coordinates1 = [[1,2],[2,3],[3,4],[4,5],[5,6],[6,7]]\n",
    "coordinates2 = [[1,1],[2,2],[3,4],[4,5],[5,6],[7,7]]\n",
    "\n",
    "print(checkStraightLine(coordinates1))   # True\n",
    "print(checkStraightLine(coordinates2))   # False"
   ]
  }
 ],
 "metadata": {
  "colab": {
   "provenance": []
  },
  "kernelspec": {
   "display_name": "Python 3 (ipykernel)",
   "language": "python",
   "name": "python3"
  },
  "language_info": {
   "codemirror_mode": {
    "name": "ipython",
    "version": 3
   },
   "file_extension": ".py",
   "mimetype": "text/x-python",
   "name": "python",
   "nbconvert_exporter": "python",
   "pygments_lexer": "ipython3",
   "version": "3.9.7"
  }
 },
 "nbformat": 4,
 "nbformat_minor": 1
}
