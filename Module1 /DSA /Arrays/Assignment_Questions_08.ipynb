{
 "cells": [
  {
   "cell_type": "markdown",
   "metadata": {
    "id": "CZjLmjRN6CvB"
   },
   "source": [
    "#  Question 1\n",
    "\n",
    "Given two strings s1 and s2, return the lowest ASCII sum of deleted characters to make two strings equal.\n",
    "\n",
    "Example 1:\n",
    "\n",
    "Input: s1 = \"sea\", s2 = \"eat\"\n",
    "\n",
    "Output: 231\n",
    "\n",
    "Explanation: Deleting \"s\" from \"sea\" adds the ASCII value of \"s\" (115) to the sum.\n",
    "\n",
    "Deleting \"t\" from \"eat\" adds 116 to the sum.\n",
    "\n",
    "At the end, both strings are equal, and 115 + 116 = 231 is the minimum sum possible to achieve this.\n"
   ]
  },
  {
   "cell_type": "markdown",
   "metadata": {
    "id": "j6Y4Ewjz6Luq"
   },
   "source": [
    "# Algorithm:\n",
    "\n",
    "1.sort the two strings  and take sum=0\n",
    "\n",
    "2.Travese first string and check which letters are missing in second string find that get ascii value of it  and add to sum \n",
    "\n",
    "3.likewise traveser second string and find which letters are missing in 1st string get ascii value of it and add to sum \n",
    "\n",
    "4.Result sum \n",
    "\n",
    "Time complexity is O(n2)+O(nlogn) \n",
    "Space complexity :O(1)"
   ]
  },
  {
   "cell_type": "code",
   "execution_count": 2,
   "metadata": {
    "id": "2j3a_M8Y6KIs"
   },
   "outputs": [
    {
     "name": "stdout",
     "output_type": "stream",
     "text": [
      "527\n"
     ]
    }
   ],
   "source": [
    "def lowest_ascii_for_removed_char(string1,string2):\n",
    "    list(string1).sort()\n",
    "    list(string2).sort()\n",
    "    sums=0\n",
    "    for i in string1:\n",
    "        if i not in string2:\n",
    "            sums+=ord(i)\n",
    "    for i in string2:\n",
    "        if i not in string1:\n",
    "            sums+=ord(i)\n",
    "    return sums\n",
    "string1=\"boat\"\n",
    "string2=\"great\"\n",
    "result=lowest_ascii_for_removed_char(string1,string2)\n",
    "print(result)"
   ]
  },
  {
   "cell_type": "markdown",
   "metadata": {},
   "source": [
    "# Question 2\n",
    "Given a string s containing only three types of characters: '(', ')' and \"*\", return true *if* s *is **valid***.\n",
    "\n",
    "The following rules define a **valid** string:\n",
    "\n",
    "- Any left parenthesis '(' must have a corresponding right parenthesis ')'.\n",
    "- Any right parenthesis ')' must have a corresponding left parenthesis '('.\n",
    "- Left parenthesis '(' must go before the corresponding right parenthesis ')'.\n",
    "- '*' could be treated as a single right parenthesis ')' or a single left parenthesis '(' or an empty string \"\".\n",
    "\n",
    "**Example 1:**\n",
    "\n",
    "**Input:** s = \"()\"\n",
    "\n",
    "**Output:**\n",
    "\n",
    "true"
   ]
  },
  {
   "cell_type": "markdown",
   "metadata": {},
   "source": [
    "# algorithm\n",
    "\n",
    "1. Initialize an empty stack.\n",
    "\n",
    "2. Iterate through each character c in the input string s:\n",
    "\n",
    "3. If c is either '(' or '*', push it onto the stack.\n",
    "\n",
    "4. If c is ')', do the following:\n",
    "\n",
    "5. If the stack is not empty, pop the top element from the stack.\n",
    "\n",
    "6. If the popped element is '(', continue to the next iteration.\n",
    "\n",
    "7. If the popped element is '(', and the stack is empty, push '(' back onto the stack.\n",
    "\n",
    "After iterating through all characters in s, we may have remaining elements in the stack. The remaining elements should all be either '(' or '*'. If the stack contains only '(' or '*', the string is valid; otherwise, it is not valid."
   ]
  },
  {
   "cell_type": "code",
   "execution_count": 18,
   "metadata": {},
   "outputs": [
    {
     "name": "stdout",
     "output_type": "stream",
     "text": [
      "True\n",
      "True\n"
     ]
    }
   ],
   "source": [
    "def is_ValidString(string):\n",
    "    stack=[]\n",
    "    for i in string:\n",
    "        if i=='(' or i=='*': #if it contains '(' push on to stack untill ')' \n",
    "            stack.append(i)\n",
    "        elif i==')':\n",
    "            if stack:\n",
    "                stack.pop()  # it stack is not empty and top element ==')' pop from stack\n",
    "            else:\n",
    "                return False\n",
    "    balance=0\n",
    "    while stack:\n",
    "        if stack.pop()=='(': #for every ( increment count of balance \n",
    "            balance+=1\n",
    "        else:\n",
    "            balance-=1 # for every ) decrement count of balance \n",
    "        if balance<0:\n",
    "            return False\n",
    "    return True\n",
    "string=\"((*))\"\n",
    "result=is_ValidString(string)\n",
    "print(result)\n",
    "string=\"()\"\n",
    "print(is_ValidString(string))"
   ]
  },
  {
   "cell_type": "markdown",
   "metadata": {},
   "source": [
    "# Question 3\n",
    "\n",
    "Given two strings word1 and word2, return *the minimum number of **steps** required to make* word1 *and* word2 *the same*.\n",
    "\n",
    "In one **step**, you can delete exactly one character in either string.\n",
    "\n",
    "**Example 1:**\n",
    "\n",
    "**Input:** word1 = \"sea\", word2 = \"eat\"\n",
    "\n",
    "**Output:** 2\n",
    "\n",
    "**Explanation:** You need one step to make \"sea\" to \"ea\" and another step to make \"eat\" to \"ea\".\n"
   ]
  },
  {
   "cell_type": "markdown",
   "metadata": {},
   "source": [
    "# algorithm:\n",
    "1.sort two string \n",
    "2.take one variable step=0\n",
    "3.for each letters in string1 \n",
    "  * if not in string2 \n",
    "     * step=step+1\n",
    "4. repeate above procedure for string2 and increment step count\n",
    "\n",
    "5.return step \n",
    "\n",
    "Time Complexity:O(nlogn)\n",
    "    \n",
    "Space Complexity: O(1)"
   ]
  },
  {
   "cell_type": "code",
   "execution_count": 3,
   "metadata": {},
   "outputs": [
    {
     "name": "stdout",
     "output_type": "stream",
     "text": [
      "2\n"
     ]
    }
   ],
   "source": [
    "def count_steps_toMakeStringEqual(String1,String2):\n",
    "    list(String1).sort()\n",
    "    list(String2).sort()\n",
    "    step=0\n",
    "    for s in String1:\n",
    "        if s not in String2:\n",
    "            step+=1\n",
    "    for s in String2:\n",
    "        if s not in String1:\n",
    "            step+=1\n",
    "    return step\n",
    "string1=\"donut\"\n",
    "string2=\"count\"\n",
    "result=count_steps_toMakeStringEqual(string1,string2) #in 1st step letter d is deleted from 1st string and in step2 letter c is deleted to make string eqaul\n",
    "print(result)"
   ]
  },
  {
   "cell_type": "markdown",
   "metadata": {},
   "source": [
    "# Question 4\n",
    "You need to construct a binary tree from a string consisting of parenthesis and integers.\n",
    "\n",
    "The whole input represents a binary tree. It contains an integer followed by zero, one or two pairs of parenthesis. The integer represents the root's value and a pair of parenthesis contains a child binary tree with the same structure.\n",
    "You always start to construct the **left** child node of the parent first if it exists.\n",
    "\n",
    "**Input:** s = \"4(2(3)(1))(6(5))\"\n",
    "\n",
    "**Output:** [4,2,6,3,1,5]"
   ]
  },
  {
   "cell_type": "markdown",
   "metadata": {},
   "source": [
    "# algorithm:\n",
    "\n",
    "1.create class where assign value to value and left=none and right=None\n",
    "\n",
    "2.create a function construct_binary_tree(String) which take string with parenthesis and integer values as input \n",
    "\n",
    "3.scan each character from start to end in String\n",
    "\n",
    "  * a. if char=='(' skip character and continue to next character\n",
    "    \n",
    "  * b. if char is digit\n",
    "          make that char int value as node\n",
    "       * if stack is not empty then last char from stack will be parent \n",
    "          * if left node of parent is None make parent's left node =node\n",
    "          *  else right node of parent is node\n",
    "       * if stack is empty then assign that char as root node and append to stack\n",
    "       \n",
    "  * c if char is ')' then pop stack's top character\n",
    "  \n",
    " \n",
    "4.crate function preorder_traversal(node)which take created treenode as inputs\n",
    "  result=[] empty list \n",
    "\n",
    "  1. if node is created (means tree is created) then append node.value to result \n",
    "  traverse each left tre \n",
    "  traverse each right tree\n",
    "  \n",
    "5. end "
   ]
  },
  {
   "cell_type": "code",
   "execution_count": 1,
   "metadata": {},
   "outputs": [
    {
     "name": "stdout",
     "output_type": "stream",
     "text": [
      "[4, 2, 3, 1, 6, 5]\n"
     ]
    }
   ],
   "source": [
    "class Node:\n",
    "    def __init__(self, value):\n",
    "        self.value = value\n",
    "        self.left = None\n",
    "        self.right = None\n",
    "\n",
    "\n",
    "def construct_binary_tree(s):\n",
    "    stack = []\n",
    "    root = None\n",
    "\n",
    "    for char in s:\n",
    "        if char == '(':\n",
    "            continue\n",
    "        elif char.isdigit():\n",
    "            node = Node(int(char))\n",
    "            if stack:\n",
    "                parent = stack[-1]\n",
    "                if parent.left is None:\n",
    "                    parent.left = node\n",
    "                else:\n",
    "                    parent.right = node\n",
    "            else:\n",
    "                root = node\n",
    "            stack.append(node)\n",
    "        elif char == ')':\n",
    "            stack.pop()\n",
    "\n",
    "    return root\n",
    "\n",
    "\n",
    "def preorder_traversal(root):\n",
    "    result = []\n",
    "\n",
    "    def traverse(node):\n",
    "        if node is None:\n",
    "            return\n",
    "        result.append(node.value)\n",
    "        traverse(node.left)\n",
    "        traverse(node.right)\n",
    "\n",
    "    traverse(root)\n",
    "    return result\n",
    "\n",
    "\n",
    "# Example usage:\n",
    "parentheses_string = \"(4(2(3)(1))(6(5)))\"\n",
    "tree_root = construct_binary_tree(parentheses_string)\n",
    "preorder = preorder_traversal(tree_root)\n",
    "print(preorder) "
   ]
  },
  {
   "cell_type": "code",
   "execution_count": 15,
   "metadata": {},
   "outputs": [
    {
     "name": "stdout",
     "output_type": "stream",
     "text": [
      "[1, 2, 4, 3, 6, 5]\n"
     ]
    }
   ],
   "source": [
    "class Node:\n",
    "    def __init__(self, value):\n",
    "        self.value = value\n",
    "        self.left = None\n",
    "        self.right = None\n",
    "\n",
    "\n",
    "def construct_binary_tree(s):\n",
    "    stack = []\n",
    "    root = None\n",
    "\n",
    "    for char in s:\n",
    "        if char == '(':\n",
    "            continue\n",
    "        elif char.isdigit():\n",
    "            node = Node(int(char))\n",
    "            if stack:\n",
    "                parent = stack[-1]\n",
    "                if parent.left is None:\n",
    "                    parent.left = node\n",
    "                else:\n",
    "                    parent.right = node\n",
    "            else:\n",
    "                root = node\n",
    "            stack.append(node)\n",
    "        elif char == ')':\n",
    "            stack.pop()\n",
    "\n",
    "    return root\n",
    "\n",
    "\n",
    "def preorder_traversal(root):\n",
    "    result = []\n",
    "\n",
    "    def traverse(node):\n",
    "        if node is None:\n",
    "            return\n",
    "        result.append(node.value)\n",
    "        traverse(node.left)\n",
    "        traverse(node.right)\n",
    "\n",
    "    traverse(root)\n",
    "    return result\n",
    "\n",
    "\n",
    "# Example usage:\n",
    "parentheses_string = \"(1(2(4))(3(6)(5)))\"\n",
    "tree_root = construct_binary_tree(parentheses_string)\n",
    "preorder = preorder_traversal(tree_root)\n",
    "print(preorder)  # Output: [1, 2, 4, 3, 5]"
   ]
  },
  {
   "cell_type": "markdown",
   "metadata": {},
   "source": [
    "# Question 5\n",
    "\n",
    "Given an array of characters chars, compress it using the following algorithm:\n",
    "\n",
    "Begin with an empty string s. For each group of **consecutive repeating characters** in chars:\n",
    "\n",
    "- If the group's length is 1, append the character to s.\n",
    "- Otherwise, append the character followed by the group's length.\n",
    "\n",
    "The compressed string s **should not be returned separately**, but instead, be stored **in the input character array chars**. Note that group lengths that are 10 or longer will be split into multiple characters in chars.\n",
    "\n",
    "After you are done **modifying the input array,** return *the new length of the array*.\n",
    "\n",
    "You must write an algorithm that uses only constant extra space.\n",
    "\n",
    "**Example 1:**\n",
    "\n",
    "**Input:** chars = [\"a\",\"a\",\"b\",\"b\",\"c\",\"c\",\"c\"]\n",
    "\n",
    "**Output:** Return 6, and the first 6 characters of the input array should be: [\"a\",\"2\",\"b\",\"2\",\"c\",\"3\"]\n",
    "\n",
    "**Explanation:**\n",
    "\n",
    "The groups are \"aa\", \"bb\", and \"ccc\". This compresses to \"a2b2c3\".\n",
    "\n",
    "</aside>"
   ]
  },
  {
   "cell_type": "markdown",
   "metadata": {},
   "source": [
    "1.Convert the chars array to a string s.\n",
    "\n",
    "2.Use the Counter class to count the occurrences of each character in s. Let's call the resulting counter object counter.\n",
    "\n",
    "3.Initialize write to 0.\n",
    "\n",
    "4.Iterate through each character c and its count count in the counter object:\n",
    "\n",
    "5.Write the character c at position write in the chars array.\n",
    "\n",
    "6.If count is greater than 1:\n",
    "\n",
    "7.Convert count to a string.\n",
    "\n",
    "8.Iterate through each digit in the string representation of count:\n",
    "\n",
    "9.Write the digit at position write+1, write+2, etc., updating write accordingly.\n",
    "\n",
    "10.Increment write by 1 if count is greater than 1, otherwise leave write unchanged.\n",
    "\n",
    "11.Return the value of write.\n",
    "\n",
    "Time Complexity:O(n)\n",
    "Space Complexity:O(1)"
   ]
  },
  {
   "cell_type": "code",
   "execution_count": 12,
   "metadata": {},
   "outputs": [
    {
     "name": "stdout",
     "output_type": "stream",
     "text": [
      "6\n",
      "['a', '2', 'b', '2', 'c', '3']\n"
     ]
    }
   ],
   "source": [
    "from collections import Counter\n",
    "def compress(chars):\n",
    "    s = ''.join(chars)\n",
    "    counter = Counter(s)\n",
    "    write = 0\n",
    "    \n",
    "    for c, count in counter.items():\n",
    "        chars[write] = c\n",
    "        write += 1\n",
    "        \n",
    "        if count > 1:\n",
    "            count_str = str(count)\n",
    "            for digit in count_str:\n",
    "                chars[write] = digit\n",
    "                write += 1\n",
    "    \n",
    "    return write\n",
    "\n",
    "chars = [\"a\", \"a\", \"b\", \"b\", \"c\", \"c\", \"c\"]\n",
    "compressed_length = compress(chars)\n",
    "compressed_array = chars[:compressed_length]\n",
    "\n",
    "print(compressed_length) \n",
    "print(compressed_array) "
   ]
  },
  {
   "cell_type": "markdown",
   "metadata": {},
   "source": [
    "#  Question 6\n",
    "\n",
    "Given two strings s and p, return *an array of all the start indices of* p*'s anagrams in* s. You may return the answer in **any order**.\n",
    "\n",
    "An **Anagram** is a word or phrase formed by rearranging the letters of a different word or phrase, typically using all the original letters exactly once.\n",
    "\n",
    "**Example 1:**\n",
    "\n",
    "**Input:** s = \"cbaebabacd\", p = \"abc\"\n",
    "\n",
    "**Output:** [0,6]\n",
    "\n",
    "**Explanation:**\n",
    "\n",
    "The substring with start index = 0 is \"cba\", which is an anagram of \"abc\".\n",
    "\n",
    "The substring with start index = 6 is \"bac\", which is an anagram of \"abc\".\n",
    "\n",
    "</aside>"
   ]
  },
  {
   "cell_type": "markdown",
   "metadata": {},
   "source": [
    "#Algorithm\n",
    "\n",
    "The find_anagram_indices() function takes two strings s and p as input and returns a list of indices where anagrams of p start in s.\n",
    "\n",
    "The function uses two counters: p_counter to count the frequency of characters in p, and window_counter to count the frequency of characters in the sliding window of length len_p in s.\n",
    "\n",
    "We start by checking if the initial window is an anagram by comparing p_counter with window_counter. If they are equal, we add the starting index (0 in this case) to the indices list.\n",
    "\n",
    "Next, we slide the window from left to right and at each position, update window_counter by removing the character from the left side of the window and adding the character at the right side. We then compare window_counter with p_counter to check if the window is an anagram. If it is, we add the starting index to the indices list.\n",
    "\n",
    "Finally, we return the indices list containing all the start indices of anagrams of p in s."
   ]
  },
  {
   "cell_type": "code",
   "execution_count": 16,
   "metadata": {},
   "outputs": [
    {
     "name": "stdout",
     "output_type": "stream",
     "text": [
      "[0, 6]\n"
     ]
    }
   ],
   "source": [
    "from collections import Counter\n",
    "def find_anagram_indices(s,p):\n",
    "    len_p=len(p)\n",
    "    len_s=len(s)\n",
    "    \n",
    "    result=[]\n",
    "    #count char in string p \n",
    "    p_counter=Counter(p)\n",
    "\n",
    "    #counter_window in string s\n",
    "    \n",
    "    window_counter=Counter(s[:len(p)])\n",
    "    \n",
    "    if window_counter==p_counter:\n",
    "        result.append(0)\n",
    "        \n",
    "    for i in range(1,len_s-len_p+1):\n",
    "        # Remove the character from the left side of the window\n",
    "        window_counter[s[i-1]]-=1 \n",
    "        if window_counter[s[i-1]]==0:\n",
    "            del window_counter[s[i-1]]\n",
    "         # Add the character at the right side of the window\n",
    "        window_counter[s[i + len_p - 1]] += 1\n",
    "        \n",
    "        # Check if the window is an anagram\n",
    "        if window_counter == p_counter:\n",
    "            result.append(i)       \n",
    "    return result\n",
    "s=\"cbaebabacd\"\n",
    "p=\"abc\"\n",
    "result=find_anagram_indices(s,p)\n",
    "print(result)\n",
    "    "
   ]
  },
  {
   "cell_type": "markdown",
   "metadata": {},
   "source": [
    "# Question 7\n",
    "\n",
    "Given an encoded string, return its decoded string.\n",
    "\n",
    "The encoding rule is: k[encoded_string], where the encoded_string inside the square brackets is being repeated exactly k times. Note that k is guaranteed to be a positive integer.\n",
    "\n",
    "You may assume that the input string is always valid; there are no extra white spaces, square brackets are well-formed, etc. Furthermore, you may assume that the original data does not contain any digits and that digits are only for those repeat numbers, k. For example, there will not be input like 3a or 2[4].\n",
    "\n",
    "The test cases are generated so that the length of the output will never exceed 105.\n",
    "\n",
    "**Example 1:**\n",
    "\n",
    "**Input:** s = \"3[a]2[bc]\"\n",
    "\n",
    "**Output:** \"aaabcbc\"\n",
    "\n",
    "</aside>"
   ]
  },
  {
   "cell_type": "markdown",
   "metadata": {},
   "source": [
    "# Algorithm:\n",
    "1.initialize stack  ,initial_string which is empty and current_count=0\n",
    "\n",
    "2.iterate for each character(char) in string:\n",
    "\n",
    "  * if it is digit then add int value of that char into current_count\n",
    "  \n",
    "  * if it is ([)\n",
    "      then append current string and cuurent count to stack and rest current string and current count \n",
    "      \n",
    "  * if it is ]\n",
    "    thne store poped elemnt and its current_count into prev_char and count \n",
    "    and add with current_string with multiplied current poped character with count\n",
    "  * if it is simply char \n",
    "    then add to current_string \n",
    "    \n",
    " return current_string "
   ]
  },
  {
   "cell_type": "code",
   "execution_count": 18,
   "metadata": {},
   "outputs": [
    {
     "name": "stdout",
     "output_type": "stream",
     "text": [
      "aaabcbc\n"
     ]
    }
   ],
   "source": [
    "def decoded_String(string):\n",
    "    stack=[]\n",
    "    current_string=\"\"\n",
    "    current_count=0\n",
    "    for char in string:\n",
    "        if char.isdigit():\n",
    "            current_count=current_count*10+int(char)\n",
    "        elif char=='[':\n",
    "            stack.append([current_string,current_count])\n",
    "            current_count=0\n",
    "            current_string=\"\"\n",
    "        elif char==']':\n",
    "            prev_char,count=stack.pop()\n",
    "            current_string=prev_char+current_string*count\n",
    "        else:\n",
    "            current_string+=char\n",
    "    return current_string\n",
    "string=\"3[a]2[bc]\"\n",
    "result=decoded_String(string)\n",
    "print(result)"
   ]
  },
  {
   "cell_type": "markdown",
   "metadata": {},
   "source": [
    "# Question 8\n",
    "\n",
    "Given two strings s and goal, return true *if you can swap two letters in* s *so the result is equal to* goal*, otherwise, return* false*.*\n",
    "\n",
    "Swapping letters is defined as taking two indices i and j (0-indexed) such that i != j and swapping the characters at s[i] and s[j].\n",
    "\n",
    "- For example, swapping at indices 0 and 2 in \"abcd\" results in \"cbad\".\n",
    "\n",
    "**Example 1:**\n",
    "\n",
    "**Input:** s = \"ab\", goal = \"ba\"\n",
    "\n",
    "**Output:** true\n",
    "\n",
    "**Explanation:** You can swap s[0] = 'a' and s[1] = 'b' to get \"ba\", which is equal to goal.\n",
    "\n",
    "</aside>"
   ]
  },
  {
   "cell_type": "markdown",
   "metadata": {},
   "source": [
    "# Algorithm\n",
    "\n",
    "1. Initialize two lists, diff_indices and diff_letters, to store the differing indices and letters between s and goal, respectively.\n",
    "\n",
    "2. Iterate over the characters of s and goal simultaneously:\n",
    "\n",
    "3. If the characters at the current index are different, append the index to diff_indices and the letter to diff_letters.\n",
    "\n",
    "4. If the number of differing characters exceeds two, return False since more than two swaps are required to obtain goal.\n",
    "\n",
    "4. If the length of diff_indices is 0, it means that s and goal are already the same, so we return True.\n",
    "\n",
    "5. If the length of diff_indices is not equal to 2, return False since it is not possible to swap exactly two characters to obtain goal.\n",
    "\n",
    "6. Check if swapping the characters at the indices stored in diff_indices results in goal. If it does, return True; otherwise, return False.\n",
    "\n",
    "The time complexity of this algorithm is O(n), "
   ]
  },
  {
   "cell_type": "code",
   "execution_count": 22,
   "metadata": {},
   "outputs": [
    {
     "name": "stdout",
     "output_type": "stream",
     "text": [
      "True\n"
     ]
    }
   ],
   "source": [
    "def buddy_strings(s, goal):\n",
    "    if len(s) != len(goal):\n",
    "        return False\n",
    "    \n",
    "    diff_indices = []\n",
    "    diff_letters = []\n",
    "    \n",
    "    for i in range(len(s)):\n",
    "        if s[i] != goal[i]:\n",
    "            diff_indices.append(i)\n",
    "            diff_letters.append(goal[i])\n",
    "            \n",
    "            if len(diff_indices) > 2:\n",
    "                return False\n",
    "    \n",
    "    if len(diff_indices) == 0:\n",
    "        # s and goal are already the same\n",
    "        return True\n",
    "    elif len(diff_indices) != 2:\n",
    "        # More than two differences, not possible to swap\n",
    "        return False\n",
    "    else:\n",
    "        # Check if swapping the letters results in goal\n",
    "        i, j = diff_indices\n",
    "        return s[i] == goal[j] and s[j] == goal[i]\n",
    "\n",
    "# Example usage\n",
    "s = \"abcd\"\n",
    "goal = \"cbad\"\n",
    "result = buddy_strings(s, goal)\n",
    "print(result)"
   ]
  },
  {
   "cell_type": "code",
   "execution_count": null,
   "metadata": {},
   "outputs": [],
   "source": []
  }
 ],
 "metadata": {
  "colab": {
   "provenance": []
  },
  "kernelspec": {
   "display_name": "Python 3 (ipykernel)",
   "language": "python",
   "name": "python3"
  },
  "language_info": {
   "codemirror_mode": {
    "name": "ipython",
    "version": 3
   },
   "file_extension": ".py",
   "mimetype": "text/x-python",
   "name": "python",
   "nbconvert_exporter": "python",
   "pygments_lexer": "ipython3",
   "version": "3.9.7"
  }
 },
 "nbformat": 4,
 "nbformat_minor": 1
}
