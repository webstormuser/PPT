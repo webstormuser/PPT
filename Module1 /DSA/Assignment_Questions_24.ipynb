{
  "nbformat": 4,
  "nbformat_minor": 0,
  "metadata": {
    "colab": {
      "provenance": []
    },
    "kernelspec": {
      "name": "python3",
      "display_name": "Python 3"
    },
    "language_info": {
      "name": "python"
    }
  },
  "cells": [
    {
      "cell_type": "markdown",
      "source": [
        "# Q1 Roman to Integer\n",
        "\n",
        "Roman numerals are represented by seven different symbols: `I`, `V`, `X`, `L`, `C`, `D` and `M`.\n",
        "\n",
        "```\n",
        "SymbolValue\n",
        "I             1\n",
        "V             5\n",
        "X             10\n",
        "L             50\n",
        "C             100\n",
        "D             500\n",
        "M             1000\n",
        "```\n",
        "\n",
        "For example, `2` is written as `II` in Roman numeral, just two ones added together. `12` is written as `XII`, which is simply `X + II`. The number `27` is written as `XXVII`, which is `XX + V + II`.\n",
        "\n",
        "Roman numerals are usually written largest to smallest from left to right. However, the numeral for four is not `IIII`. Instead, the number four is written as `IV`. Because the one is before the five we subtract it making four. The same principle applies to the number nine, which is written as `IX`. There are six instances where subtraction is used:\n",
        "\n",
        "- `I` can be placed before `V` (5) and `X` (10) to make 4 and 9.\n",
        "- `X` can be placed before `L` (50) and `C` (100) to make 40 and 90.\n",
        "- `C` can be placed before `D` (500) and `M` (1000) to make 400 and 900.\n",
        "</aside>\n",
        "\n",
        "**Example 1:**\n",
        "\n",
        "```\n",
        "Input: s = \"III\"\n",
        "Output: 3\n",
        "Explanation: III = 3.\n",
        "```\n",
        "\n",
        "**Example 2:**\n",
        "\n",
        "```\n",
        "Input: s = \"LVIII\"\n",
        "Output: 58\n",
        "Explanation: L = 50, V= 5, III = 3.\n",
        "```\n",
        "\n",
        "**Constraints:**\n",
        "\n",
        "- `1 <= s.length <= 15`\n",
        "- `s` contains only the characters `('I', 'V', 'X', 'L', 'C', 'D', 'M')`.\n",
        "- It is **guaranteed** that `s` is a valid roman numeral in the range `[1, 3999]`.\n"
      ],
      "metadata": {
        "id": "215aU0kRHYt0"
      }
    },
    {
      "cell_type": "markdown",
      "source": [
        "Algorith:\n",
        "\n",
        "1.Maintain one dictionary which will keeep roman leeter and their corresponding integer vlaue\n",
        "\n",
        "2.set total=0 and prev_value=0\n",
        "\n",
        "3.for each element in list_of roman from reversing order\n",
        "  current =emeent from list\n",
        "  if current >=prev_value increment total\n",
        "  else decrement total and assign current value to prev_value\n",
        "  and return total"
      ],
      "metadata": {
        "id": "YgXQzKa5r8AZ"
      }
    },
    {
      "cell_type": "code",
      "source": [
        "def roman_to_integer(roman_numeral):\n",
        "  roman_dict={'I':1,'V':5,'X':10,'L':50,'C':100,'D':500,'M':1000}\n",
        "  total=0\n",
        "  prev_value=0\n",
        "  for i in range(len(roman_numeral)-1,-1,-1):\n",
        "    current_value=roman_dict[roman_numeral[i]]\n",
        "    if current_value>=prev_value:\n",
        "      total+=current_value\n",
        "    else:\n",
        "      total-=current_value\n",
        "    prev_value=current_value\n",
        "  return total\n",
        "\n",
        "s = \"LVIII\"\n",
        "result=roman_to_integer(s)\n",
        "print(result)\n",
        "s = \"III\"\n",
        "result=roman_to_integer(s)\n",
        "print(result)"
      ],
      "metadata": {
        "colab": {
          "base_uri": "https://localhost:8080/"
        },
        "id": "tlgDyATiHniR",
        "outputId": "3b139f74-b9a9-466e-dfff-04dd64072d7c"
      },
      "execution_count": null,
      "outputs": [
        {
          "output_type": "stream",
          "name": "stdout",
          "text": [
            "58\n",
            "3\n"
          ]
        }
      ]
    },
    {
      "cell_type": "markdown",
      "source": [
        "# Q2. Longest Substring Without Repeating Characters\n",
        "\n",
        "Given a string `s`, find the length of the **longest substring** without repeating characters.\n",
        "\n",
        "**Example 1:**\n",
        "\n",
        "```\n",
        "Input: s = \"abcabcbb\"\n",
        "Output: 3\n",
        "Explanation: The answer is \"abc\", with the length of 3.\n",
        "```\n",
        "\n",
        "**Example 2:**\n",
        "\n",
        "```\n",
        "Input: s = \"bbbbb\"\n",
        "Output: 1\n",
        "Explanation: The answer is \"b\", with the length of 1.\n",
        "```\n",
        "\n",
        "**Example 3:**\n",
        "\n",
        "```\n",
        "Input: s = \"pwwkew\"\n",
        "Output: 3\n",
        "Explanation: The answer is \"wke\", with the length of 3.\n",
        "Notice that the answer must be a substring, \"pwke\" is a subsequence and not a substring.\n",
        "```\n",
        "\n",
        "**Constraints:**\n",
        "\n",
        "- `0 <= s.length <= 50000`\n",
        "- `s` consists of English letters, digits, symbols and spaces.\n",
        "</aside>"
      ],
      "metadata": {
        "id": "sGuF8dJUI6qQ"
      }
    },
    {
      "cell_type": "markdown",
      "source": [
        "Algorithm:\n",
        "\n",
        "1.set lo=0 and up=1\n",
        "2.used ={first value of string }\n",
        "3.maxbound=(0,1)\n",
        "\n",
        "4.while up<len(string):\n",
        "\n",
        "    if  string[up]is available in used set\n",
        "      remove first value from string and increment lo\n",
        "    else\n",
        "      add up value in used and increment up\n",
        "\n",
        "5.if up-lo>maxbound[1]-maxbound[0]:\n",
        "  maxbound=(lo,up)\n",
        "6.return maxbount[0]:maxbound[1]\n"
      ],
      "metadata": {
        "id": "1zk3_dO3slfg"
      }
    },
    {
      "cell_type": "code",
      "source": [
        "from logging import StringTemplateStyle\n",
        "def nonrepating(string):\n",
        "  lo=0\n",
        "  up=1\n",
        "  max_bound=(0,1)\n",
        "  used={string[lo]}\n",
        "\n",
        "  while up<len(string):\n",
        "    if string[up] in used:\n",
        "      used.remove(string[lo])\n",
        "      lo+=1\n",
        "    else:\n",
        "      used.add(string[up])\n",
        "      up+=1\n",
        "  if up-lo > max_bound[1]-max_bound[0]:\n",
        "    max_bound=(lo,up)\n",
        "  return string[max_bound[0]:max_bound[1]]\n",
        "string=\"abcaaabcde\"\n",
        "result=nonrepating(string)\n",
        "print(result)\n",
        "\n",
        "\n"
      ],
      "metadata": {
        "colab": {
          "base_uri": "https://localhost:8080/"
        },
        "id": "eqGlDXDVskro",
        "outputId": "3ad4c9f3-798f-49bc-b23d-71fe3e85b815"
      },
      "execution_count": null,
      "outputs": [
        {
          "output_type": "stream",
          "name": "stdout",
          "text": [
            "abcde\n"
          ]
        }
      ]
    },
    {
      "cell_type": "markdown",
      "source": [
        "# Q3.Majority Element\n",
        "\n",
        "Given an array `nums` of size `n`, return *the majority element*.\n",
        "\n",
        "The majority element is the element that appears more than `⌊n / 2⌋` times. You may assume that the majority element always exists in the array.\n",
        "\n",
        "**Example 1:**\n",
        "\n",
        "```\n",
        "Input: nums = [3,2,3]\n",
        "Output: 3\n",
        "```\n",
        "\n",
        "**Example 2:**\n",
        "\n",
        "```\n",
        "Input: nums = [2,2,1,1,1,2,2]\n",
        "Output: 2\n",
        "```\n",
        "\n",
        "**Constraints:**\n",
        "\n",
        "- `n == nums.length`\n",
        "- `1 <= n <= 5 * 10^4`\n",
        "- `-10^9 <= nums[i] <= 10^9`\n",
        "</aside>"
      ],
      "metadata": {
        "id": "V1bEDf8RJWxl"
      }
    },
    {
      "cell_type": "code",
      "source": [
        "from collections import Counter\n",
        "def getMAjorityNum(list1:list)->int:\n",
        "  counter=Counter(list1)\n",
        "  max_count=len(list1)//2\n",
        "  number_max_count=[number for number ,count in counter.items() if count > max_count]\n",
        "  return number_max_count\n",
        "nums=[2,2,1,1,1,2,2]\n",
        "result=getMAjorityNum(nums)\n",
        "print(result)"
      ],
      "metadata": {
        "id": "myjDdQJbJaqb",
        "colab": {
          "base_uri": "https://localhost:8080/"
        },
        "outputId": "f90d37bb-71a9-4755-be5c-91d6a9c84d52"
      },
      "execution_count": null,
      "outputs": [
        {
          "output_type": "stream",
          "name": "stdout",
          "text": [
            "[2]\n"
          ]
        }
      ]
    },
    {
      "cell_type": "markdown",
      "source": [
        "# Q 4.Group Anagram\n",
        "\n",
        "Given an array of strings `strs`, group **the anagrams** together. You can return the answer in **any order**.\n",
        "\n",
        "An **Anagram** is a word or phrase formed by rearranging the letters of a different word or phrase, typically using all the original letters exactly once.\n",
        "\n",
        "**Example 1:**\n",
        "\n",
        "```\n",
        "Input: strs = [\"eat\",\"tea\",\"tan\",\"ate\",\"nat\",\"bat\"]\n",
        "Output: [[\"bat\"],[\"nat\",\"tan\"],[\"ate\",\"eat\",\"tea\"]]\n",
        "```\n",
        "\n",
        "**Example 2:**\n",
        "\n",
        "```\n",
        "Input: strs = [\"\"]\n",
        "Output: [[\"\"]]\n",
        "```\n",
        "\n",
        "**Example 3:**\n",
        "\n",
        "```\n",
        "Input: strs = [\"a\"]\n",
        "Output: [[\"a\"]]\n",
        "```\n",
        "\n",
        "**Constraints:**\n",
        "\n",
        "- `1 <= strs.length <= 10000`\n",
        "- `0 <= strs[i].length <= 100`\n",
        "- `strs[i]` consists of lowercase English letters.\n",
        "</aside>"
      ],
      "metadata": {
        "id": "pHX8xfywPi8e"
      }
    },
    {
      "cell_type": "markdown",
      "source": [
        "Algorithm:\n",
        "\n",
        "1.create empty hashmap which keep sorted string from sequence of Strings\n",
        "\n",
        "2.for every string in sequence\n",
        "  sorted_string =sorted(string)\n",
        "\n",
        "  if sorted string is not present in hashmap then assign string into hashmap\n",
        "  else\n",
        "   add string into hashmap in sorted order\n",
        "3.return all hashmap values\n",
        "    \n"
      ],
      "metadata": {
        "id": "yLZ9osYrUGhn"
      }
    },
    {
      "cell_type": "code",
      "source": [
        "def groupAnagram(String):\n",
        "  hashmap={}\n",
        "  for s in String:\n",
        "    sorted_s=''.join(sorted(s))\n",
        "    if sorted_s not in hashmap:\n",
        "      hashmap[sorted_s]=[s]\n",
        "    else:\n",
        "      hashmap[sorted_s].append(s)\n",
        "  return list(hashmap.values())\n",
        "\n",
        "String=['eat','tea','ate','tan','nat','bat']\n",
        "result=groupAnagram(String)\n",
        "print(result)"
      ],
      "metadata": {
        "id": "M_JZxO9iCqJM",
        "colab": {
          "base_uri": "https://localhost:8080/"
        },
        "outputId": "84b59ea4-8037-4693-f8eb-2b5c06f490b3"
      },
      "execution_count": 3,
      "outputs": [
        {
          "output_type": "stream",
          "name": "stdout",
          "text": [
            "[['eat', 'tea', 'ate'], ['tan', 'nat'], ['bat']]\n"
          ]
        }
      ]
    },
    {
      "cell_type": "markdown",
      "source": [
        "#Q 5.Ugly Numbers\n",
        "\n",
        "An **ugly number** is a positive integer whose prime factors are limited to `2`, `3`, and `5`.\n",
        "\n",
        "Given an integer `n`, return *the* `nth` ***ugly number***.\n",
        "\n",
        "**Example 1:**\n",
        "\n",
        "```\n",
        "Input: n = 10\n",
        "Output: 12\n",
        "Explanation: [1, 2, 3, 4, 5, 6, 8, 9, 10, 12] is the sequence of the first 10 ugly numbers.\n",
        "```\n",
        "\n",
        "**Example 2:**\n",
        "\n",
        "```\n",
        "Input: n = 1\n",
        "Output: 1\n",
        "Explanation: 1 has no prime factors, therefore all of its prime factors are limited to 2, 3, and 5.\n",
        "```\n",
        "\n",
        "**Constraints:**\n",
        "\n",
        "- `1 <= n <= 1690`\n",
        "</aside>"
      ],
      "metadata": {
        "id": "qMfEzNe6QrVU"
      }
    },
    {
      "cell_type": "markdown",
      "source": [
        "Initialize an array ugly of size n to store the generated ugly numbers.\n",
        "Set ugly[0] = 1 as the first ugly number.\n",
        "\n",
        "Initialize three pointers: p2 = 0, p3 = 0, and p5 = 0, representing the indices in the ugly array for multiplying by 2, 3, and 5.\n",
        "\n",
        "Iterate i from 1 to n-1 (since we have already set ugly[0] = 1).\n",
        "\n",
        "Calculate the next ugly number as ugly[i] = min(ugly[p2] * 2, ugly[p3] * 3, ugly[p5] * 5).\n",
        "\n",
        "Update the pointers accordingly:\n",
        "If ugly[i] is equal to ugly[p2] * 2, increment p2 by 1.\n",
        "If ugly[i] is equal to ugly[p3] * 3, increment p3 by 1.\n",
        "If ugly[i] is equal to ugly[p5] * 5, increment p5 by 1.\n",
        "\n",
        "Return ugly[n-1] as the nth ugly number."
      ],
      "metadata": {
        "id": "JO9Ihk-MdYON"
      }
    },
    {
      "cell_type": "code",
      "source": [
        "def nthUglyNumber(n):\n",
        "    ugly = [0] * n\n",
        "    ugly[0] = 1\n",
        "    p2 = p3 = p5 = 0\n",
        "\n",
        "    for i in range(1, n):\n",
        "        next_multiple_of_2 = ugly[p2] * 2\n",
        "        next_multiple_of_3 = ugly[p3] * 3\n",
        "        next_multiple_of_5 = ugly[p5] * 5\n",
        "\n",
        "        ugly[i] = min(next_multiple_of_2, next_multiple_of_3, next_multiple_of_5)\n",
        "\n",
        "        if ugly[i] == next_multiple_of_2:\n",
        "            p2 += 1\n",
        "        if ugly[i] == next_multiple_of_3:\n",
        "            p3 += 1\n",
        "        if ugly[i] == next_multiple_of_5:\n",
        "            p5 += 1\n",
        "\n",
        "    return ugly[n - 1]\n",
        "\n",
        "# Example usage:\n",
        "n = 10\n",
        "result = nthUglyNumber(n)\n",
        "print(result)"
      ],
      "metadata": {
        "colab": {
          "base_uri": "https://localhost:8080/"
        },
        "id": "pha7tHBuMwYI",
        "outputId": "9346bff0-cfbe-4574-904b-2ac98db87945"
      },
      "execution_count": 13,
      "outputs": [
        {
          "output_type": "stream",
          "name": "stdout",
          "text": [
            "12\n"
          ]
        }
      ]
    },
    {
      "cell_type": "markdown",
      "source": [
        "# Q 6.Top K Frequent Words\n",
        "\n",
        "Given an array of strings `words` and an integer `k`, return *the* `k` *most frequent strings*.\n",
        "\n",
        "Return the answer **sorted** by **the frequency** from highest to lowest. Sort the words with the same frequency by their **lexicographical order**.\n",
        "\n",
        "**Example 1:**\n",
        "\n",
        "```\n",
        "Input: words = [\"i\",\"love\",\"leetcode\",\"i\",\"love\",\"coding\"], k = 2\n",
        "Output: [\"i\",\"love\"]\n",
        "Explanation: \"i\" and \"love\" are the two most frequent words.\n",
        "Note that \"i\" comes before \"love\" due to a lower alphabetical order.\n",
        "```\n",
        "\n",
        "**Example 2:**\n",
        "\n",
        "```\n",
        "Input: words = [\"the\",\"day\",\"is\",\"sunny\",\"the\",\"the\",\"the\",\"sunny\",\"is\",\"is\"], k = 4\n",
        "Output: [\"the\",\"is\",\"sunny\",\"day\"]\n",
        "Explanation: \"the\", \"is\", \"sunny\" and \"day\" are the four most frequent words, with the number of occurrence being 4, 3, 2 and 1 respectively.\n",
        "```\n",
        "\n",
        "**Constraints:**\n",
        "\n",
        "- `1 <= words.length <= 500`\n",
        "- `1 <= words[i].length <= 10`\n",
        "- `words[i]` consists of lowercase English letters.\n",
        "- `k` is in the range `[1, The number of **unique** words[i]]`\n",
        "</aside>"
      ],
      "metadata": {
        "id": "cwq-nFqAQ9Ga"
      }
    },
    {
      "cell_type": "markdown",
      "source": [
        "Create a dictionary to keep track of the frequency of each word in the array.\n",
        "Iterate through the array of words and update the frequency count in the dictionary.\n",
        "Sort the words based on their frequency count in descending order. If two words have the same frequency, sort them lexicographically.\n",
        "Return the k most frequent words from the sorted list."
      ],
      "metadata": {
        "id": "MZQnpd8AfHkV"
      }
    },
    {
      "cell_type": "code",
      "source": [
        "def topKfrequent(words,k):\n",
        "  word_map={}\n",
        "  for word in words:\n",
        "    word_map[word]=word_map.get(word,0)+1\n",
        "  sorted_map=sorted(word_map.keys(),key=lambda x:(-word_map[x],x))\n",
        "  return sorted_map[:k]\n",
        "\n",
        "words=['apple','banana','strawberry','papaya','papaya']\n",
        "k=2\n",
        "result=topKfrequent(words,2)\n",
        "print(result)"
      ],
      "metadata": {
        "colab": {
          "base_uri": "https://localhost:8080/"
        },
        "id": "XWQ9ZVQ8RBLe",
        "outputId": "4647b0ed-4854-47d5-c59b-e2d2fc130653"
      },
      "execution_count": 18,
      "outputs": [
        {
          "output_type": "stream",
          "name": "stdout",
          "text": [
            "['papaya', 'apple']\n"
          ]
        }
      ]
    },
    {
      "cell_type": "markdown",
      "source": [
        "# Q 7.Sliding Window Maximum\n",
        "\n",
        "You are given an array of integers `nums`, there is a sliding window of size `k` which is moving from the very left of the array to the very right. You can only see the `k` numbers in the window. Each time the sliding window moves right by one position.\n",
        "\n",
        "Return *the max sliding window*.\n",
        "\n",
        "**Example 1:**\n",
        "\n",
        "```\n",
        "Input: nums = [1,3,-1,-3,5,3,6,7], k = 3\n",
        "Output: [3,3,5,5,6,7]\n",
        "Explanation:\n",
        "Window position                Max\n",
        "---------------               -----\n",
        "[1  3  -1] -3  5  3  6 7         3\n",
        " 1 [3  -1  -3] 5  3  6 7         3\n",
        " 1  3 [-1  -3  5] 3  6 7         5\n",
        " 1  3  -1 [-3  5  3] 6 7         5\n",
        " 1  3  -1  -3 [5  3  6]7         6\n",
        " 1  3  -1  -3  5 [3  6  7]       7\n",
        "```\n",
        "\n",
        "**Example 2:**\n",
        "\n",
        "```\n",
        "Input: nums = [1], k = 1\n",
        "Output: [1]\n",
        "```\n",
        "\n",
        "**Constraints:**\n",
        "\n",
        "- `1 <= nums.length <= 100000`\n",
        "- -`10000 <= nums[i] <= 10000`\n",
        "- `1 <= k <= nums.length`\n",
        "</aside>"
      ],
      "metadata": {
        "id": "zWq5QiGIRCTa"
      }
    },
    {
      "cell_type": "code",
      "source": [
        "from collections import deque\n",
        "\n",
        "def slidingWindowMaximum(nums, k):\n",
        "    result = []  # to store the maximum values\n",
        "    window = deque()  # to store indices of elements within the current window\n",
        "\n",
        "    for i in range(len(nums)):\n",
        "        # Remove indices of elements that are out of the current window\n",
        "        while window and window[0] <= i - k:\n",
        "            window.popleft()\n",
        "\n",
        "        # Remove indices of elements that are smaller than the current element\n",
        "        while window and nums[i] >= nums[window[-1]]:\n",
        "            window.pop()\n",
        "\n",
        "        # Add the current index to the window\n",
        "        window.append(i)\n",
        "\n",
        "        # Add the maximum element of the current window to the result\n",
        "        if i >= k - 1:\n",
        "            result.append(nums[window[0]])\n",
        "\n",
        "    return result\n",
        "nums = [1, 3, -1, -3, 5, 3, 6, 7]\n",
        "k = 3\n",
        "result = slidingWindowMaximum(nums, k)\n",
        "print(result)"
      ],
      "metadata": {
        "colab": {
          "base_uri": "https://localhost:8080/"
        },
        "id": "75XdbZ3mRJOY",
        "outputId": "9c6e239d-4e5c-4899-b302-40ed5284bc32"
      },
      "execution_count": 24,
      "outputs": [
        {
          "output_type": "stream",
          "name": "stdout",
          "text": [
            "[3, 3, 5, 5, 6, 7]\n"
          ]
        }
      ]
    },
    {
      "cell_type": "markdown",
      "source": [
        "# Q 8.Find K Closest Elements\n",
        "\n",
        "Given a **sorted** integer array `arr`, two integers `k` and `x`, return the `k` closest integers to `x` in the array. The result should also be sorted in ascending order.\n",
        "\n",
        "An integer `a` is closer to `x` than an integer `b` if:\n",
        "\n",
        "- `|a - x| < |b - x|`, or\n",
        "- `|a - x| == |b - x|` and `a < b`\n",
        "\n",
        "**Example 1:**\n",
        "\n",
        "```\n",
        "Input: arr = [1,2,3,4,5], k = 4, x = 3\n",
        "Output: [1,2,3,4]\n",
        "```\n",
        "\n",
        "**Example 2:**\n",
        "\n",
        "```\n",
        "Input: arr = [1,2,3,4,5], k = 4, x = -1\n",
        "Output: [1,2,3,4]\n",
        "```\n",
        "\n",
        "**Constraints:**\n",
        "\n",
        "- `1 <= k <= arr.length`\n",
        "- `1 <= arr.length <= 10000`\n",
        "- `arr` is sorted in **ascending** order.\n",
        "- -`10000 <= arr[i], x <= 10000`\n",
        "\n",
        "</aside>"
      ],
      "metadata": {
        "id": "k3RF8G8xm6HN"
      }
    },
    {
      "cell_type": "markdown",
      "source": [
        "Initialize left to 0 and right to arr.length - 1.\n",
        "\n",
        "While right - left + 1 > k:\n",
        "\n",
        "Calculate the absolute differences between x and arr[left] and between x and arr[right].\n",
        "\n",
        "If the difference between x and arr[left] is greater than or equal to the difference between x and arr[right], increment left by 1.\n",
        "\n",
        "Otherwise, decrement right by 1.\n",
        "\n",
        "Return a subarray of arr from index left to index right."
      ],
      "metadata": {
        "id": "Tn7yHqkhoBmZ"
      }
    },
    {
      "cell_type": "code",
      "source": [
        "def findClosestElements(arr, k, x):\n",
        "    left = 0\n",
        "    right = len(arr)-1\n",
        "\n",
        "    while right - left + 1 > k:\n",
        "        if abs(arr[left] - x) >= abs(arr[right] - x):\n",
        "            left += 1\n",
        "        else:\n",
        "            right -= 1\n",
        "\n",
        "    return arr[left:right+1]\n",
        "nums=[1,2,3,4,5]\n",
        "k=4\n",
        "x=3\n",
        "result=findClosestElements(nums,k,x)\n",
        "print(result)"
      ],
      "metadata": {
        "colab": {
          "base_uri": "https://localhost:8080/"
        },
        "id": "7PtC2cPemDJ8",
        "outputId": "8d932ffc-d168-45bb-8f82-8f87eb49ff54"
      },
      "execution_count": 31,
      "outputs": [
        {
          "output_type": "stream",
          "name": "stdout",
          "text": [
            "[2, 3, 4, 5]\n"
          ]
        }
      ]
    },
    {
      "cell_type": "code",
      "source": [],
      "metadata": {
        "id": "MMxrATZfpebm"
      },
      "execution_count": null,
      "outputs": []
    }
  ]
}