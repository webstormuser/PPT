{
 "cells": [
  {
   "cell_type": "markdown",
   "id": "75a2d3d8",
   "metadata": {},
   "source": [
    "# 17. \n",
    "\n",
    "Write a function that takes a list of numbers as input and returns a new list containing only the even numbers from the input list. Use list comprehension to solve this problem.\n",
    "\n",
    "Example:\n",
    "\n",
    "Input: [1, 2, 3, 4, 5, 6, 7, 8, 9, 10]\n",
    "\n",
    "Output: [2, 4, 6, 8, 10]"
   ]
  },
  {
   "cell_type": "code",
   "execution_count": 16,
   "id": "80f0f519",
   "metadata": {},
   "outputs": [
    {
     "name": "stdout",
     "output_type": "stream",
     "text": [
      "[2, 4, 6, 8, 10]\n"
     ]
    }
   ],
   "source": [
    "def even(list1:list)->list:\n",
    "    even=[num for num in list1 if num%2==0]\n",
    "    return even\n",
    "Input=[1,2,3,4,5,6,7,8,9,10]\n",
    "result=even(Input)\n",
    "print(result)"
   ]
  },
  {
   "cell_type": "markdown",
   "id": "a16fe178",
   "metadata": {},
   "source": [
    "# 18. \n",
    "\n",
    "Implement a decorator function called ‘timer’ that measures the execution time of a function. The ‘timer’ decorator should print the time taken by the decorated function to execute. Use the ‘time’ module in Python to calculate the execution time.\n",
    "\n",
    "Example:\n",
    "\n",
    "import time\n",
    "\n",
    "@timer\n",
    "def my_function():\n",
    "    # Function code goes here\n",
    "    time.sleep(2)\n",
    "\n",
    "my_function()\n",
    "\n",
    "Output:\n",
    "\"Execution time: 2.00123 seconds\""
   ]
  },
  {
   "cell_type": "code",
   "execution_count": 34,
   "id": "1c7766ac",
   "metadata": {},
   "outputs": [
    {
     "name": "stdout",
     "output_type": "stream",
     "text": [
      "Time taken in  getvalues 0.0010013580322265625\n"
     ]
    }
   ],
   "source": [
    "import time\n",
    "\n",
    "def timer(func):\n",
    "    def inner(*args,**kwargs):\n",
    "        start=time.time()\n",
    "        result=func(*args,**kwargs)\n",
    "        end=time.time()\n",
    "        print(\"Time taken in \",func.__name__,end-start)\n",
    "        return result\n",
    "    return inner\n",
    "\n",
    "@timer\n",
    "def getvalues(n):\n",
    "    for i in range(n):\n",
    "        for j in range(100):\n",
    "            i*j\n",
    "getvalues(100)"
   ]
  },
  {
   "cell_type": "markdown",
   "id": "01faaa90",
   "metadata": {},
   "source": [
    "# 19. \n",
    "Write a function called ‘calculate_mean’ that takes a list of numbers as input and returns the mean (average) of the numbers. The function should calculate the mean using the sum of the numbers divided by the total count.\n",
    "\n",
    "Example:\n",
    "\n",
    "def calculate_mean(numbers):\n",
    "    total = sum(numbers)\n",
    "    count = len(numbers)\n",
    "    mean = total / count\n",
    "    return mean\n",
    "\n",
    "data = [10, 15, 20, 25, 30]\n",
    "mean_value = calculate_mean(data)\n",
    "print(\"Mean:\", mean_value)\n",
    "\n",
    "Output:\n",
    "Mean: 20.0\n"
   ]
  },
  {
   "cell_type": "code",
   "execution_count": 39,
   "id": "8ea55503",
   "metadata": {},
   "outputs": [
    {
     "name": "stdout",
     "output_type": "stream",
     "text": [
      "Mean: 20.0\n"
     ]
    }
   ],
   "source": [
    "def calculate_mean(numbers:list)->float:\n",
    "    sums=0\n",
    "    count=0\n",
    "    for n in numbers:\n",
    "        sums=sums+n\n",
    "        count+=1\n",
    "    return float(sums/count)\n",
    "data=[10,15,20,25,30]\n",
    "mean_value=calculate_mean(data)\n",
    "print(\"Mean:\",mean_value)"
   ]
  },
  {
   "cell_type": "markdown",
   "id": "823eafae",
   "metadata": {},
   "source": [
    "# 20. \n",
    "\n",
    "Write a function called ‘perform_hypothesis_test’ that takes two lists of numbers as input, representing two samples. The function should perform a two-sample t-test and return the p-value. Use the ‘scipy.stats’ module in Python to calculate the t-test and p-value."
   ]
  },
  {
   "cell_type": "markdown",
   "id": "d9c13575",
   "metadata": {},
   "source": [
    "A p-value is a statistical measurement used to validate a hypothesis against observed data.\n",
    "\n",
    "A p-value measures the probability of obtaining the observed results, assuming that the null hypothesis is true.\n",
    "\n",
    "The lower the p-value, the greater the statistical significance of the observed difference.\n",
    "\n",
    "A p-value of 0.05 or lower is generally considered statistically significant."
   ]
  },
  {
   "cell_type": "code",
   "execution_count": 46,
   "id": "1f8670dd",
   "metadata": {},
   "outputs": [
    {
     "name": "stdout",
     "output_type": "stream",
     "text": [
      "P-value: 0.09434977284243756\n"
     ]
    }
   ],
   "source": [
    "import scipy.stats as stats\n",
    "def perform_hypothesis_test(sample1:list,sample2:list)->float:\n",
    "    t_statistic, p_value = stats.ttest_ind(sample1, sample2)\n",
    "    return p_value\n",
    "sample1 = [5, 10, 15, 20, 25]\n",
    "sample2 = [10, 20, 30, 40, 50]\n",
    "p_value = perform_hypothesis_test(sample1, sample2)\n",
    "print(\"P-value:\", p_value)"
   ]
  },
  {
   "cell_type": "code",
   "execution_count": null,
   "id": "fbe323a7",
   "metadata": {},
   "outputs": [],
   "source": []
  },
  {
   "cell_type": "code",
   "execution_count": null,
   "id": "567fbe56",
   "metadata": {},
   "outputs": [],
   "source": []
  }
 ],
 "metadata": {
  "kernelspec": {
   "display_name": "Python 3 (ipykernel)",
   "language": "python",
   "name": "python3"
  },
  "language_info": {
   "codemirror_mode": {
    "name": "ipython",
    "version": 3
   },
   "file_extension": ".py",
   "mimetype": "text/x-python",
   "name": "python",
   "nbconvert_exporter": "python",
   "pygments_lexer": "ipython3",
   "version": "3.9.7"
  }
 },
 "nbformat": 4,
 "nbformat_minor": 5
}
