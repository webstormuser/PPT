{
  "nbformat": 4,
  "nbformat_minor": 0,
  "metadata": {
    "colab": {
      "provenance": []
    },
    "kernelspec": {
      "name": "python3",
      "display_name": "Python 3"
    },
    "language_info": {
      "name": "python"
    }
  },
  "cells": [
    {
      "cell_type": "markdown",
      "source": [
        "1. Write a Python program to reverse a string without using any built-in string reversal functions.\n",
        "2. Implement a function to check if a given string is a palindrome.\n",
        "3. Write a program to find the largest element in a given list.\n",
        "4. Implement a function to count the occurrence of each element in a list.\n",
        "5. Write a Python program to find the second largest number in a list.\n",
        "6. Implement a function to remove duplicate elements from a list.\n",
        "7. Write a program to calculate the factorial of a given number.\n",
        "8. Implement a function to check if a given number is prime.\n",
        "9. Write a Python program to sort a list of integers in ascending order.\n",
        "10. Implement a function to find the sum of all numbers in a list.\n",
        "11. Write a program to find the common elements between two lists.\n",
        "12. Implement a function to check if a given string is an anagram of another string.\n",
        "13. Write a Python program to generate all permutations of a given string.\n",
        "14. Implement a function to calculate the Fibonacci sequence up to a given number of terms.\n",
        "15. Write a program to find the median of a list of numbers.\n",
        "16. Implement a function to check if a given list is sorted in non-decreasing order.\n",
        "17. Write a Python program to find the intersection of two lists.\n",
        "18. Implement a function to find the maximum subarray sum in a given list.\n",
        "19. Write a program to remove all vowels from a given string.\n",
        "20. Implement a function to reverse the order of words in a given sentence.\n",
        "21. Write a Python program to check if two strings are anagrams of each other.\n",
        "22. Implement a function to find the first non-repeating character in a string.\n",
        "23. Write a program to find the prime factors of a given number.\n",
        "24. Implement a function to check if a given number is a power of two.\n",
        "25. Write a Python program to merge two sorted lists into a single sorted list.\n",
        "26. Implement a function to find the mode of a list of numbers.\n",
        "27. Write a program to find the greatest common divisor (GCD) of two numbers.\n",
        "28. Implement a function to calculate the square root of a given number.\n",
        "29. Write a Python program to check if a given string is a valid palindrome ignoring non-alphanumeric characters.\n",
        "30. Implement a function to find the minimum element in a rotated sorted list.\n",
        "31. Write a program to find the sum of all even numbers in a list.\n",
        "32. Implement a function to calculate the power of a number using recursion.\n",
        "33. Write a Python program to remove duplicates from a list while preserving the order.\n",
        "34. Implement a function to find the longest common prefix among a list of strings.\n",
        "35. Write a program to check if a given number is a perfect square.\n",
        "36. Implement a function to calculate the product of all elements in a list.\n",
        "37. Write a Python program to reverse the order of words in a sentence while preserving the word order.\n",
        "38. Implement a function to find the missing number in a given list of consecutive numbers.\n",
        "39. Write a program to find the sum of digits of a given number.\n",
        "40. Implement a function to check if a given string is a valid palindrome considering case sensitivity.\n",
        "41. Write a Python program to find the smallest missing positive integer in a list.\n",
        "42. Implement a function to find the longest palindrome substring in a given string.\n",
        "43. Write a program to find the number of occurrences of a given element in a list.\n",
        "44. Implement a function to check if a given number is a perfect number.\n",
        "45. Write a Python program to remove all duplicates from a string.\n",
        "46. Implement a function to find the first missing positive"
      ],
      "metadata": {
        "id": "eq53v5-quPSy"
      }
    },
    {
      "cell_type": "markdown",
      "source": [
        "Write a Python program to reverse a string without using any built-in string reversal functions."
      ],
      "metadata": {
        "id": "Lu3Ei8HeuU4h"
      }
    },
    {
      "cell_type": "code",
      "source": [
        "def reverse_String (String):\n",
        "  String = [String[i] for i in range(len(String)-1, -1, -1)]\n",
        "  return \"\".join(String)\n",
        "String =\"Hello World \"\n",
        "result=reverse_String(String)\n",
        "print(result)"
      ],
      "metadata": {
        "colab": {
          "base_uri": "https://localhost:8080/"
        },
        "id": "YFSdjkmTuQoV",
        "outputId": "2dd330e8-8ebb-465b-8347-98e5463f89de"
      },
      "execution_count": null,
      "outputs": [
        {
          "output_type": "stream",
          "name": "stdout",
          "text": [
            " dlroW olleH\n"
          ]
        }
      ]
    },
    {
      "cell_type": "markdown",
      "source": [
        "Q2 Implement a function to check if a given string is a palindrome."
      ],
      "metadata": {
        "id": "skZyXERX1feQ"
      }
    },
    {
      "cell_type": "code",
      "source": [
        "def isPalindrome(String):\n",
        "  i=0\n",
        "  j=len(String)-1\n",
        "  flag=False\n",
        "  while i<j:\n",
        "    if String[i]==String[j]:\n",
        "      flag=True\n",
        "    i+=1\n",
        "    j-=1\n",
        "  if flag:\n",
        "    return \"String is palindrome\"\n",
        "  else:\n",
        "    return \"String is not palindrome\"\n",
        "\n",
        "String=\"MADHU\"\n",
        "result=isPalindrome(String)\n",
        "print(result)\n",
        "String=\"NAYAN\"\n",
        "result=isPalindrome(String)\n",
        "print(result)"
      ],
      "metadata": {
        "colab": {
          "base_uri": "https://localhost:8080/"
        },
        "id": "oS2Irv0o1eZO",
        "outputId": "38ba0e8f-2387-4c72-d217-d7ac2c17abbf"
      },
      "execution_count": null,
      "outputs": [
        {
          "output_type": "stream",
          "name": "stdout",
          "text": [
            "String is not palindrome\n",
            "String is palindrome\n"
          ]
        }
      ]
    },
    {
      "cell_type": "markdown",
      "source": [
        "Write a program to find the largest element in a given list."
      ],
      "metadata": {
        "id": "zgj5P1wQ4Pn1"
      }
    },
    {
      "cell_type": "code",
      "source": [
        "def find_largest(list):\n",
        "  largest=list[0]\n",
        "  for i in range(1,len(list)-1):\n",
        "    if list[i]>largest:\n",
        "      largest=list[i]\n",
        "  return largest\n",
        "\n",
        "list=[1,8,90,45,23,101,22]\n",
        "result=find_largest(list)\n",
        "print(\"larget element is ->\",result)\n"
      ],
      "metadata": {
        "colab": {
          "base_uri": "https://localhost:8080/"
        },
        "id": "-IV0PSqR2LW6",
        "outputId": "7becc79d-7411-45c2-c697-1b208dd0344e"
      },
      "execution_count": null,
      "outputs": [
        {
          "output_type": "stream",
          "name": "stdout",
          "text": [
            "larget element is -> 101\n"
          ]
        }
      ]
    },
    {
      "cell_type": "markdown",
      "source": [
        "Implement a function to count the occurrence of each element in a list."
      ],
      "metadata": {
        "id": "Ie_NIpt1482i"
      }
    },
    {
      "cell_type": "code",
      "source": [
        "from collections import Counter\n",
        "def count_occurance(list):\n",
        "  counter=Counter(list)\n",
        "  for num,count in counter.items():\n",
        "    print(num,\"-->\",count)\n",
        "list=[1,2,3,4,4,5,5,5,7]\n",
        "result=count_occurance(list)\n",
        "print(result)"
      ],
      "metadata": {
        "colab": {
          "base_uri": "https://localhost:8080/"
        },
        "id": "T06ERu2m40kl",
        "outputId": "8ac0f78e-2c38-4d85-dc50-d650dc004b66"
      },
      "execution_count": null,
      "outputs": [
        {
          "output_type": "stream",
          "name": "stdout",
          "text": [
            "1 --> 1\n",
            "2 --> 1\n",
            "3 --> 1\n",
            "4 --> 2\n",
            "5 --> 3\n",
            "7 --> 1\n",
            "None\n"
          ]
        }
      ]
    },
    {
      "cell_type": "markdown",
      "source": [
        "Write a Python program to find the second largest number in a list."
      ],
      "metadata": {
        "id": "NaAqG0ut54ky"
      }
    },
    {
      "cell_type": "code",
      "source": [
        "def second_largest_element(list):\n",
        "  list.sort()\n",
        "  return list[-2]\n",
        "list=[1,8,90,45,23,101,22]\n",
        "result=second_largest_element(list)\n",
        "print(result)\n",
        "\n",
        "\n"
      ],
      "metadata": {
        "colab": {
          "base_uri": "https://localhost:8080/"
        },
        "id": "caRWa9B-5sAD",
        "outputId": "ebcbb095-e220-45a3-8abb-671a06f93063"
      },
      "execution_count": null,
      "outputs": [
        {
          "output_type": "stream",
          "name": "stdout",
          "text": [
            "90\n"
          ]
        }
      ]
    },
    {
      "cell_type": "markdown",
      "source": [
        "Implement a function to remove duplicate elements from a list."
      ],
      "metadata": {
        "id": "mDUzmk_-7dXz"
      }
    },
    {
      "cell_type": "code",
      "source": [
        "from collections import Counter\n",
        "def remove_duplicate(list1):\n",
        "  counter=Counter(list1)\n",
        "  result=[]\n",
        "  for num ,count in counter.items():\n",
        "      if count==1:\n",
        "        result.append(num)\n",
        "  return result\n",
        "list1=[2,3,3,4,5,5,5,6,7]\n",
        "result=remove_duplicate(list1)\n",
        "print(result)\n"
      ],
      "metadata": {
        "colab": {
          "base_uri": "https://localhost:8080/"
        },
        "id": "amhpee4h7AYJ",
        "outputId": "bf51527d-0fe6-45a0-997f-1f363b4d2725"
      },
      "execution_count": null,
      "outputs": [
        {
          "output_type": "stream",
          "name": "stdout",
          "text": [
            "[2, 4, 6, 7]\n"
          ]
        }
      ]
    },
    {
      "cell_type": "markdown",
      "source": [
        "Write a program to calculate the factorial of a given number."
      ],
      "metadata": {
        "id": "_asFnLSC80z5"
      }
    },
    {
      "cell_type": "code",
      "source": [
        "def factorial(num):\n",
        "  if num==0:\n",
        "    return 1\n",
        "  if num==1:\n",
        "    return 1\n",
        "  else:\n",
        "    return num*factorial(num-1)\n",
        "num=5\n",
        "result=factorial(num)\n",
        "print(result)"
      ],
      "metadata": {
        "colab": {
          "base_uri": "https://localhost:8080/"
        },
        "id": "_H97ng0Y75T3",
        "outputId": "efbec689-ecdd-4942-98d7-9e43efa58195"
      },
      "execution_count": null,
      "outputs": [
        {
          "output_type": "stream",
          "name": "stdout",
          "text": [
            "120\n"
          ]
        }
      ]
    },
    {
      "cell_type": "markdown",
      "source": [
        "Implement a function to check if a given number is prime."
      ],
      "metadata": {
        "id": "8SkRh-9Y9Jw-"
      }
    },
    {
      "cell_type": "code",
      "source": [
        "def isPrime(num):\n",
        "  if num>1:\n",
        "    for i in range(2,(num//2)+1):\n",
        "      if num%i==0:\n",
        "        return \"Number is not a prime\"\n",
        "      else:\n",
        "        return \"Number is prime number\"\n",
        "  else:\n",
        "    return \"Number is not a prime number\"\n",
        "\n",
        "num=12\n",
        "result=isPrime(num)\n",
        "print(result)\n",
        "num=13\n",
        "result=isPrime(num)\n",
        "print(result)"
      ],
      "metadata": {
        "id": "kWZihl5_9Dmk",
        "colab": {
          "base_uri": "https://localhost:8080/"
        },
        "outputId": "0461462c-eeb9-4227-cd69-ae66d2056a75"
      },
      "execution_count": null,
      "outputs": [
        {
          "output_type": "stream",
          "name": "stdout",
          "text": [
            "Number is not a prime\n",
            "Number is prime number\n"
          ]
        }
      ]
    },
    {
      "cell_type": "markdown",
      "source": [
        "Write a Python program to sort a list of integers in ascending order."
      ],
      "metadata": {
        "id": "cP-bPd13HQ0q"
      }
    },
    {
      "cell_type": "code",
      "source": [
        "def sort_list(list1):\n",
        "  for i in range(len(list1)):\n",
        "    for j in range(0,len(list1)-i-1):\n",
        "      if list1[j]>list1[j+1]:\n",
        "        temp=list1[j]\n",
        "        list1[j]=list1[j+1]\n",
        "        list1[j+1]=temp\n",
        "  return list1\n",
        "list1=[8,10,2,4,3]\n",
        "result=sort_list(list1)\n",
        "print(result)\n"
      ],
      "metadata": {
        "colab": {
          "base_uri": "https://localhost:8080/"
        },
        "id": "SfQf6RgSHLQs",
        "outputId": "825bdea2-bba5-4d46-fc25-bd57e5091d05"
      },
      "execution_count": null,
      "outputs": [
        {
          "output_type": "stream",
          "name": "stdout",
          "text": [
            "[2, 3, 4, 8, 10]\n"
          ]
        }
      ]
    },
    {
      "cell_type": "markdown",
      "source": [
        "Implement a function to find the sum of all numbers in a list."
      ],
      "metadata": {
        "id": "jYKFajR-YW2x"
      }
    },
    {
      "cell_type": "code",
      "source": [
        "def sum_of_num_in_list(list1):\n",
        "  sum=0\n",
        "  for num in list1:\n",
        "    sum+=num\n",
        "  return sum\n",
        "list1=[1,2,3,4,5]\n",
        "result=sum_of_num_in_list(list1)\n",
        "print(\"Sum of all elements in list is \",result)"
      ],
      "metadata": {
        "colab": {
          "base_uri": "https://localhost:8080/"
        },
        "id": "f-uMGeQAW-l5",
        "outputId": "446d9f31-4d18-45be-8da6-684f1ff0d816"
      },
      "execution_count": null,
      "outputs": [
        {
          "output_type": "stream",
          "name": "stdout",
          "text": [
            "Sum of all elements in list is  15\n"
          ]
        }
      ]
    },
    {
      "cell_type": "markdown",
      "source": [
        "Write a program to find the common elements between two lists."
      ],
      "metadata": {
        "id": "LzNNvRO_Ytb6"
      }
    },
    {
      "cell_type": "code",
      "source": [
        "def common_in_two_lists(list1,list2):\n",
        "  common=[]\n",
        "  for num in list1:\n",
        "    if num in list2:\n",
        "      common.append(num)\n",
        "  return common\n",
        "list1=[23,22,12,14]\n",
        "list2=[12,14,56]\n",
        "result=common_in_two_lists(list1,list2)\n",
        "print(result)"
      ],
      "metadata": {
        "colab": {
          "base_uri": "https://localhost:8080/"
        },
        "id": "VhFLsR3pYoC0",
        "outputId": "556900f5-ed36-43fd-a399-e9e265c41b66"
      },
      "execution_count": null,
      "outputs": [
        {
          "output_type": "stream",
          "name": "stdout",
          "text": [
            "[12, 14]\n"
          ]
        }
      ]
    },
    {
      "cell_type": "markdown",
      "source": [
        "Implement a function to check if a given string is an anagram of another string."
      ],
      "metadata": {
        "id": "8XOORmQuZnak"
      }
    },
    {
      "cell_type": "code",
      "source": [
        "def isAnagram(String1,String2):\n",
        "  if len(String1)!=len(String2):\n",
        "    return False\n",
        "  elif sorted(String1)==sorted(String2):\n",
        "    return \"Two strings are anagram\"\n",
        "String1=\"bad\"\n",
        "String2=\"dab\"\n",
        "result=isAnagram(String1,String2)\n",
        "print(result)"
      ],
      "metadata": {
        "colab": {
          "base_uri": "https://localhost:8080/"
        },
        "id": "5Ma5LMnYZmAQ",
        "outputId": "5e92a120-3caf-48c3-9389-f1ff4cbba4a2"
      },
      "execution_count": null,
      "outputs": [
        {
          "output_type": "stream",
          "name": "stdout",
          "text": [
            "Two strings are anagram\n"
          ]
        }
      ]
    },
    {
      "cell_type": "markdown",
      "source": [
        "Write a Python program to generate all permutations of a given string."
      ],
      "metadata": {
        "id": "42J6NjfEb5IR"
      }
    },
    {
      "cell_type": "code",
      "source": [
        "def all_permutations(String):\n",
        "  if len(String)==1:\n",
        "    return String\n",
        "  else:\n",
        "    perms=[]\n",
        "    for i in range(len(String)):\n",
        "      char=String[i]\n",
        "      charleft=String[:i]+String[i+1:]\n",
        "      for perm in all_permutations(charleft):\n",
        "        perms.append(char+perm)\n",
        "  return perms\n",
        "String =\"ABC\"\n",
        "result=all_permutations(String)\n",
        "print(result)\n"
      ],
      "metadata": {
        "colab": {
          "base_uri": "https://localhost:8080/"
        },
        "id": "e2jyVJDzZOjU",
        "outputId": "65fce41e-415c-40a3-d915-9d771456349d"
      },
      "execution_count": null,
      "outputs": [
        {
          "output_type": "stream",
          "name": "stdout",
          "text": [
            "['ABC', 'ACB', 'BAC', 'BCA', 'CAB', 'CBA']\n"
          ]
        }
      ]
    },
    {
      "cell_type": "markdown",
      "source": [
        "Implement a function to calculate the Fibonacci sequence up to a given number of terms."
      ],
      "metadata": {
        "id": "xckcvJDgmZmK"
      }
    },
    {
      "cell_type": "code",
      "source": [
        "def fibonacci(n):\n",
        "    # Base cases: Fibonacci of 0 is 0 and Fibonacci of 1 is 1\n",
        "    if n == 0:\n",
        "        return []\n",
        "    elif n == 1:\n",
        "        return [0]\n",
        "    elif n==2:\n",
        "      return [0,1]\n",
        "    else:\n",
        "        # Recursive case: Fibonacci of n is the sum of Fibonacci of (n-1) and Fibonacci of (n-2)\n",
        "        sequence=fibonacci(n-1)\n",
        "        sequence.append(sequence[-1]+sequence[-2])\n",
        "    return sequence\n",
        "\n",
        "# Example usage:\n",
        "n = 10\n",
        "result = fibonacci(n)\n",
        "print(result)"
      ],
      "metadata": {
        "colab": {
          "base_uri": "https://localhost:8080/"
        },
        "id": "s88JUn72c5bU",
        "outputId": "c4181d2b-58bf-470c-dff2-141769d38f03"
      },
      "execution_count": null,
      "outputs": [
        {
          "output_type": "stream",
          "name": "stdout",
          "text": [
            "[0, 1, 1, 2, 3, 5, 8, 13, 21, 34]\n"
          ]
        }
      ]
    },
    {
      "cell_type": "markdown",
      "source": [
        "Write a program to find the median of a list of numbers."
      ],
      "metadata": {
        "id": "eU2wdifYq6Sq"
      }
    },
    {
      "cell_type": "code",
      "source": [
        "def find_median(lst):\n",
        "    sorted_lst = sorted(lst)\n",
        "    length = len(sorted_lst)\n",
        "    mid = length // 2\n",
        "    if length % 2 == 0:\n",
        "        # For an even-sized list, median is the average of the middle two elements\n",
        "        median = (sorted_lst[mid - 1] + sorted_lst[mid]) / 2\n",
        "    else:\n",
        "        # For an odd-sized list, median is the middle element\n",
        "        median = sorted_lst[mid]\n",
        "    return median\n",
        "list1 = [7, 2, 9, 1, 5, 3]\n",
        "median = find_median(list1)\n",
        "print(\"Median:\", median)"
      ],
      "metadata": {
        "colab": {
          "base_uri": "https://localhost:8080/"
        },
        "id": "4h1QYeQun3Ew",
        "outputId": "e1f5bf69-8e9a-4e0a-d3d5-7688a66bf5f8"
      },
      "execution_count": null,
      "outputs": [
        {
          "output_type": "stream",
          "name": "stdout",
          "text": [
            "Median: 4.0\n"
          ]
        }
      ]
    },
    {
      "cell_type": "markdown",
      "source": [
        "Implement a function to check if a given list is sorted in non-decreasing order."
      ],
      "metadata": {
        "id": "9qtKXYbtjKue"
      }
    },
    {
      "cell_type": "code",
      "source": [
        "def islistSorted(list1:list)->bool:\n",
        "  list2=list1\n",
        "  list2.sort()\n",
        "  for i in range(len(list1)):\n",
        "    for j in range(1,len(list1)-i-1):\n",
        "      if list1[j]>list1[j+1]:\n",
        "        temp=list1[j]\n",
        "        list1[j]=list1[j+1]\n",
        "        list1[j+1]=temp\n",
        "  if list1==list2:\n",
        "    return \"List is sorted \"\n",
        "  else:\n",
        "    return \"List is not sorted\"\n",
        "\n",
        "list1=[2,0,9,7,56,34]\n",
        "result=islistSorted(list1)\n",
        "print(result)\n"
      ],
      "metadata": {
        "id": "ToNbH2QAr3RA",
        "colab": {
          "base_uri": "https://localhost:8080/"
        },
        "outputId": "eb6e5054-f4e9-4c96-d58b-4631d0c2ddd5"
      },
      "execution_count": null,
      "outputs": [
        {
          "output_type": "stream",
          "name": "stdout",
          "text": [
            "List is sorted \n"
          ]
        }
      ]
    },
    {
      "cell_type": "markdown",
      "source": [
        "Write a Python program to find the intersection of two lists."
      ],
      "metadata": {
        "id": "MWvQ0Fh1kw5F"
      }
    },
    {
      "cell_type": "code",
      "source": [
        "def intersection(list1:list,list2:list)->list:\n",
        "  result=[]\n",
        "  for num in list1:\n",
        "    if num in list2:\n",
        "      result.append(num)\n",
        "  return result\n",
        "\n",
        "list1=[12,13,14,15]\n",
        "list2=[14,15]\n",
        "res=intersection(list1,list2)\n",
        "print(res)\n"
      ],
      "metadata": {
        "colab": {
          "base_uri": "https://localhost:8080/"
        },
        "id": "ApwUnVOlkvbs",
        "outputId": "e5b216d4-8fa2-4840-b383-8f8d148d5522"
      },
      "execution_count": null,
      "outputs": [
        {
          "output_type": "stream",
          "name": "stdout",
          "text": [
            "[14, 15]\n"
          ]
        }
      ]
    },
    {
      "cell_type": "markdown",
      "source": [
        "Implement a function to find the maximum subarray sum in a given list."
      ],
      "metadata": {
        "id": "qcYTdNeylPnM"
      }
    },
    {
      "cell_type": "code",
      "source": [
        "def max_sub_sum(list1:list[int])->int:\n",
        "  max_sub=list1[0]\n",
        "  current_sum=0\n",
        "  for num in list1:\n",
        "      if current_sum<0:\n",
        "         current_sum=0\n",
        "      current_sum+=num\n",
        "      max_sub=max(max_sub,current_sum)\n",
        "  return max_sub\n",
        "list1=[-2,1,-3,4,-1,2,1,-5,4]\n",
        "result=max_sub_sum(list1)\n",
        "print(result)"
      ],
      "metadata": {
        "colab": {
          "base_uri": "https://localhost:8080/"
        },
        "id": "nXcFCiIkkFF-",
        "outputId": "d0b9ad68-791c-4dce-9bac-04a591020abe"
      },
      "execution_count": null,
      "outputs": [
        {
          "output_type": "stream",
          "name": "stdout",
          "text": [
            "6\n"
          ]
        }
      ]
    },
    {
      "cell_type": "markdown",
      "source": [
        "Write a program to remove all vowels from a given string."
      ],
      "metadata": {
        "id": "Oxq2UcopthM3"
      }
    },
    {
      "cell_type": "code",
      "source": [
        "def remove_Vowels(String:str)->str:\n",
        "  result=\" \"\n",
        "  vowels=('A','a','E','e','I','i','O','o','U','u')\n",
        "  for s in String :\n",
        "    if s not in vowels:\n",
        "        result+=s\n",
        "  return result\n",
        "String=\"Hello Worlds\"\n",
        "result=remove_Vowels(String)\n",
        "print(result)"
      ],
      "metadata": {
        "colab": {
          "base_uri": "https://localhost:8080/"
        },
        "id": "_6Qq_2zlrhhI",
        "outputId": "c5a78ee4-948e-4be4-a6dc-c9d8d946710d"
      },
      "execution_count": null,
      "outputs": [
        {
          "output_type": "stream",
          "name": "stdout",
          "text": [
            " Hll Wrlds\n"
          ]
        }
      ]
    },
    {
      "cell_type": "markdown",
      "source": [
        "Implement a function to reverse the order of words in a given sentence."
      ],
      "metadata": {
        "id": "HxH2sYq9weJw"
      }
    },
    {
      "cell_type": "code",
      "source": [
        "def reverse_Words(String:str)->str:\n",
        "  String=String.split(\" \")\n",
        "  for s in String:\n",
        "    reversed_String=String[::-1]\n",
        "  return reversed_String\n",
        "\n",
        "String =\"Hello World\"\n",
        "result=reverse_Words(String)\n",
        "print(result)"
      ],
      "metadata": {
        "colab": {
          "base_uri": "https://localhost:8080/"
        },
        "id": "4F9uoMtLwdh5",
        "outputId": "03d317ec-8add-482c-f817-64d57d025ac9"
      },
      "execution_count": null,
      "outputs": [
        {
          "output_type": "stream",
          "name": "stdout",
          "text": [
            "['World', 'Hello']\n"
          ]
        }
      ]
    },
    {
      "cell_type": "markdown",
      "source": [
        "Write a Python program to check if two strings are anagrams of each other."
      ],
      "metadata": {
        "id": "u4AEpwdAxKXd"
      }
    },
    {
      "cell_type": "code",
      "source": [
        "def isAnagram(String1,String2):\n",
        "  if len(String1)!=len(String2):\n",
        "    return False\n",
        "  elif sorted(String1)==sorted(String2):\n",
        "    return \"Two strings are anagram\"\n",
        "String1=\"bad\"\n",
        "String2=\"dab\"\n",
        "result=isAnagram(String1,String2)\n",
        "print(result)"
      ],
      "metadata": {
        "colab": {
          "base_uri": "https://localhost:8080/"
        },
        "id": "OjYbRHpKuCTS",
        "outputId": "2d4b6468-b5fe-4a9d-a3f8-a4ccde3affa7"
      },
      "execution_count": null,
      "outputs": [
        {
          "output_type": "stream",
          "name": "stdout",
          "text": [
            "Two strings are anagram\n"
          ]
        }
      ]
    },
    {
      "cell_type": "markdown",
      "source": [
        "Implement a function to find the first non-repeating character in a string."
      ],
      "metadata": {
        "id": "8HmZBgo2yDt3"
      }
    },
    {
      "cell_type": "code",
      "source": [],
      "metadata": {
        "id": "VbzsZ5v4xkus"
      },
      "execution_count": null,
      "outputs": []
    },
    {
      "cell_type": "markdown",
      "source": [
        "Write a program to find the prime factors of a given number."
      ],
      "metadata": {
        "id": "sW9pmdNttHev"
      }
    },
    {
      "cell_type": "code",
      "source": [
        "def findPrimeFactor(num):\n",
        "  factors=[]\n",
        "  divisor=2\n",
        "  while divisor<=num:\n",
        "    if num%divisor==0:\n",
        "      factors.append(divisor)\n",
        "      num=num/divisor\n",
        "    else:\n",
        "      divisor+=1\n",
        "  return factors\n",
        "\n",
        "num=15\n",
        "result=findPrimeFactor(num)\n",
        "print(result)\n",
        "num=20\n",
        "result=findPrimeFactor(num)\n",
        "print(result)"
      ],
      "metadata": {
        "colab": {
          "base_uri": "https://localhost:8080/"
        },
        "id": "VbK6TP9vtI1a",
        "outputId": "bee61250-a7bb-4f89-9b75-cb6ed527ced0"
      },
      "execution_count": null,
      "outputs": [
        {
          "output_type": "stream",
          "name": "stdout",
          "text": [
            "[3, 5]\n",
            "[2, 2, 5]\n"
          ]
        }
      ]
    },
    {
      "cell_type": "markdown",
      "source": [
        "Implement a function to check if a given number is a power of two."
      ],
      "metadata": {
        "id": "sZQw3BBrrfmj"
      }
    },
    {
      "cell_type": "code",
      "source": [
        "def isPower_two(num):\n",
        "  if num <=0 or num %2!=0:\n",
        "    return False\n",
        "  if num==1:\n",
        "    return True\n",
        "  else:\n",
        "    return isPower_two(num//2)\n",
        "\n",
        "\n",
        "num=16\n",
        "result=isPower_two(num)\n",
        "print(result)\n",
        "num=10\n",
        "result=isPower_two(num)\n",
        "print(result)"
      ],
      "metadata": {
        "colab": {
          "base_uri": "https://localhost:8080/"
        },
        "id": "wYYsW7CqrgNt",
        "outputId": "b1883f27-e723-4919-b451-dd40f057bb2e"
      },
      "execution_count": null,
      "outputs": [
        {
          "output_type": "stream",
          "name": "stdout",
          "text": [
            "False\n",
            "False\n"
          ]
        }
      ]
    },
    {
      "cell_type": "markdown",
      "source": [
        "Write a Python program to merge two sorted lists into a single sorted list."
      ],
      "metadata": {
        "id": "rqLHR9i_vblj"
      }
    },
    {
      "cell_type": "code",
      "source": [
        "def mergerTwoList(list1:list,list2:list)->list:\n",
        "  list1=sorted(list1)\n",
        "  list2=sorted(list2)\n",
        "  m1=len(list1)\n",
        "  m2=len(list2)\n",
        "  result=[]\n",
        "  i=0\n",
        "  j=0\n",
        "  while i<m1 and j<m2:\n",
        "    if list1[i]<list2[j]:\n",
        "      result.append(list1[i])\n",
        "      i+=1\n",
        "    else :\n",
        "      result.append(list2[j])\n",
        "      j+=1\n",
        "  while j<m2:\n",
        "    result.append(list2[j])\n",
        "    j+=1\n",
        "  while i<m1:\n",
        "    result.append(list1[i])\n",
        "    i+=1\n",
        "  return result\n",
        "\n",
        "list1=[1,2,3,4]\n",
        "list2=[4,6,7,8]\n",
        "result=mergerTwoList(list1,list2)\n",
        "print(result)\n"
      ],
      "metadata": {
        "colab": {
          "base_uri": "https://localhost:8080/"
        },
        "id": "ZIf4fenFsURF",
        "outputId": "3f394b0b-d86b-46cd-d387-9164e8d6332c"
      },
      "execution_count": null,
      "outputs": [
        {
          "output_type": "stream",
          "name": "stdout",
          "text": [
            "[1, 2, 3, 4, 4, 6, 7, 8]\n"
          ]
        }
      ]
    },
    {
      "cell_type": "markdown",
      "source": [
        "Implement a function to find the mode of a list of numbers.\n",
        "\n",
        "Implement a function to calculate the square root of a given number."
      ],
      "metadata": {
        "id": "UwjxGnBg3bO7"
      }
    },
    {
      "cell_type": "code",
      "source": [
        "from collections import Counter\n",
        "def mode(list1:list)->int:\n",
        "  counter=Counter(list1)\n",
        "  max_count=max(counter.values())\n",
        "  number_max_count=[number for number ,count in counter.items() if count==max_count]\n",
        "  return number_max_count\n",
        "list1=[1,2,3,3,3,3,3,5,6,6]\n",
        "result=mode(list1)\n",
        "print(result)"
      ],
      "metadata": {
        "colab": {
          "base_uri": "https://localhost:8080/"
        },
        "id": "bMcOKgSv3AXb",
        "outputId": "8d728e7e-7dd4-4e79-b256-c5d6423299a5"
      },
      "execution_count": null,
      "outputs": [
        {
          "output_type": "stream",
          "name": "stdout",
          "text": [
            "[3]\n"
          ]
        }
      ]
    },
    {
      "cell_type": "markdown",
      "source": [
        "Write a program to find the greatest common divisor (GCD) of two numbers."
      ],
      "metadata": {
        "id": "rzz6w-7S42f3"
      }
    },
    {
      "cell_type": "code",
      "source": [
        "def getGCD (a,b):\n",
        "  while b!=0:\n",
        "    a,b=b,a%b\n",
        "  return a\n",
        "\n",
        "a=15\n",
        "b=20\n",
        "result=getGCD(a,b)\n",
        "print(result)"
      ],
      "metadata": {
        "colab": {
          "base_uri": "https://localhost:8080/"
        },
        "id": "Emnp6a2h3_zt",
        "outputId": "cf322e9b-ea50-4bdf-b0f9-398ee451492f"
      },
      "execution_count": null,
      "outputs": [
        {
          "output_type": "stream",
          "name": "stdout",
          "text": [
            "5\n"
          ]
        }
      ]
    },
    {
      "cell_type": "markdown",
      "source": [
        "Write a Python program to check if a given string is a valid palindrome ignoring non-alphanumeric characters."
      ],
      "metadata": {
        "id": "fYnDu2PgioBU"
      }
    },
    {
      "cell_type": "code",
      "source": [],
      "metadata": {
        "id": "06JF43TF53sh"
      },
      "execution_count": null,
      "outputs": []
    },
    {
      "cell_type": "markdown",
      "source": [
        "Implement a function to find the minimum element in a rotated sorted list."
      ],
      "metadata": {
        "id": "g46TdDaoiz2N"
      }
    },
    {
      "cell_type": "code",
      "source": [
        "def findMin(nums):\n",
        "  i=0\n",
        "  j=len(nums)-1\n",
        "  while i<j:\n",
        "    mid=i+(j-i)//2\n",
        "    if nums[mid]>nums[j]:\n",
        "      i=mid+1\n",
        "    else:\n",
        "     j=mid\n",
        "  return nums[i]\n",
        "\n",
        "Nums=[4,5,6,7,0,1,2]\n",
        "Result=findMin(Nums)\n",
        "print(Result)"
      ],
      "metadata": {
        "id": "tX0UoqI3i0bL",
        "colab": {
          "base_uri": "https://localhost:8080/"
        },
        "outputId": "03966b72-4347-4ffc-da6b-37c825a4be5b"
      },
      "execution_count": null,
      "outputs": [
        {
          "output_type": "stream",
          "name": "stdout",
          "text": [
            "0\n"
          ]
        }
      ]
    },
    {
      "cell_type": "markdown",
      "source": [
        "Write a program to find the sum of all even numbers in a list."
      ],
      "metadata": {
        "id": "7gqIiyXcwjcI"
      }
    },
    {
      "cell_type": "code",
      "source": [
        "def findsumeven(list1):\n",
        "   Sum=0\n",
        "   for i in list1:\n",
        "      if i %2==0:\n",
        "        Sum+=i\n",
        "   return Sum\n",
        "\n",
        "list1=[12,3,45,67,8,0,4,6]\n",
        "Result=findsumeven(list1)\n",
        "print(Result)"
      ],
      "metadata": {
        "colab": {
          "base_uri": "https://localhost:8080/"
        },
        "id": "G0gMU2ZqxviB",
        "outputId": "9f6ba467-d0e8-4739-f356-4539bb2ff7f6"
      },
      "execution_count": null,
      "outputs": [
        {
          "output_type": "stream",
          "name": "stdout",
          "text": [
            "30\n"
          ]
        }
      ]
    },
    {
      "cell_type": "markdown",
      "source": [
        "define function to calculate power of number using recursion"
      ],
      "metadata": {
        "id": "jHMNGe77yazV"
      }
    },
    {
      "cell_type": "code",
      "source": [
        "def power(num,pow):\n",
        "   if pow==0:\n",
        "      return 1\n",
        "   if pow==1:\n",
        "      return num\n",
        "   else:\n",
        "      return num*power(num,pow-1)\n",
        "Num=3\n",
        "Pow=3\n",
        "Result=power(Num,Pow)\n",
        "print(Result)"
      ],
      "metadata": {
        "colab": {
          "base_uri": "https://localhost:8080/"
        },
        "id": "NL1p_zQeyh3T",
        "outputId": "e06057fb-a3c3-439a-c5b2-ef88263ebf61"
      },
      "execution_count": null,
      "outputs": [
        {
          "output_type": "stream",
          "name": "stdout",
          "text": [
            "27\n"
          ]
        }
      ]
    },
    {
      "cell_type": "markdown",
      "source": [
        "Define dunction to remove duplicTes preserving their order"
      ],
      "metadata": {
        "id": "E-5PfgCF1oM8"
      }
    },
    {
      "cell_type": "code",
      "source": [
        "\n",
        "def removeduplicates(list1):\n",
        "    seen=set()\n",
        "    result=[]\n",
        "    for num in list1:\n",
        "        if num not in seen:\n",
        "            seen.add(num)\n",
        "            result.append(num)\n",
        "    return result\n",
        "list1=[4,3,2,2,0,4]\n",
        "result=removeduplicates(list1)\n",
        "print(result)"
      ],
      "metadata": {
        "colab": {
          "base_uri": "https://localhost:8080/"
        },
        "id": "v3q97bvg1vKG",
        "outputId": "d2ca9573-5927-4f54-b824-98bf3eae9aaa"
      },
      "execution_count": null,
      "outputs": [
        {
          "output_type": "stream",
          "name": "stdout",
          "text": [
            "[4, 3, 2, 0]\n"
          ]
        }
      ]
    },
    {
      "cell_type": "markdown",
      "source": [
        "Define function to find lo gest common prefix in string"
      ],
      "metadata": {
        "id": "I9MmvAXV4EcV"
      }
    },
    {
      "cell_type": "code",
      "source": [
        "def longest_common_prefix(strings):\n",
        "   prefix= strings[0]\n",
        "   for string in strings[1:]:\n",
        "      i=0\n",
        "      while i<len(prefix) and i < len(string) and string[i]==prefix[i]:\n",
        "         i+=1\n",
        "      prefix=prefix[:i]\n",
        "   return  prefix\n",
        "words = [\"apple\", \"appetite\", \"applause\", \"appliance\"]\n",
        "result = longest_common_prefix(words)\n",
        "print(result)"
      ],
      "metadata": {
        "colab": {
          "base_uri": "https://localhost:8080/"
        },
        "id": "BYQa08Jf1vjM",
        "outputId": "492a98a8-86c0-4cd1-8f5c-f3ef0c93f5d9"
      },
      "execution_count": null,
      "outputs": [
        {
          "output_type": "stream",
          "name": "stdout",
          "text": [
            "app\n"
          ]
        }
      ]
    },
    {
      "cell_type": "markdown",
      "source": [
        "Define function to calculate product of all numbers in list"
      ],
      "metadata": {
        "id": "aGHD5Swr52a7"
      }
    },
    {
      "cell_type": "code",
      "source": [
        "def getProduct(list1):\n",
        "   Product=1\n",
        "   for num in list1:\n",
        "      Product*=num\n",
        "   return Product\n",
        "Nums=[2,3,4,5,6]\n",
        "Result=getProduct(Nums)\n",
        "print(Result)"
      ],
      "metadata": {
        "colab": {
          "base_uri": "https://localhost:8080/"
        },
        "id": "_QwhkmP757pu",
        "outputId": "7ed8c5c6-c9c0-4a7c-ca96-249e1c7aac49"
      },
      "execution_count": null,
      "outputs": [
        {
          "output_type": "stream",
          "name": "stdout",
          "text": [
            "720\n"
          ]
        }
      ]
    },
    {
      "cell_type": "markdown",
      "source": [
        "Define function to reverse letters preserving order of word"
      ],
      "metadata": {
        "id": "1G7Z2r-38GoQ"
      }
    },
    {
      "cell_type": "code",
      "source": [
        "\n",
        "def reverse(strings):\n",
        "    strings = strings.split(\" \")\n",
        "    result = []\n",
        "    for string in strings:\n",
        "        reverse = string[::-1]\n",
        "        result.append(reverse)\n",
        "    return \" \".join(result)\n",
        "\n",
        "string = \"hello world\"\n",
        "result = reverse(string)\n",
        "print(result)"
      ],
      "metadata": {
        "colab": {
          "base_uri": "https://localhost:8080/"
        },
        "id": "fUcrq3pv8LSg",
        "outputId": "6df028d0-43c0-41e7-90ba-51c8636ce647"
      },
      "execution_count": null,
      "outputs": [
        {
          "output_type": "stream",
          "name": "stdout",
          "text": [
            "olleh dlrow\n"
          ]
        }
      ]
    },
    {
      "cell_type": "markdown",
      "source": [
        "Implement a function to find the missing number in a given list of consecutive numbers."
      ],
      "metadata": {
        "id": "vZ5Wa-TK9FNr"
      }
    },
    {
      "cell_type": "code",
      "source": [
        "def findMissing(list1):\n",
        "  Result=[]\n",
        "  Low= min(list1)\n",
        "  High= max(list1)\n",
        "  for num in range(Low,High+1):\n",
        "    if num not in list1:\n",
        "       Result.append(num)\n",
        "  return Result\n",
        "\n",
        "List1=[2,4,6,3,8]\n",
        "Result=findMissing(List1)\n",
        "print(Result)"
      ],
      "metadata": {
        "colab": {
          "base_uri": "https://localhost:8080/"
        },
        "id": "RonOBaj79HcM",
        "outputId": "13837611-6b63-49f0-d144-f31219cdc70b"
      },
      "execution_count": null,
      "outputs": [
        {
          "output_type": "stream",
          "name": "stdout",
          "text": [
            "[5, 7]\n"
          ]
        }
      ]
    },
    {
      "cell_type": "markdown",
      "source": [
        "Write a program to find the sum of digits of a given number."
      ],
      "metadata": {
        "id": "ovUin9r2Asn0"
      }
    },
    {
      "cell_type": "code",
      "source": [
        "def getSum(num):\n",
        "  sum=0\n",
        "  while num!=0:\n",
        "    rem=num%10\n",
        "    sum+=rem\n",
        "    num=num//10\n",
        "  return sum\n",
        "\n",
        "num=145\n",
        "result=getSum(num)\n",
        "print(result)\n"
      ],
      "metadata": {
        "colab": {
          "base_uri": "https://localhost:8080/"
        },
        "id": "lwQSKyxIly6H",
        "outputId": "011b334d-9fd5-42af-c6db-78ed5943035f"
      },
      "execution_count": 20,
      "outputs": [
        {
          "output_type": "stream",
          "name": "stdout",
          "text": [
            "10\n"
          ]
        }
      ]
    },
    {
      "cell_type": "markdown",
      "source": [
        "Write a Python program to remove all duplicates from a string"
      ],
      "metadata": {
        "id": "B8mW7vlKf54r"
      }
    },
    {
      "cell_type": "code",
      "source": [
        "from collections import Counter\n",
        "def removeDuplicates(strings:str)->str:\n",
        "  result = []\n",
        "  counter=Counter(strings)\n",
        "  for num,count in counter.items():\n",
        "    if count ==1:\n",
        "      result.append(num)\n",
        "  return \" \".join(result)\n",
        "\n",
        "String=\"HELLO\"\n",
        "result=removeDuplicates(String)\n",
        "print(result)\n",
        "String=\"My world is great\"\n",
        "Result=removeDuplicates(String)\n",
        "print(Result)"
      ],
      "metadata": {
        "colab": {
          "base_uri": "https://localhost:8080/"
        },
        "id": "YYyDggE2f6vY",
        "outputId": "d1e59e71-c5df-4c8d-9425-873597b5e7aa"
      },
      "execution_count": 3,
      "outputs": [
        {
          "output_type": "stream",
          "name": "stdout",
          "text": [
            "H E O\n",
            "M y w o l d i s g e a t\n"
          ]
        }
      ]
    },
    {
      "cell_type": "markdown",
      "source": [
        "Define function to get first positive number"
      ],
      "metadata": {
        "id": "HlJ3BBgVhZco"
      }
    },
    {
      "cell_type": "code",
      "source": [
        "def getFirstPositive(list1:list)->int:\n",
        "  for num in list1:\n",
        "    if num>0:\n",
        "      result=num\n",
        "      break\n",
        "  return result\n",
        "\n",
        "list1=[23,9,-8,9,0,-11]\n",
        "result=getFirstPositive(list1)\n",
        "print(result)\n",
        "\n"
      ],
      "metadata": {
        "colab": {
          "base_uri": "https://localhost:8080/"
        },
        "id": "K_F70lTQg7ih",
        "outputId": "356bb2e0-358d-4362-da5d-f11607f6c8da"
      },
      "execution_count": 4,
      "outputs": [
        {
          "output_type": "stream",
          "name": "stdout",
          "text": [
            "23\n"
          ]
        }
      ]
    },
    {
      "cell_type": "markdown",
      "source": [
        "Write a program to find the number of occurrences of a given element in a list."
      ],
      "metadata": {
        "id": "CqyQD_OfiYZP"
      }
    },
    {
      "cell_type": "code",
      "source": [
        "def findOccurance(list1: list, value: int) -> int:\n",
        "    num_count = {}\n",
        "    for num in list1:\n",
        "        if num in num_count:\n",
        "            num_count[num] += 1\n",
        "        else:\n",
        "            num_count[num] = 1\n",
        "    for num,count in num_count.items():\n",
        "      if num==value:\n",
        "        return count\n",
        "\n",
        "list1 = [1, 2, 3, 4, 5, 6, 6, 6]\n",
        "num = 6\n",
        "result = findOccurance(list1, num)\n",
        "print(result)\n",
        ""
      ],
      "metadata": {
        "colab": {
          "base_uri": "https://localhost:8080/"
        },
        "id": "wodEFbv8iVjX",
        "outputId": "ca2c48e1-9ba6-4d71-b271-53e06d6fa917"
      },
      "execution_count": 19,
      "outputs": [
        {
          "output_type": "stream",
          "name": "stdout",
          "text": [
            "3\n"
          ]
        }
      ]
    },
    {
      "cell_type": "markdown",
      "source": [
        "Define function to check number is perfect or not\n",
        "\n",
        ":Perfect number is a number where sum of its divisors ==that number itself exa 6,28\n",
        "\n",
        "6=1,2,3 (1+3+2)=6\n",
        "\n",
        "28=1,2,14,7,4 (1+4+7+2+14)=28"
      ],
      "metadata": {
        "id": "vLtIK4YpmeKe"
      }
    },
    {
      "cell_type": "code",
      "source": [
        "def isPerfect(num)->bool:\n",
        "  divisors=[]\n",
        "  for i in range(1,num):\n",
        "    if num%i==0:\n",
        "      divisors.append(i)\n",
        "  if sum(divisors)==num:\n",
        "    return True\n",
        "  else:\n",
        "    return False\n",
        "\n",
        "num=7\n",
        "result=isPerfect(num)\n",
        "print(result)\n",
        "num=28\n",
        "result=isPerfect(num)\n",
        "print(result)"
      ],
      "metadata": {
        "colab": {
          "base_uri": "https://localhost:8080/"
        },
        "id": "rpAagMIWh_oN",
        "outputId": "968bc57e-c648-48e6-f092-6908202779d7"
      },
      "execution_count": 22,
      "outputs": [
        {
          "output_type": "stream",
          "name": "stdout",
          "text": [
            "False\n",
            "True\n"
          ]
        }
      ]
    },
    {
      "cell_type": "markdown",
      "source": [
        "Implement a function to check if a given string is a valid palindrome considering case sensitivity."
      ],
      "metadata": {
        "id": "NxooOkAonZC5"
      }
    },
    {
      "cell_type": "markdown",
      "source": [
        "Write a Python program to find the smallest missing positive integer in a list"
      ],
      "metadata": {
        "id": "dHigoxQLnfqi"
      }
    },
    {
      "cell_type": "code",
      "source": [
        "def getSmallestPositive(list1:list)->int:\n",
        "  result=[]\n",
        "  for i in range(min(list1),max(list1)+1):\n",
        "    if i not in list1 and i>0:\n",
        "      result.append(i)\n",
        "  return min(result)\n",
        "\n",
        "list1=[2,-9,0,8,10]\n",
        "result=getSmallestPositive(list1)\n",
        "print(result)\n"
      ],
      "metadata": {
        "colab": {
          "base_uri": "https://localhost:8080/"
        },
        "id": "efpC4bVHnMMC",
        "outputId": "ce1abb5e-2516-4442-b60c-06e592b6b3a7"
      },
      "execution_count": 23,
      "outputs": [
        {
          "output_type": "stream",
          "name": "stdout",
          "text": [
            "1\n"
          ]
        }
      ]
    },
    {
      "cell_type": "markdown",
      "source": [
        "Implement a function to find the first missing positive"
      ],
      "metadata": {
        "id": "gkSv-cSRoUqe"
      }
    },
    {
      "cell_type": "code",
      "source": [
        "def getFirstMissingPositive(list1:list)->int:\n",
        "  result=[]\n",
        "  for num in range(min(list1),max(list1)+1):\n",
        "      if num>0 and num not in list1:\n",
        "        result.append(num)\n",
        "  return result[0]\n",
        "\n",
        "list1=[23,9,-8,9,0]\n",
        "result=getFirstMissingPositive(list1)\n",
        "print(result)\n"
      ],
      "metadata": {
        "colab": {
          "base_uri": "https://localhost:8080/"
        },
        "id": "JXUdPsi0oG4Y",
        "outputId": "a6d4972b-5db0-4208-ecc4-2a4b6720d216"
      },
      "execution_count": 25,
      "outputs": [
        {
          "output_type": "stream",
          "name": "stdout",
          "text": [
            "1\n"
          ]
        }
      ]
    },
    {
      "cell_type": "markdown",
      "source": [
        "define function to check number is perfect sqaure or not"
      ],
      "metadata": {
        "id": "6yzrnE-xqTHd"
      }
    },
    {
      "cell_type": "code",
      "source": [
        "def isPerfectSquare(num:int)->bool:\n",
        "  if num<0:\n",
        "    return False\n",
        "  left=0\n",
        "  right=num\n",
        "  while left<=right:\n",
        "    mid=(left+right)//2\n",
        "    sq=mid*mid\n",
        "    if sq==num:\n",
        "      return True\n",
        "    elif sq<num:\n",
        "      left=mid+1\n",
        "    else:\n",
        "      right=mid-1\n",
        "  return False\n",
        "\n",
        "num=64\n",
        "result=isPerfectSquare(num)\n",
        "print(result)\n",
        "num=27\n",
        "result=isPerfectSquare(num)\n",
        "print(result)"
      ],
      "metadata": {
        "colab": {
          "base_uri": "https://localhost:8080/"
        },
        "id": "7p-GqUhgqZPG",
        "outputId": "7f1ce9c9-92e3-4549-89b3-f55fb5b09da6"
      },
      "execution_count": 27,
      "outputs": [
        {
          "output_type": "stream",
          "name": "stdout",
          "text": [
            "True\n",
            "False\n"
          ]
        }
      ]
    },
    {
      "cell_type": "markdown",
      "source": [
        "define function to get longest palindrome string"
      ],
      "metadata": {
        "id": "QPwkpRjkqYes"
      }
    },
    {
      "cell_type": "code",
      "source": [
        "# this function first return palindrome string\n",
        "def isPalindrome(s):\n",
        "  return s==s[::-1]\n",
        "\n",
        "#this function return longest palindrome string\n",
        "def longest_Palindrome(Strings):\n",
        "  longest=\"\"\n",
        "  for string in Strings:\n",
        "    if isPalindrome(string) and len(string)>len(longest):\n",
        "      longest=string\n",
        "  return longest\n",
        "\n",
        "series = [\"abc\", \"deed\", \"xyx\", \"python\", \"radar\", \"madam\"]\n",
        "result =longest_Palindrome(series)\n",
        "print(\"Longest palindrome string:\", result)"
      ],
      "metadata": {
        "colab": {
          "base_uri": "https://localhost:8080/"
        },
        "id": "LsZKDBGUroVQ",
        "outputId": "c21a67e7-88f0-49f9-f9ef-64c52d9847d8"
      },
      "execution_count": 30,
      "outputs": [
        {
          "output_type": "stream",
          "name": "stdout",
          "text": [
            "Longest palindrome string: radar\n"
          ]
        }
      ]
    },
    {
      "cell_type": "markdown",
      "source": [
        "Define function to get sqaure root of a number"
      ],
      "metadata": {
        "id": "ha_j8giTqTQf"
      }
    },
    {
      "cell_type": "code",
      "source": [
        "def square_root(number, precision=0.0001):\n",
        "    \"\"\"Calculate the square root of a number using the Babylonian method.\"\"\"\n",
        "    if number < 0:\n",
        "        raise ValueError(\"Square root is undefined for negative numbers.\")\n",
        "\n",
        "    guess = number  # Initial guess\n",
        "\n",
        "    while abs(guess * guess - number) > precision:\n",
        "        guess = (guess + number / guess) / 2\n",
        "\n",
        "    return guess\n",
        "result = square_root(25)\n",
        "print(result)"
      ],
      "metadata": {
        "colab": {
          "base_uri": "https://localhost:8080/"
        },
        "id": "njwb4dn5ow4g",
        "outputId": "012c10b0-65cc-48ce-80fd-2413403c4168"
      },
      "execution_count": 31,
      "outputs": [
        {
          "output_type": "stream",
          "name": "stdout",
          "text": [
            "5.000000000053722\n"
          ]
        }
      ]
    },
    {
      "cell_type": "code",
      "source": [],
      "metadata": {
        "id": "1rnKqUbhs2TH"
      },
      "execution_count": null,
      "outputs": []
    }
  ]
}